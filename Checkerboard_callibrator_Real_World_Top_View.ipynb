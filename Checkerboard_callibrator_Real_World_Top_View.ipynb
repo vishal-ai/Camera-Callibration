{
 "cells": [
  {
   "cell_type": "code",
   "execution_count": 13,
   "metadata": {},
   "outputs": [],
   "source": [
    "import cv2\n",
    "import glob\n",
    "import numpy as np\n",
    "import matplotlib.pyplot as plt\n",
    "import os"
   ]
  },
  {
   "cell_type": "code",
   "execution_count": 14,
   "metadata": {},
   "outputs": [],
   "source": [
    "dirs = [\"./180/*\"]"
   ]
  },
  {
   "cell_type": "code",
   "execution_count": 15,
   "metadata": {},
   "outputs": [
    {
     "data": {
      "text/plain": [
       "['./180/c1_180.mp4',\n",
       " './180/c3_180.mp4',\n",
       " './180/c2_180.mp4',\n",
       " './180/c4_180.mp4']"
      ]
     },
     "execution_count": 15,
     "metadata": {},
     "output_type": "execute_result"
    }
   ],
   "source": [
    "glob.glob(dirs[0])"
   ]
  },
  {
   "cell_type": "code",
   "execution_count": 16,
   "metadata": {},
   "outputs": [
    {
     "name": "stdout",
     "output_type": "stream",
     "text": [
      "./180/c1_180.mp4\n",
      "512\n",
      "Exception occurred\n",
      "Exception occurred\n",
      "0.1 20\n",
      "total error: 0.2623064735592111 for scaling of 0.1 with 20 number of images for file ./180/c1_180.mp4\n",
      "Exception occurred\n",
      "Exception occurred\n",
      "0.2 20\n",
      "total error: 0.23685816354426892 for scaling of 0.2 with 20 number of images for file ./180/c1_180.mp4\n",
      "Exception occurred\n",
      "Exception occurred\n",
      "0.30000000000000004 20\n",
      "total error: 0.22526598765421452 for scaling of 0.30000000000000004 with 20 number of images for file ./180/c1_180.mp4\n",
      "./180/c3_180.mp4\n",
      "518\n",
      "Exception occurred\n",
      "Exception occurred\n",
      "0.1 18\n",
      "total error: 0.33512717147664084 for scaling of 0.1 with 18 number of images for file ./180/c3_180.mp4\n",
      "Exception occurred\n",
      "Exception occurred\n",
      "0.2 20\n",
      "total error: 0.564073005815647 for scaling of 0.2 with 20 number of images for file ./180/c3_180.mp4\n",
      "Exception occurred\n",
      "Exception occurred\n",
      "0.30000000000000004 20\n",
      "total error: 0.5757731270615846 for scaling of 0.30000000000000004 with 20 number of images for file ./180/c3_180.mp4\n",
      "./180/c2_180.mp4\n",
      "493\n",
      "Exception occurred\n",
      "Exception occurred\n",
      "0.1 18\n",
      "total error: 0.2761270443445008 for scaling of 0.1 with 18 number of images for file ./180/c2_180.mp4\n",
      "Exception occurred\n",
      "Exception occurred\n",
      "0.2 20\n",
      "total error: 0.5706285908208374 for scaling of 0.2 with 20 number of images for file ./180/c2_180.mp4\n",
      "Exception occurred\n",
      "Exception occurred\n",
      "0.30000000000000004 20\n",
      "total error: 0.5854226900833333 for scaling of 0.30000000000000004 with 20 number of images for file ./180/c2_180.mp4\n",
      "./180/c4_180.mp4\n",
      "511\n",
      "Exception occurred\n",
      "Exception occurred\n",
      "0.1 18\n",
      "total error: 0.2265053747577292 for scaling of 0.1 with 18 number of images for file ./180/c4_180.mp4\n",
      "Exception occurred\n",
      "Exception occurred\n",
      "0.2 6\n",
      "total error: 0.17304506051350343 for scaling of 0.2 with 6 number of images for file ./180/c4_180.mp4\n",
      "Exception occurred\n",
      "Exception occurred\n",
      "0.30000000000000004 5\n",
      "total error: 0.10859697701415937 for scaling of 0.30000000000000004 with 5 number of images for file ./180/c4_180.mp4\n"
     ]
    }
   ],
   "source": [
    "global_dict_no_eq = {}\n",
    "for d in dirs:\n",
    "    flist = glob.glob(d)\n",
    "    for vf in flist:\n",
    "        print(vf)\n",
    "        vidcap = cv2.VideoCapture(vf)\n",
    "\n",
    "        files = glob.glob(\"./vid_hard_check/*\")\n",
    "        for fl in files:\n",
    "            os.remove(fl)\n",
    "\n",
    "        success,image = vidcap.read()\n",
    "        count = 0\n",
    "        success = True\n",
    "        while success:\n",
    "            success,image = vidcap.read()\n",
    "            cv2.imwrite(\"./vid_hard_check/frame%d.png\" % count, image)     # save frame as PNG file\n",
    "            if cv2.waitKey(10) == 27:                     # exit if Escape is hit\n",
    "                break\n",
    "            count += 1\n",
    "\n",
    "        print(count)\n",
    "#         count = 512\n",
    "        nx = 5\n",
    "        ny = 5\n",
    "        bins = 6\n",
    "        \n",
    "        \n",
    "        interval = count/bins\n",
    "\n",
    "        mesh = np.mgrid[0:nx, 0:ny].T.reshape(-1,2)\n",
    "        objp = np.hstack((mesh, np.zeros(shape = (nx*ny,1))))\n",
    "        objp = np.array(objp, dtype = np.float32)*20.0\n",
    "\n",
    "        fname = sorted(glob.glob('./vid_hard_check/*.png'))\n",
    "        \n",
    "        for j in range(1,4):\n",
    "\n",
    "            imgpoints = []\n",
    "            imeval = []\n",
    "            objpoints = []\n",
    "            imgpoints2_list = []\n",
    "            detected_list = []\n",
    "            bin_error = []\n",
    "            im_counter = 0\n",
    "            bincount = np.zeros(6)\n",
    "            fx = j*0.1\n",
    "            fy = j*0.1\n",
    "            for i in range(len(fname)):\n",
    "            #     for i in range(1,11):\n",
    "                try:\n",
    "                    f = \"./vid_hard_check/frame{}.png\".format(i+1)\n",
    "#                     print(f)\n",
    "                    imcv = cv2.imread(f)\n",
    "#                     print(\"Read file\")\n",
    "                    imcv = cv2.cvtColor(imcv, cv2.COLOR_BGR2GRAY)\n",
    "#                     cli = cv2.createCLAHE(clipLimit = cl)\n",
    "#                     imcv = cli.apply(imcv)\n",
    "                    imcv = cv2.GaussianBlur(imcv, ksize = (5,5), sigmaX = 1, sigmaY = 1)\n",
    "                    imcv = cv2.resize(imcv, (0, 0), fx=fx, fy=fy, interpolation=cv2.INTER_AREA)\n",
    "                    img = imcv\n",
    "#                     print(\"Print 1\")\n",
    "\n",
    "                    retval, corners = cv2.findChessboardCorners(imcv,(nx,ny), None)\n",
    "#                     print(\"Print 2\")\n",
    "                    if (retval == True):\n",
    "                        detected_list.append(f)\n",
    "                        if ((i < int(count/2 + 10)) and (i >= int(count/2 - 10))):\n",
    "                            imeval.append((corners,im_counter))\n",
    "                    \n",
    "                        imgpoints.append(corners)\n",
    "                        objpoints.append(objp)\n",
    "                        im_counter += 1\n",
    "                except Exception as e:\n",
    "                    print(\"Exception occurred\")\n",
    "\n",
    "            print(fx, len(imeval))\n",
    "            mean_error = 1.0\n",
    "            mtx = dist = rvecs = tvecs = []\n",
    "            if (len(objpoints) != 0):\n",
    "                retval, mtx, dist, rvecs, tvecs = cv2.calibrateCamera(objpoints, imgpoints, img.shape[::-1], None, None)\n",
    "                mean_error = 0.0\n",
    "                \n",
    "#                 st = 0\n",
    "#                 for b in range(bins):\n",
    "#                     berror = 0.0\n",
    "#                     if b != 0 :\n",
    "#                         st += bincount[b-1]\n",
    "#                     else: \n",
    "#                         st = 0\n",
    "#                     end = st + bincount[b]\n",
    "# #                     print(int(st),int(end))\n",
    "#                     for i in range(int(st),int(end)):\n",
    "#                         sp = imgpoints[i]\n",
    "#                         objp = objpoints[i]\n",
    "#                         src = np.array([[[sp[0,0,0], sp[0,0,1]], [sp[4,0,0], sp[4,0,1]], [sp[24,0,0], sp[24,0,1]], [sp[20,0,0], sp[20,0,1]]]],dtype=np.float32)\n",
    "#                         dst = np.array([[[objp[0,0], objp[0,1]], [objp[4,0], objp[4,1]], [objp[24,0], objp[24,1]], [objp[20,0], objp[20,1]]]],dtype=np.float32)\n",
    "#                         PM = cv2.getPerspectiveTransform(src,dst)\n",
    "#                         sp = np.reshape(sp, newshape=(1,sp.shape[0], sp.shape[2]))\n",
    "#                         obj = np.reshape(objp[:,:2], newshape=(1,objp.shape[0],2))\n",
    "#                         clanded_real = cv2.perspectiveTransform(sp,PM)\n",
    "#                         res = cv2.norm(clanded_real, obj, cv2.NORM_L2)\n",
    "#                         res = np.sqrt(res**2/clanded_real.shape[1])\n",
    "#                         berror += res\n",
    "#                     if bincount[b] != 0:\n",
    "#                         bin_error.append(berror/bincount[b])\n",
    "#                     else:\n",
    "#                         bin_error = 1.0\n",
    "\n",
    "                for i in range(len(imeval)):\n",
    "                    sp = imeval[i][0]\n",
    "                    objp = objpoints[i]\n",
    "                    src = np.array([[[sp[0,0,0], sp[0,0,1]], [sp[4,0,0], sp[4,0,1]], [sp[24,0,0], sp[24,0,1]], [sp[20,0,0], sp[20,0,1]]]],dtype=np.float32)\n",
    "                    dst = np.array([[[objp[0,0], objp[0,1]], [objp[4,0], objp[4,1]], [objp[24,0], objp[24,1]], [objp[20,0], objp[20,1]]]],dtype=np.float32)\n",
    "                    PM = cv2.getPerspectiveTransform(src,dst)\n",
    "                    ind = imeval[i][1]\n",
    "                    imgpoints2, _ = cv2.projectPoints(objpoints[ind], rvecs[ind], tvecs[ind], mtx, dist)\n",
    "                    sp = np.reshape(sp, newshape=(1,sp.shape[0], sp.shape[2]))\n",
    "                    dp = np.reshape(imgpoints2, newshape=(1,imgpoints2.shape[0], 2))\n",
    "                    slanded_real = cv2.perspectiveTransform(sp,PM)\n",
    "                    dlanded_real = cv2.perspectiveTransform(dp,PM)\n",
    "                    res = cv2.norm(slanded_real, dlanded_real, cv2.NORM_L2)\n",
    "                    res = np.sqrt(res**2/slanded_real.shape[1])\n",
    "                    mean_error += res\n",
    "                print( \"total error: {} for scaling of {} with {} number of images for file {}\".format(mean_error/(len(imeval)+0.00001), fx, len(imeval), vf))\n",
    "\n",
    "            if vf not in global_dict_no_eq:\n",
    "                global_dict_no_eq[vf] = []\n",
    "\n",
    "            global_dict_no_eq[vf].append([fx, len(imeval), mean_error/(len(imeval)+0.00001), mtx, dist])"
   ]
  },
  {
   "cell_type": "code",
   "execution_count": 17,
   "metadata": {},
   "outputs": [],
   "source": [
    "# import pickle\n",
    "# pickle_out = open(\"180_4_real.pickle\",\"wb\")\n",
    "# pickle.dump(global_dict_no_eq, pickle_out)\n",
    "# pickle_out.close()"
   ]
  },
  {
   "cell_type": "code",
   "execution_count": 18,
   "metadata": {},
   "outputs": [
    {
     "data": {
      "text/plain": [
       "['./180/c1_180.mp4',\n",
       " './180/c2_180.mp4',\n",
       " './180/c3_180.mp4',\n",
       " './180/c4_180.mp4']"
      ]
     },
     "execution_count": 18,
     "metadata": {},
     "output_type": "execute_result"
    }
   ],
   "source": [
    "sorted(flist)"
   ]
  },
  {
   "cell_type": "code",
   "execution_count": 19,
   "metadata": {},
   "outputs": [],
   "source": [
    "plotter = []"
   ]
  },
  {
   "cell_type": "code",
   "execution_count": 20,
   "metadata": {},
   "outputs": [],
   "source": [
    "for key in sorted(flist):\n",
    "    l = global_dict_no_eq[key]\n",
    "    plot = []\n",
    "    plot.append(l[0][2])\n",
    "    plot.append(l[1][2])\n",
    "    plot.append(l[2][2])\n",
    "    plotter.append(plot)"
   ]
  },
  {
   "cell_type": "code",
   "execution_count": 21,
   "metadata": {},
   "outputs": [
    {
     "data": {
      "text/html": [
       "        <script type=\"text/javascript\">\n",
       "        window.PlotlyConfig = {MathJaxConfig: 'local'};\n",
       "        if (window.MathJax) {MathJax.Hub.Config({SVG: {font: \"STIX-Web\"}});}\n",
       "        if (typeof require !== 'undefined') {\n",
       "        require.undef(\"plotly\");\n",
       "        requirejs.config({\n",
       "            paths: {\n",
       "                'plotly': ['https://cdn.plot.ly/plotly-latest.min']\n",
       "            }\n",
       "        });\n",
       "        require(['plotly'], function(Plotly) {\n",
       "            window._Plotly = Plotly;\n",
       "        });\n",
       "        }\n",
       "        </script>\n",
       "        "
      ]
     },
     "metadata": {},
     "output_type": "display_data"
    }
   ],
   "source": [
    "import plotly as py\n",
    "import plotly.graph_objs as go\n",
    "import ipywidgets as widgets\n",
    "\n",
    "py.offline.init_notebook_mode(connected=True)"
   ]
  },
  {
   "cell_type": "code",
   "execution_count": 22,
   "metadata": {},
   "outputs": [],
   "source": [
    "layout1 = go.Layout(\n",
    "    title='Real RMSE Error Plot',\n",
    "    yaxis = dict(title='error'),\n",
    "    xaxis = dict(title='fx')\n",
    ")\n",
    "\n",
    "trace11 = go.Scatter(\n",
    "    x = (np.arange(3)+1)*0.1,\n",
    "    y = plotter[0],\n",
    "    mode='lines+markers'\n",
    ")\n",
    "\n",
    "trace12 = go.Scatter(\n",
    "    x = (np.arange(3)+1)*0.1,\n",
    "    y = plotter[1],\n",
    "    mode='lines+markers'\n",
    ")\n",
    "\n",
    "trace13 = go.Scatter(\n",
    "    x = (np.arange(3)+1)*0.1,\n",
    "    y = plotter[2],\n",
    "    mode='lines+markers'\n",
    ")\n",
    "\n",
    "trace14 = go.Scatter(\n",
    "    x = (np.arange(3)+1)*0.1,\n",
    "    y = plotter[3],\n",
    "    mode='lines+markers'\n",
    ")\n",
    "\n",
    "\n",
    "# layout2 = go.Layout(\n",
    "#     title='Real RMSE Error Plot(fx = 0.2)',\n",
    "#     yaxis = dict(title='error'),\n",
    "#     xaxis = dict(title='bins')\n",
    "# )\n",
    "\n",
    "# trace21 = go.Scatter(\n",
    "#     x = np.arange(6),\n",
    "#     y = plot_dict2['./180/c1_180.mp4'],\n",
    "#     mode='lines+markers'\n",
    "# )\n",
    "\n",
    "# trace22 = go.Scatter(\n",
    "#     x = np.arange(6),\n",
    "#     y = plot_dict2['./180/c2_180.mp4'],\n",
    "#     mode='lines+markers'\n",
    "# )\n",
    "\n",
    "# trace23 = go.Scatter(\n",
    "#     x = np.arange(6),\n",
    "#     y = plot_dict2['./180/c3_180.mp4'],\n",
    "#     mode='lines+markers'\n",
    "# )\n",
    "\n",
    "# trace24 = go.Scatter(\n",
    "#     x = np.arange(6),\n",
    "#     y = plot_dict2['./180/c4_180.mp4'],\n",
    "#     mode='lines+markers'\n",
    "# )\n",
    "\n",
    "\n",
    "# layout3 = go.Layout(\n",
    "#     title='Real RMSE Error Plot(fx = 0.3)',\n",
    "#     yaxis = dict(title='error'),\n",
    "#     xaxis = dict(title='bins')\n",
    "# )\n",
    "\n",
    "# trace31 = go.Scatter(\n",
    "#     x = np.arange(6),\n",
    "#     y = plot_dict3['./180/c1_180.mp4'],\n",
    "#     mode='lines+markers'\n",
    "# )\n",
    "\n",
    "# trace32 = go.Scatter(\n",
    "#     x = np.arange(6),\n",
    "#     y = plot_dict3['./180/c2_180.mp4'],\n",
    "#     mode='lines+markers'\n",
    "# )\n",
    "\n",
    "# trace33 = go.Scatter(\n",
    "#     x = np.arange(6),\n",
    "#     y = plot_dict3['./180/c3_180.mp4'],\n",
    "#     mode='lines+markers'\n",
    "# )\n",
    "\n",
    "# trace34 = go.Scatter(\n",
    "#     x = np.arange(6),\n",
    "#     y = plot_dict3['./180/c4_180.mp4'],\n",
    "#     mode='lines+markers'\n",
    "# )"
   ]
  },
  {
   "cell_type": "code",
   "execution_count": 23,
   "metadata": {},
   "outputs": [],
   "source": [
    "fig1 = go.Figure(data=[trace11,trace12,trace13,trace14], layout=layout1)"
   ]
  },
  {
   "cell_type": "code",
   "execution_count": 24,
   "metadata": {},
   "outputs": [
    {
     "data": {
      "application/vnd.plotly.v1+json": {
       "config": {
        "linkText": "Export to plot.ly",
        "plotlyServerURL": "https://plot.ly",
        "showLink": false
       },
       "data": [
        {
         "mode": "lines+markers",
         "type": "scatter",
         "uid": "007a3950-a5ca-4ecd-a2d7-9ff1e39abac7",
         "x": [
          0.1,
          0.2,
          0.30000000000000004
         ],
         "y": [
          0.2623064735592111,
          0.23685816354426892,
          0.22526598765421452
         ]
        },
        {
         "mode": "lines+markers",
         "type": "scatter",
         "uid": "820c2c45-512c-4fe7-a71c-db4d9f8b441a",
         "x": [
          0.1,
          0.2,
          0.30000000000000004
         ],
         "y": [
          0.2761270443445008,
          0.5706285908208374,
          0.5854226900833333
         ]
        },
        {
         "mode": "lines+markers",
         "type": "scatter",
         "uid": "437dc629-509d-4cb0-9e9c-cbe57760bf99",
         "x": [
          0.1,
          0.2,
          0.30000000000000004
         ],
         "y": [
          0.33512717147664084,
          0.564073005815647,
          0.5757731270615846
         ]
        },
        {
         "mode": "lines+markers",
         "type": "scatter",
         "uid": "b911bfa8-0226-45dc-a84c-48db3cfb46b9",
         "x": [
          0.1,
          0.2,
          0.30000000000000004
         ],
         "y": [
          0.2265053747577292,
          0.17304506051350343,
          0.10859697701415937
         ]
        }
       ],
       "layout": {
        "title": {
         "text": "Real RMSE Error Plot"
        },
        "xaxis": {
         "title": {
          "text": "fx"
         }
        },
        "yaxis": {
         "title": {
          "text": "error"
         }
        }
       }
      },
      "text/html": [
       "<div>\n",
       "        \n",
       "        \n",
       "            <div id=\"3fd625ae-fbd9-4a4d-b4a0-b52ef9fc6242\" class=\"plotly-graph-div\" style=\"height:525px; width:100%;\"></div>\n",
       "            <script type=\"text/javascript\">\n",
       "                require([\"plotly\"], function(Plotly) {\n",
       "                    window.PLOTLYENV=window.PLOTLYENV || {};\n",
       "                    window.PLOTLYENV.BASE_URL='https://plot.ly';\n",
       "                    \n",
       "                if (document.getElementById(\"3fd625ae-fbd9-4a4d-b4a0-b52ef9fc6242\")) {\n",
       "                    Plotly.newPlot(\n",
       "                        '3fd625ae-fbd9-4a4d-b4a0-b52ef9fc6242',\n",
       "                        [{\"mode\": \"lines+markers\", \"type\": \"scatter\", \"uid\": \"007a3950-a5ca-4ecd-a2d7-9ff1e39abac7\", \"x\": [0.1, 0.2, 0.30000000000000004], \"y\": [0.2623064735592111, 0.23685816354426892, 0.22526598765421452]}, {\"mode\": \"lines+markers\", \"type\": \"scatter\", \"uid\": \"820c2c45-512c-4fe7-a71c-db4d9f8b441a\", \"x\": [0.1, 0.2, 0.30000000000000004], \"y\": [0.2761270443445008, 0.5706285908208374, 0.5854226900833333]}, {\"mode\": \"lines+markers\", \"type\": \"scatter\", \"uid\": \"437dc629-509d-4cb0-9e9c-cbe57760bf99\", \"x\": [0.1, 0.2, 0.30000000000000004], \"y\": [0.33512717147664084, 0.564073005815647, 0.5757731270615846]}, {\"mode\": \"lines+markers\", \"type\": \"scatter\", \"uid\": \"b911bfa8-0226-45dc-a84c-48db3cfb46b9\", \"x\": [0.1, 0.2, 0.30000000000000004], \"y\": [0.2265053747577292, 0.17304506051350343, 0.10859697701415937]}],\n",
       "                        {\"title\": {\"text\": \"Real RMSE Error Plot\"}, \"xaxis\": {\"title\": {\"text\": \"fx\"}}, \"yaxis\": {\"title\": {\"text\": \"error\"}}},\n",
       "                        {\"showLink\": false, \"linkText\": \"Export to plot.ly\", \"plotlyServerURL\": \"https://plot.ly\", \"responsive\": true}\n",
       "                    ).then(function(){\n",
       "                            \n",
       "var gd = document.getElementById('3fd625ae-fbd9-4a4d-b4a0-b52ef9fc6242');\n",
       "var x = new MutationObserver(function (mutations, observer) {{\n",
       "        var display = window.getComputedStyle(gd).display;\n",
       "        if (!display || display === 'none') {{\n",
       "            console.log([gd, 'removed!']);\n",
       "            Plotly.purge(gd);\n",
       "            observer.disconnect();\n",
       "        }}\n",
       "}});\n",
       "\n",
       "// Listen for the removal of the full notebook cells\n",
       "var notebookContainer = gd.closest('#notebook-container');\n",
       "if (notebookContainer) {{\n",
       "    x.observe(notebookContainer, {childList: true});\n",
       "}}\n",
       "\n",
       "// Listen for the clearing of the current output cell\n",
       "var outputEl = gd.closest('.output');\n",
       "if (outputEl) {{\n",
       "    x.observe(outputEl, {childList: true});\n",
       "}}\n",
       "\n",
       "                        })\n",
       "                };\n",
       "                });\n",
       "            </script>\n",
       "        </div>"
      ]
     },
     "metadata": {},
     "output_type": "display_data"
    }
   ],
   "source": [
    "py.offline.iplot(fig1)\n",
    "# py.offline.iplot(fig2)\n",
    "# py.offline.iplot(fig3)"
   ]
  },
  {
   "cell_type": "code",
   "execution_count": null,
   "metadata": {},
   "outputs": [],
   "source": []
  }
 ],
 "metadata": {
  "kernelspec": {
   "display_name": "Python 3",
   "language": "python",
   "name": "python3"
  },
  "language_info": {
   "codemirror_mode": {
    "name": "ipython",
    "version": 3
   },
   "file_extension": ".py",
   "mimetype": "text/x-python",
   "name": "python",
   "nbconvert_exporter": "python",
   "pygments_lexer": "ipython3",
   "version": "3.7.3"
  }
 },
 "nbformat": 4,
 "nbformat_minor": 2
}
