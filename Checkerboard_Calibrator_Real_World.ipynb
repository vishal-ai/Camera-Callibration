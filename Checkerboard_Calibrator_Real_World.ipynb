{
 "cells": [
  {
   "cell_type": "markdown",
   "metadata": {},
   "source": [
    "## Checkerboard Calibration, Mean Real World error across all and across bins"
   ]
  },
  {
   "cell_type": "code",
   "execution_count": 5,
   "metadata": {},
   "outputs": [],
   "source": [
    "import cv2\n",
    "import glob\n",
    "import numpy as np\n",
    "import matplotlib.pyplot as plt\n",
    "import os\n",
    "import pickle"
   ]
  },
  {
   "cell_type": "code",
   "execution_count": 6,
   "metadata": {},
   "outputs": [],
   "source": [
    "dirs = [\"./180/\"]"
   ]
  },
  {
   "cell_type": "code",
   "execution_count": 4,
   "metadata": {},
   "outputs": [],
   "source": [
    "if not (os.path.exists(\"./vid_hard_check/\")):\n",
    "    os.makedirs(\"./vid_hard_check/\")"
   ]
  },
  {
   "cell_type": "code",
   "execution_count": 12,
   "metadata": {},
   "outputs": [
    {
     "name": "stdout",
     "output_type": "stream",
     "text": [
      "./180/c1_180.mp4\n",
      "512\n",
      "0.1 161\n"
     ]
    },
    {
     "ename": "AttributeError",
     "evalue": "'float' object has no attribute 'append'",
     "output_type": "error",
     "traceback": [
      "\u001b[0;31m---------------------------------------------------------------------------\u001b[0m",
      "\u001b[0;31mAttributeError\u001b[0m                            Traceback (most recent call last)",
      "\u001b[0;32m<ipython-input-12-f4c89f3abc6b>\u001b[0m in \u001b[0;36m<module>\u001b[0;34m\u001b[0m\n\u001b[1;32m    106\u001b[0m                         \u001b[0mberror\u001b[0m \u001b[0;34m+=\u001b[0m \u001b[0mres\u001b[0m\u001b[0;34m\u001b[0m\u001b[0;34m\u001b[0m\u001b[0m\n\u001b[1;32m    107\u001b[0m                     \u001b[0;32mif\u001b[0m \u001b[0mbincount\u001b[0m\u001b[0;34m[\u001b[0m\u001b[0mb\u001b[0m\u001b[0;34m]\u001b[0m \u001b[0;34m!=\u001b[0m \u001b[0;36m0\u001b[0m\u001b[0;34m:\u001b[0m\u001b[0;34m\u001b[0m\u001b[0;34m\u001b[0m\u001b[0m\n\u001b[0;32m--> 108\u001b[0;31m                         \u001b[0mbin_error\u001b[0m\u001b[0;34m.\u001b[0m\u001b[0mappend\u001b[0m\u001b[0;34m(\u001b[0m\u001b[0mberror\u001b[0m\u001b[0;34m/\u001b[0m\u001b[0mbincount\u001b[0m\u001b[0;34m[\u001b[0m\u001b[0mb\u001b[0m\u001b[0;34m]\u001b[0m\u001b[0;34m)\u001b[0m\u001b[0;34m\u001b[0m\u001b[0;34m\u001b[0m\u001b[0m\n\u001b[0m\u001b[1;32m    109\u001b[0m                     \u001b[0;32melse\u001b[0m\u001b[0;34m:\u001b[0m\u001b[0;34m\u001b[0m\u001b[0;34m\u001b[0m\u001b[0m\n\u001b[1;32m    110\u001b[0m                         \u001b[0mbin_error\u001b[0m \u001b[0;34m=\u001b[0m \u001b[0;36m1.0\u001b[0m\u001b[0;34m\u001b[0m\u001b[0;34m\u001b[0m\u001b[0m\n",
      "\u001b[0;31mAttributeError\u001b[0m: 'float' object has no attribute 'append'"
     ]
    }
   ],
   "source": [
    "global_dict_no_eq = {}\n",
    "for d in dirs:\n",
    "    flist = sorted(glob.glob(os.path.join(d, \"*.mp4\")))\n",
    "    for vf in flist:\n",
    "        print(vf)\n",
    "        vidcap = cv2.VideoCapture(vf)\n",
    "\n",
    "        files = glob.glob(\"./vid_hard_check/*\")\n",
    "        for fl in files:\n",
    "            os.remove(fl)\n",
    "\n",
    "        success,image = vidcap.read()\n",
    "        count = 0\n",
    "        success = True\n",
    "        while success:\n",
    "            success,image = vidcap.read()\n",
    "            cv2.imwrite(\"./vid_hard_check/frame%d.png\" % count, image)     # save frame as PNG file\n",
    "            if cv2.waitKey(10) == 27:                     # exit if Escape is hit\n",
    "                break\n",
    "            count += 1\n",
    "\n",
    "        print(count)\n",
    "        count = 512\n",
    "\n",
    "        nx = 5\n",
    "        ny = 5\n",
    "        bins = 6\n",
    "        \n",
    "\n",
    "        interval = count/bins\n",
    "\n",
    "        mesh = np.mgrid[0:nx, 0:ny].T.reshape(-1,2)\n",
    "        objp = np.hstack((mesh, np.zeros(shape = (nx*ny,1))))\n",
    "        objp = np.array(objp, dtype = np.float32)*20.0\n",
    "\n",
    "        fname = glob.glob('./vid_hard_check/*.png')\n",
    "        \n",
    "        for j in range(1,4):\n",
    "\n",
    "            imgpoints = []\n",
    "            objpoints = []\n",
    "            imgpoints2_list = []\n",
    "            detected_list = []\n",
    "            bin_error = []\n",
    "            bincount = np.zeros(6)\n",
    "            fx = j*0.1\n",
    "            fy = j*0.1\n",
    "            for i in range(len(fname)):\n",
    "                try:\n",
    "                    f = \"./vid_hard_check/frame{}.png\".format(i+1)\n",
    "                    imcv = cv2.imread(f)\n",
    "                    imcv = cv2.cvtColor(imcv, cv2.COLOR_BGR2GRAY)\n",
    "                    \n",
    "####### Uncomment below two lines to apply histogram equalization for removing shiny effects, cl = 2, 5 or 10 work best #####                    \n",
    "\n",
    "#                     cli = cv2.createCLAHE(clipLimit = cl)\n",
    "#                     imcv = cli.apply(imcv)\n",
    "\n",
    "                    imcv = cv2.GaussianBlur(imcv, ksize = (5,5), sigmaX = 1, sigmaY = 1)\n",
    "                    imcv = cv2.resize(imcv, (0, 0), fx=fx, fy=fy, interpolation=cv2.INTER_AREA)\n",
    "                    img = imcv\n",
    "\n",
    "                    retval, corners = cv2.findChessboardCorners(imcv,(nx,ny), None)\n",
    "                    if (retval == True):\n",
    "\n",
    "                        detected_list.append(f)            \n",
    "###### Uncomment below lines to plot the detected checkerboard corners #######\n",
    "\n",
    "#                         plt.figure()\n",
    "#                         cv2.drawChessboardCorners(imcv, (nx, ny), corners, retval)\n",
    "#                         plt.imshow(imcv)\n",
    "                        imgpoints.append(corners)\n",
    "                        objpoints.append(objp)\n",
    "\n",
    "                        bincount[int(i/interval)] += 1\n",
    "                              \n",
    "                except Exception as e:\n",
    "                    print(\"Exception occured {}\".format(e))\n",
    "\n",
    "            print(fx, len(objpoints))\n",
    "            mean_error = 1.0\n",
    "            mtx = dist = rvecs = tvecs = []\n",
    "            if (len(objpoints) != 0):\n",
    "                retval, mtx, dist, rvecs, tvecs = cv2.calibrateCamera(objpoints, imgpoints, img.shape[::-1], None, None)\n",
    "                mean_error = 0.0\n",
    "                \n",
    "                tot_len = len(objpoints)\n",
    "                st = 0\n",
    "                for b in range(bins):\n",
    "                    berror = 0.0\n",
    "                    if b != 0 :\n",
    "                        st += bincount[b-1]\n",
    "                    else: \n",
    "                        st = 0\n",
    "                    end = st + bincount[b]\n",
    "                    for i in range(int(st),int(end)):\n",
    "                        sp = imgpoints[i]\n",
    "                        objp = objpoints[i]\n",
    "                        src = np.array([[[sp[0,0,0], sp[0,0,1]], [sp[4,0,0], sp[4,0,1]], [sp[24,0,0], sp[24,0,1]], [sp[20,0,0], sp[20,0,1]]]],dtype=np.float32)\n",
    "                        dst = np.array([[[objp[0,0], objp[0,1]], [objp[4,0], objp[4,1]], [objp[24,0], objp[24,1]], [objp[20,0], objp[20,1]]]],dtype=np.float32)\n",
    "                        PM = cv2.getPerspectiveTransform(src,dst)\n",
    "                        imgpoints2, _ = cv2.projectPoints(objpoints[i], rvecs[i], tvecs[i], mtx, dist)\n",
    "                        sp = np.reshape(sp, newshape=(1,sp.shape[0], sp.shape[2]))\n",
    "                        dp = np.reshape(imgpoints2, newshape=(1,imgpoints2.shape[0], 2))\n",
    "                        slanded_real = cv2.perspectiveTransform(sp,PM)\n",
    "                        dlanded_real = cv2.perspectiveTransform(dp,PM)\n",
    "                        res = cv2.norm(slanded_real, dlanded_real, cv2.NORM_L2)\n",
    "                        res = np.sqrt(res**2/slanded_real.shape[1])\n",
    "                        berror += res\n",
    "                    if bincount[b] != 0:\n",
    "                        bin_error.append(berror/bincount[b])\n",
    "                    else:\n",
    "                        bin_error = 1.0\n",
    "\n",
    "                for i in range(len(objpoints)):\n",
    "                    sp = imgpoints[i]\n",
    "                    objp = objpoints[i]\n",
    "                    src = np.array([[[sp[0,0,0], sp[0,0,1]], [sp[4,0,0], sp[4,0,1]], [sp[24,0,0], sp[24,0,1]], [sp[20,0,0], sp[20,0,1]]]],dtype=np.float32)\n",
    "                    dst = np.array([[[objp[0,0], objp[0,1]], [objp[4,0], objp[4,1]], [objp[24,0], objp[24,1]], [objp[20,0], objp[20,1]]]],dtype=np.float32)\n",
    "                    PM = cv2.getPerspectiveTransform(src,dst)\n",
    "                    imgpoints2, _ = cv2.projectPoints(objpoints[i], rvecs[i], tvecs[i], mtx, dist)\n",
    "                    sp = np.reshape(sp, newshape=(1,sp.shape[0], sp.shape[2]))\n",
    "                    dp = np.reshape(imgpoints2, newshape=(1,imgpoints2.shape[0], 2))\n",
    "                    slanded_real = cv2.perspectiveTransform(sp,PM)\n",
    "                    dlanded_real = cv2.perspectiveTransform(dp,PM)\n",
    "                    res = cv2.norm(slanded_real, dlanded_real, cv2.NORM_L2)\n",
    "                    res = np.sqrt(res**2/slanded_real.shape[1])\n",
    "                    mean_error += res\n",
    "                print( \"total error: {} for scaling of {} with {} number of images for file {}\".format(mean_error/len(objpoints), fx, len(objpoints), vf))\n",
    "\n",
    "            if vf not in global_dict_no_eq:\n",
    "                global_dict_no_eq[vf] = []\n",
    "\n",
    "            global_dict_no_eq[vf].append([fx, len(objpoints), mean_error/(len(objpoints)+0.00001), mtx, dist,detected_list,imgpoints, bin_error, bincount])"
   ]
  },
  {
   "cell_type": "code",
   "execution_count": 29,
   "metadata": {},
   "outputs": [],
   "source": [
    "pickle_out = open(\"180_4_real.pickle\",\"wb\")\n",
    "pickle.dump(global_dict_no_eq, pickle_out)\n",
    "pickle_out.close()"
   ]
  },
  {
   "cell_type": "markdown",
   "metadata": {},
   "source": [
    "## Plotting Real world error across bins"
   ]
  },
  {
   "cell_type": "code",
   "execution_count": 30,
   "metadata": {},
   "outputs": [],
   "source": [
    "plot_dict1 = {}\n",
    "plot_dict2 = {}\n",
    "plot_dict3 = {}\n",
    "\n",
    "\n",
    "bin_dict1 = {}\n",
    "bin_dict2 = {}\n",
    "bin_dict3 = {}\n"
   ]
  },
  {
   "cell_type": "code",
   "execution_count": 31,
   "metadata": {},
   "outputs": [],
   "source": [
    "for key in global_dict_no_eq:\n",
    "    l = global_dict_no_eq[key]\n",
    "    plot_dict1[key] = l[0][7]\n",
    "    bin_dict1[key] = l[0][8]\n",
    "    plot_dict2[key] = l[1][7]\n",
    "    bin_dict2[key] = l[1][8]\n",
    "    plot_dict3[key] = l[2][7]\n",
    "    bin_dict3[key] = l[2][8]"
   ]
  },
  {
   "cell_type": "code",
   "execution_count": 33,
   "metadata": {},
   "outputs": [
    {
     "data": {
      "text/html": [
       "        <script type=\"text/javascript\">\n",
       "        window.PlotlyConfig = {MathJaxConfig: 'local'};\n",
       "        if (window.MathJax) {MathJax.Hub.Config({SVG: {font: \"STIX-Web\"}});}\n",
       "        if (typeof require !== 'undefined') {\n",
       "        require.undef(\"plotly\");\n",
       "        requirejs.config({\n",
       "            paths: {\n",
       "                'plotly': ['https://cdn.plot.ly/plotly-latest.min']\n",
       "            }\n",
       "        });\n",
       "        require(['plotly'], function(Plotly) {\n",
       "            window._Plotly = Plotly;\n",
       "        });\n",
       "        }\n",
       "        </script>\n",
       "        "
      ]
     },
     "metadata": {},
     "output_type": "display_data"
    }
   ],
   "source": [
    "import plotly as py\n",
    "import plotly.graph_objs as go\n",
    "import ipywidgets as widgets\n",
    "\n",
    "py.offline.init_notebook_mode(connected=True)"
   ]
  },
  {
   "cell_type": "code",
   "execution_count": 34,
   "metadata": {},
   "outputs": [],
   "source": [
    "layout1 = go.Layout(\n",
    "    title='Real RMSE Error Plot(fx = 0.1)',\n",
    "    yaxis = dict(title='error'),\n",
    "    xaxis = dict(title='bins')\n",
    ")\n",
    "\n",
    "trace11 = go.Scatter(\n",
    "    x = np.arange(6),\n",
    "    y = plot_dict1['./180/c1_180.mp4'],\n",
    "    mode='lines+markers'\n",
    ")\n",
    "\n",
    "trace12 = go.Scatter(\n",
    "    x = np.arange(6),\n",
    "    y = plot_dict1['./180/c2_180.mp4'],\n",
    "    mode='lines+markers'\n",
    ")\n",
    "\n",
    "trace13 = go.Scatter(\n",
    "    x = np.arange(6),\n",
    "    y = plot_dict1['./180/c3_180.mp4'],\n",
    "    mode='lines+markers'\n",
    ")\n",
    "\n",
    "trace14 = go.Scatter(\n",
    "    x = np.arange(6),\n",
    "    y = plot_dict1['./180/c4_180.mp4'],\n",
    "    mode='lines+markers'\n",
    ")\n",
    "\n",
    "\n",
    "layout2 = go.Layout(\n",
    "    title='Real RMSE Error Plot(fx = 0.2)',\n",
    "    yaxis = dict(title='error'),\n",
    "    xaxis = dict(title='bins')\n",
    ")\n",
    "\n",
    "trace21 = go.Scatter(\n",
    "    x = np.arange(6),\n",
    "    y = plot_dict2['./180/c1_180.mp4'],\n",
    "    mode='lines+markers'\n",
    ")\n",
    "\n",
    "trace22 = go.Scatter(\n",
    "    x = np.arange(6),\n",
    "    y = plot_dict2['./180/c2_180.mp4'],\n",
    "    mode='lines+markers'\n",
    ")\n",
    "\n",
    "trace23 = go.Scatter(\n",
    "    x = np.arange(6),\n",
    "    y = plot_dict2['./180/c3_180.mp4'],\n",
    "    mode='lines+markers'\n",
    ")\n",
    "\n",
    "trace24 = go.Scatter(\n",
    "    x = np.arange(6),\n",
    "    y = plot_dict2['./180/c4_180.mp4'],\n",
    "    mode='lines+markers'\n",
    ")\n",
    "\n",
    "\n",
    "layout3 = go.Layout(\n",
    "    title='Real RMSE Error Plot(fx = 0.3)',\n",
    "    yaxis = dict(title='error'),\n",
    "    xaxis = dict(title='bins')\n",
    ")\n",
    "\n",
    "trace31 = go.Scatter(\n",
    "    x = np.arange(6),\n",
    "    y = plot_dict3['./180/c1_180.mp4'],\n",
    "    mode='lines+markers'\n",
    ")\n",
    "\n",
    "trace32 = go.Scatter(\n",
    "    x = np.arange(6),\n",
    "    y = plot_dict3['./180/c2_180.mp4'],\n",
    "    mode='lines+markers'\n",
    ")\n",
    "\n",
    "trace33 = go.Scatter(\n",
    "    x = np.arange(6),\n",
    "    y = plot_dict3['./180/c3_180.mp4'],\n",
    "    mode='lines+markers'\n",
    ")\n",
    "\n",
    "trace34 = go.Scatter(\n",
    "    x = np.arange(6),\n",
    "    y = plot_dict3['./180/c4_180.mp4'],\n",
    "    mode='lines+markers'\n",
    ")"
   ]
  },
  {
   "cell_type": "code",
   "execution_count": 35,
   "metadata": {},
   "outputs": [],
   "source": [
    "fig1 = go.Figure(data=[trace11,trace12,trace13,trace14], layout=layout1)\n",
    "fig2 = go.Figure(data=[trace21,trace22,trace23,trace24], layout=layout2)\n",
    "fig3 = go.Figure(data=[trace31,trace32,trace33,trace34], layout=layout3)"
   ]
  },
  {
   "cell_type": "code",
   "execution_count": 36,
   "metadata": {},
   "outputs": [
    {
     "data": {
      "application/vnd.plotly.v1+json": {
       "config": {
        "linkText": "Export to plot.ly",
        "plotlyServerURL": "https://plot.ly",
        "showLink": false
       },
       "data": [
        {
         "mode": "lines+markers",
         "type": "scatter",
         "uid": "3be00cd1-ae46-4c53-b18a-7e1fc1ca9c83",
         "x": [
          0,
          1,
          2,
          3,
          4,
          5
         ],
         "y": [
          0.9223023106510019,
          2.188617639546847,
          0.6988615604460054,
          0.8927180407547609,
          0.47847926900592985,
          0.9708252466285316
         ]
        },
        {
         "mode": "lines+markers",
         "type": "scatter",
         "uid": "7e6b9032-ff6f-4868-91be-fb9969e062e1",
         "x": [
          0,
          1,
          2,
          3,
          4,
          5
         ],
         "y": [
          1.7345433732453697,
          1.7738470956452723,
          1.0751301868798084,
          1.1914717285464376,
          0.81789340654535,
          0.9201715202005128
         ]
        },
        {
         "mode": "lines+markers",
         "type": "scatter",
         "uid": "0b223950-bbc9-436f-ad44-ee419b66320e",
         "x": [
          0,
          1,
          2,
          3,
          4,
          5
         ],
         "y": [
          0.8900703894071363,
          1.5882916447224578,
          0.7340349928906756,
          1.1214180636100715,
          1.7129002341194908,
          1.5602866562410092
         ]
        },
        {
         "mode": "lines+markers",
         "type": "scatter",
         "uid": "092a3ab3-0ade-4255-bd51-4c9c3ab09f1e",
         "x": [
          0,
          1,
          2,
          3,
          4,
          5
         ],
         "y": [
          0.5693044684197481,
          1.0135874849415232,
          1.0360553036001066,
          0.9070571996778453,
          0.9712777631650621,
          0.9868044165128003
         ]
        }
       ],
       "layout": {
        "title": {
         "text": "Real RMSE Error Plot(fx = 0.1)"
        },
        "xaxis": {
         "title": {
          "text": "bins"
         }
        },
        "yaxis": {
         "title": {
          "text": "error"
         }
        }
       }
      },
      "text/html": [
       "<div>\n",
       "        \n",
       "        \n",
       "            <div id=\"fd3c2160-a272-452b-b8b3-a2650d787667\" class=\"plotly-graph-div\" style=\"height:525px; width:100%;\"></div>\n",
       "            <script type=\"text/javascript\">\n",
       "                require([\"plotly\"], function(Plotly) {\n",
       "                    window.PLOTLYENV=window.PLOTLYENV || {};\n",
       "                    window.PLOTLYENV.BASE_URL='https://plot.ly';\n",
       "                    \n",
       "                if (document.getElementById(\"fd3c2160-a272-452b-b8b3-a2650d787667\")) {\n",
       "                    Plotly.newPlot(\n",
       "                        'fd3c2160-a272-452b-b8b3-a2650d787667',\n",
       "                        [{\"mode\": \"lines+markers\", \"type\": \"scatter\", \"uid\": \"3be00cd1-ae46-4c53-b18a-7e1fc1ca9c83\", \"x\": [0, 1, 2, 3, 4, 5], \"y\": [0.9223023106510019, 2.188617639546847, 0.6988615604460054, 0.8927180407547609, 0.47847926900592985, 0.9708252466285316]}, {\"mode\": \"lines+markers\", \"type\": \"scatter\", \"uid\": \"7e6b9032-ff6f-4868-91be-fb9969e062e1\", \"x\": [0, 1, 2, 3, 4, 5], \"y\": [1.7345433732453697, 1.7738470956452723, 1.0751301868798084, 1.1914717285464376, 0.81789340654535, 0.9201715202005128]}, {\"mode\": \"lines+markers\", \"type\": \"scatter\", \"uid\": \"0b223950-bbc9-436f-ad44-ee419b66320e\", \"x\": [0, 1, 2, 3, 4, 5], \"y\": [0.8900703894071363, 1.5882916447224578, 0.7340349928906756, 1.1214180636100715, 1.7129002341194908, 1.5602866562410092]}, {\"mode\": \"lines+markers\", \"type\": \"scatter\", \"uid\": \"092a3ab3-0ade-4255-bd51-4c9c3ab09f1e\", \"x\": [0, 1, 2, 3, 4, 5], \"y\": [0.5693044684197481, 1.0135874849415232, 1.0360553036001066, 0.9070571996778453, 0.9712777631650621, 0.9868044165128003]}],\n",
       "                        {\"title\": {\"text\": \"Real RMSE Error Plot(fx = 0.1)\"}, \"xaxis\": {\"title\": {\"text\": \"bins\"}}, \"yaxis\": {\"title\": {\"text\": \"error\"}}},\n",
       "                        {\"showLink\": false, \"linkText\": \"Export to plot.ly\", \"plotlyServerURL\": \"https://plot.ly\", \"responsive\": true}\n",
       "                    ).then(function(){\n",
       "                            \n",
       "var gd = document.getElementById('fd3c2160-a272-452b-b8b3-a2650d787667');\n",
       "var x = new MutationObserver(function (mutations, observer) {{\n",
       "        var display = window.getComputedStyle(gd).display;\n",
       "        if (!display || display === 'none') {{\n",
       "            console.log([gd, 'removed!']);\n",
       "            Plotly.purge(gd);\n",
       "            observer.disconnect();\n",
       "        }}\n",
       "}});\n",
       "\n",
       "// Listen for the removal of the full notebook cells\n",
       "var notebookContainer = gd.closest('#notebook-container');\n",
       "if (notebookContainer) {{\n",
       "    x.observe(notebookContainer, {childList: true});\n",
       "}}\n",
       "\n",
       "// Listen for the clearing of the current output cell\n",
       "var outputEl = gd.closest('.output');\n",
       "if (outputEl) {{\n",
       "    x.observe(outputEl, {childList: true});\n",
       "}}\n",
       "\n",
       "                        })\n",
       "                };\n",
       "                });\n",
       "            </script>\n",
       "        </div>"
      ]
     },
     "metadata": {},
     "output_type": "display_data"
    },
    {
     "data": {
      "application/vnd.plotly.v1+json": {
       "config": {
        "linkText": "Export to plot.ly",
        "plotlyServerURL": "https://plot.ly",
        "showLink": false
       },
       "data": [
        {
         "mode": "lines+markers",
         "type": "scatter",
         "uid": "a8fdc854-3d7a-4075-af9b-2c5b93da083e",
         "x": [
          0,
          1,
          2,
          3,
          4,
          5
         ],
         "y": [
          0.6904876431841989,
          0.7860206728628281,
          1.039608722422376,
          0.8544281610040867,
          0.5344455054707805,
          0.5035005942186146
         ]
        },
        {
         "mode": "lines+markers",
         "type": "scatter",
         "uid": "d93b5664-eb0b-4f5c-8de2-3163316b6745",
         "x": [
          0,
          1,
          2,
          3,
          4,
          5
         ],
         "y": [
          1.296375289688909,
          1.105803340415978,
          1.3917448819643454,
          1.3652518393092274,
          1.3233603773231972,
          1.4233408919977955
         ]
        },
        {
         "mode": "lines+markers",
         "type": "scatter",
         "uid": "b7d5b443-5ec0-4dde-a0b2-0f18e4c20d17",
         "x": [
          0,
          1,
          2,
          3,
          4,
          5
         ],
         "y": [
          0.9226842475910805,
          0.9170554191976086,
          1.0615443030418994,
          0.9257487597550231,
          1.2426528296853587,
          1.2314137353863255
         ]
        },
        {
         "mode": "lines+markers",
         "type": "scatter",
         "uid": "a8eb61de-aa49-4393-8a44-e688aa83a00e",
         "x": [
          0,
          1,
          2,
          3,
          4,
          5
         ],
         "y": [
          0.9071274011077344,
          1.1720065618700142,
          1.170189523077939,
          1.1671991277473792,
          1.3420156550622366,
          1.147034611515865
         ]
        }
       ],
       "layout": {
        "title": {
         "text": "Real RMSE Error Plot(fx = 0.2)"
        },
        "xaxis": {
         "title": {
          "text": "bins"
         }
        },
        "yaxis": {
         "title": {
          "text": "error"
         }
        }
       }
      },
      "text/html": [
       "<div>\n",
       "        \n",
       "        \n",
       "            <div id=\"0c0bd484-441c-458a-bff2-24c67e1998d3\" class=\"plotly-graph-div\" style=\"height:525px; width:100%;\"></div>\n",
       "            <script type=\"text/javascript\">\n",
       "                require([\"plotly\"], function(Plotly) {\n",
       "                    window.PLOTLYENV=window.PLOTLYENV || {};\n",
       "                    window.PLOTLYENV.BASE_URL='https://plot.ly';\n",
       "                    \n",
       "                if (document.getElementById(\"0c0bd484-441c-458a-bff2-24c67e1998d3\")) {\n",
       "                    Plotly.newPlot(\n",
       "                        '0c0bd484-441c-458a-bff2-24c67e1998d3',\n",
       "                        [{\"mode\": \"lines+markers\", \"type\": \"scatter\", \"uid\": \"a8fdc854-3d7a-4075-af9b-2c5b93da083e\", \"x\": [0, 1, 2, 3, 4, 5], \"y\": [0.6904876431841989, 0.7860206728628281, 1.039608722422376, 0.8544281610040867, 0.5344455054707805, 0.5035005942186146]}, {\"mode\": \"lines+markers\", \"type\": \"scatter\", \"uid\": \"d93b5664-eb0b-4f5c-8de2-3163316b6745\", \"x\": [0, 1, 2, 3, 4, 5], \"y\": [1.296375289688909, 1.105803340415978, 1.3917448819643454, 1.3652518393092274, 1.3233603773231972, 1.4233408919977955]}, {\"mode\": \"lines+markers\", \"type\": \"scatter\", \"uid\": \"b7d5b443-5ec0-4dde-a0b2-0f18e4c20d17\", \"x\": [0, 1, 2, 3, 4, 5], \"y\": [0.9226842475910805, 0.9170554191976086, 1.0615443030418994, 0.9257487597550231, 1.2426528296853587, 1.2314137353863255]}, {\"mode\": \"lines+markers\", \"type\": \"scatter\", \"uid\": \"a8eb61de-aa49-4393-8a44-e688aa83a00e\", \"x\": [0, 1, 2, 3, 4, 5], \"y\": [0.9071274011077344, 1.1720065618700142, 1.170189523077939, 1.1671991277473792, 1.3420156550622366, 1.147034611515865]}],\n",
       "                        {\"title\": {\"text\": \"Real RMSE Error Plot(fx = 0.2)\"}, \"xaxis\": {\"title\": {\"text\": \"bins\"}}, \"yaxis\": {\"title\": {\"text\": \"error\"}}},\n",
       "                        {\"showLink\": false, \"linkText\": \"Export to plot.ly\", \"plotlyServerURL\": \"https://plot.ly\", \"responsive\": true}\n",
       "                    ).then(function(){\n",
       "                            \n",
       "var gd = document.getElementById('0c0bd484-441c-458a-bff2-24c67e1998d3');\n",
       "var x = new MutationObserver(function (mutations, observer) {{\n",
       "        var display = window.getComputedStyle(gd).display;\n",
       "        if (!display || display === 'none') {{\n",
       "            console.log([gd, 'removed!']);\n",
       "            Plotly.purge(gd);\n",
       "            observer.disconnect();\n",
       "        }}\n",
       "}});\n",
       "\n",
       "// Listen for the removal of the full notebook cells\n",
       "var notebookContainer = gd.closest('#notebook-container');\n",
       "if (notebookContainer) {{\n",
       "    x.observe(notebookContainer, {childList: true});\n",
       "}}\n",
       "\n",
       "// Listen for the clearing of the current output cell\n",
       "var outputEl = gd.closest('.output');\n",
       "if (outputEl) {{\n",
       "    x.observe(outputEl, {childList: true});\n",
       "}}\n",
       "\n",
       "                        })\n",
       "                };\n",
       "                });\n",
       "            </script>\n",
       "        </div>"
      ]
     },
     "metadata": {},
     "output_type": "display_data"
    },
    {
     "data": {
      "application/vnd.plotly.v1+json": {
       "config": {
        "linkText": "Export to plot.ly",
        "plotlyServerURL": "https://plot.ly",
        "showLink": false
       },
       "data": [
        {
         "mode": "lines+markers",
         "type": "scatter",
         "uid": "191663a4-606d-41c4-b49b-c17110beda6b",
         "x": [
          0,
          1,
          2,
          3,
          4,
          5
         ],
         "y": [
          0.7569549102788082,
          0.9587560973529784,
          1.2873310945204817,
          0.8900108965280364,
          0.8459052955904125,
          0.8037475633330589
         ]
        },
        {
         "mode": "lines+markers",
         "type": "scatter",
         "uid": "12be4682-683a-46cd-af3e-c76d2207f2da",
         "x": [
          0,
          1,
          2,
          3,
          4,
          5
         ],
         "y": [
          1.3380037293305729,
          1.4598174145445872,
          1.0893678780651697,
          1.5632181968220904,
          1.4213804844004063,
          1.4077376642386372
         ]
        },
        {
         "mode": "lines+markers",
         "type": "scatter",
         "uid": "0d0973ab-9f3c-4005-9e6e-4d0e74c84bb5",
         "x": [
          0,
          1,
          2,
          3,
          4,
          5
         ],
         "y": [
          0.9121733819270498,
          1.0242510977139734,
          1.0529388068898007,
          1.0113795539050145,
          1.1622259707898746,
          1.2271679741369939
         ]
        },
        {
         "mode": "lines+markers",
         "type": "scatter",
         "uid": "48e6fbae-5d24-480b-b065-1eb1f5d365ae",
         "x": [
          0,
          1,
          2,
          3,
          4,
          5
         ],
         "y": [
          0.9036339225681093,
          0.9486055463072918,
          1.0448197512098611,
          1.1673166199449896,
          0.9346114855684777,
          0.9470106432112829
         ]
        }
       ],
       "layout": {
        "title": {
         "text": "Real RMSE Error Plot(fx = 0.3)"
        },
        "xaxis": {
         "title": {
          "text": "bins"
         }
        },
        "yaxis": {
         "title": {
          "text": "error"
         }
        }
       }
      },
      "text/html": [
       "<div>\n",
       "        \n",
       "        \n",
       "            <div id=\"b55f86c5-c85b-422a-bd69-ad8e84ef691d\" class=\"plotly-graph-div\" style=\"height:525px; width:100%;\"></div>\n",
       "            <script type=\"text/javascript\">\n",
       "                require([\"plotly\"], function(Plotly) {\n",
       "                    window.PLOTLYENV=window.PLOTLYENV || {};\n",
       "                    window.PLOTLYENV.BASE_URL='https://plot.ly';\n",
       "                    \n",
       "                if (document.getElementById(\"b55f86c5-c85b-422a-bd69-ad8e84ef691d\")) {\n",
       "                    Plotly.newPlot(\n",
       "                        'b55f86c5-c85b-422a-bd69-ad8e84ef691d',\n",
       "                        [{\"mode\": \"lines+markers\", \"type\": \"scatter\", \"uid\": \"191663a4-606d-41c4-b49b-c17110beda6b\", \"x\": [0, 1, 2, 3, 4, 5], \"y\": [0.7569549102788082, 0.9587560973529784, 1.2873310945204817, 0.8900108965280364, 0.8459052955904125, 0.8037475633330589]}, {\"mode\": \"lines+markers\", \"type\": \"scatter\", \"uid\": \"12be4682-683a-46cd-af3e-c76d2207f2da\", \"x\": [0, 1, 2, 3, 4, 5], \"y\": [1.3380037293305729, 1.4598174145445872, 1.0893678780651697, 1.5632181968220904, 1.4213804844004063, 1.4077376642386372]}, {\"mode\": \"lines+markers\", \"type\": \"scatter\", \"uid\": \"0d0973ab-9f3c-4005-9e6e-4d0e74c84bb5\", \"x\": [0, 1, 2, 3, 4, 5], \"y\": [0.9121733819270498, 1.0242510977139734, 1.0529388068898007, 1.0113795539050145, 1.1622259707898746, 1.2271679741369939]}, {\"mode\": \"lines+markers\", \"type\": \"scatter\", \"uid\": \"48e6fbae-5d24-480b-b065-1eb1f5d365ae\", \"x\": [0, 1, 2, 3, 4, 5], \"y\": [0.9036339225681093, 0.9486055463072918, 1.0448197512098611, 1.1673166199449896, 0.9346114855684777, 0.9470106432112829]}],\n",
       "                        {\"title\": {\"text\": \"Real RMSE Error Plot(fx = 0.3)\"}, \"xaxis\": {\"title\": {\"text\": \"bins\"}}, \"yaxis\": {\"title\": {\"text\": \"error\"}}},\n",
       "                        {\"showLink\": false, \"linkText\": \"Export to plot.ly\", \"plotlyServerURL\": \"https://plot.ly\", \"responsive\": true}\n",
       "                    ).then(function(){\n",
       "                            \n",
       "var gd = document.getElementById('b55f86c5-c85b-422a-bd69-ad8e84ef691d');\n",
       "var x = new MutationObserver(function (mutations, observer) {{\n",
       "        var display = window.getComputedStyle(gd).display;\n",
       "        if (!display || display === 'none') {{\n",
       "            console.log([gd, 'removed!']);\n",
       "            Plotly.purge(gd);\n",
       "            observer.disconnect();\n",
       "        }}\n",
       "}});\n",
       "\n",
       "// Listen for the removal of the full notebook cells\n",
       "var notebookContainer = gd.closest('#notebook-container');\n",
       "if (notebookContainer) {{\n",
       "    x.observe(notebookContainer, {childList: true});\n",
       "}}\n",
       "\n",
       "// Listen for the clearing of the current output cell\n",
       "var outputEl = gd.closest('.output');\n",
       "if (outputEl) {{\n",
       "    x.observe(outputEl, {childList: true});\n",
       "}}\n",
       "\n",
       "                        })\n",
       "                };\n",
       "                });\n",
       "            </script>\n",
       "        </div>"
      ]
     },
     "metadata": {},
     "output_type": "display_data"
    }
   ],
   "source": [
    "py.offline.iplot(fig1)\n",
    "py.offline.iplot(fig2)\n",
    "py.offline.iplot(fig3)"
   ]
  },
  {
   "cell_type": "code",
   "execution_count": 37,
   "metadata": {},
   "outputs": [
    {
     "data": {
      "application/vnd.plotly.v1+json": {
       "config": {
        "linkText": "Export to plot.ly",
        "plotlyServerURL": "https://plot.ly",
        "showLink": false
       },
       "data": [
        {
         "mode": "lines+markers",
         "type": "scatter",
         "uid": "047d3e52-1d09-4e29-862f-50bb86b548da",
         "x": [
          0,
          1,
          2,
          3,
          4,
          5
         ],
         "y": [
          6,
          1,
          7,
          7,
          6,
          5
         ]
        },
        {
         "mode": "lines+markers",
         "type": "scatter",
         "uid": "54763085-03f9-4c5a-a07a-a3b3ab912a9c",
         "x": [
          0,
          1,
          2,
          3,
          4,
          5
         ],
         "y": [
          1,
          3,
          7,
          6,
          2,
          7
         ]
        },
        {
         "mode": "lines+markers",
         "type": "scatter",
         "uid": "e7ec4f9d-2795-4f5d-bec7-900c3b202212",
         "x": [
          0,
          1,
          2,
          3,
          4,
          5
         ],
         "y": [
          4,
          3,
          11,
          10,
          4,
          5
         ]
        },
        {
         "mode": "lines+markers",
         "type": "scatter",
         "uid": "30b1769d-219c-4c8c-a8da-cde8ad954790",
         "x": [
          0,
          1,
          2,
          3,
          4,
          5
         ],
         "y": [
          2,
          9,
          16,
          10,
          11,
          2
         ]
        }
       ],
       "layout": {
        "title": {
         "text": "Images detected Plot(fx = 0.1)"
        },
        "xaxis": {
         "title": {
          "text": "bins"
         }
        },
        "yaxis": {
         "title": {
          "text": "num_image"
         }
        }
       }
      },
      "text/html": [
       "<div>\n",
       "        \n",
       "        \n",
       "            <div id=\"92d07bb1-0d69-46ad-8bab-d699ca7eaee9\" class=\"plotly-graph-div\" style=\"height:525px; width:100%;\"></div>\n",
       "            <script type=\"text/javascript\">\n",
       "                require([\"plotly\"], function(Plotly) {\n",
       "                    window.PLOTLYENV=window.PLOTLYENV || {};\n",
       "                    window.PLOTLYENV.BASE_URL='https://plot.ly';\n",
       "                    \n",
       "                if (document.getElementById(\"92d07bb1-0d69-46ad-8bab-d699ca7eaee9\")) {\n",
       "                    Plotly.newPlot(\n",
       "                        '92d07bb1-0d69-46ad-8bab-d699ca7eaee9',\n",
       "                        [{\"mode\": \"lines+markers\", \"type\": \"scatter\", \"uid\": \"047d3e52-1d09-4e29-862f-50bb86b548da\", \"x\": [0, 1, 2, 3, 4, 5], \"y\": [6.0, 1.0, 7.0, 7.0, 6.0, 5.0]}, {\"mode\": \"lines+markers\", \"type\": \"scatter\", \"uid\": \"54763085-03f9-4c5a-a07a-a3b3ab912a9c\", \"x\": [0, 1, 2, 3, 4, 5], \"y\": [1.0, 3.0, 7.0, 6.0, 2.0, 7.0]}, {\"mode\": \"lines+markers\", \"type\": \"scatter\", \"uid\": \"e7ec4f9d-2795-4f5d-bec7-900c3b202212\", \"x\": [0, 1, 2, 3, 4, 5], \"y\": [4.0, 3.0, 11.0, 10.0, 4.0, 5.0]}, {\"mode\": \"lines+markers\", \"type\": \"scatter\", \"uid\": \"30b1769d-219c-4c8c-a8da-cde8ad954790\", \"x\": [0, 1, 2, 3, 4, 5], \"y\": [2.0, 9.0, 16.0, 10.0, 11.0, 2.0]}],\n",
       "                        {\"title\": {\"text\": \"Images detected Plot(fx = 0.1)\"}, \"xaxis\": {\"title\": {\"text\": \"bins\"}}, \"yaxis\": {\"title\": {\"text\": \"num_image\"}}},\n",
       "                        {\"showLink\": false, \"linkText\": \"Export to plot.ly\", \"plotlyServerURL\": \"https://plot.ly\", \"responsive\": true}\n",
       "                    ).then(function(){\n",
       "                            \n",
       "var gd = document.getElementById('92d07bb1-0d69-46ad-8bab-d699ca7eaee9');\n",
       "var x = new MutationObserver(function (mutations, observer) {{\n",
       "        var display = window.getComputedStyle(gd).display;\n",
       "        if (!display || display === 'none') {{\n",
       "            console.log([gd, 'removed!']);\n",
       "            Plotly.purge(gd);\n",
       "            observer.disconnect();\n",
       "        }}\n",
       "}});\n",
       "\n",
       "// Listen for the removal of the full notebook cells\n",
       "var notebookContainer = gd.closest('#notebook-container');\n",
       "if (notebookContainer) {{\n",
       "    x.observe(notebookContainer, {childList: true});\n",
       "}}\n",
       "\n",
       "// Listen for the clearing of the current output cell\n",
       "var outputEl = gd.closest('.output');\n",
       "if (outputEl) {{\n",
       "    x.observe(outputEl, {childList: true});\n",
       "}}\n",
       "\n",
       "                        })\n",
       "                };\n",
       "                });\n",
       "            </script>\n",
       "        </div>"
      ]
     },
     "metadata": {},
     "output_type": "display_data"
    },
    {
     "data": {
      "application/vnd.plotly.v1+json": {
       "config": {
        "linkText": "Export to plot.ly",
        "plotlyServerURL": "https://plot.ly",
        "showLink": false
       },
       "data": [
        {
         "mode": "lines+markers",
         "type": "scatter",
         "uid": "ecbc3aa1-e04f-4596-bae2-9b009986ff45",
         "x": [
          0,
          1,
          2,
          3,
          4,
          5
         ],
         "y": [
          26,
          23,
          17,
          18,
          15,
          32
         ]
        },
        {
         "mode": "lines+markers",
         "type": "scatter",
         "uid": "04e08837-2c70-4d73-8298-3a1de746484b",
         "x": [
          0,
          1,
          2,
          3,
          4,
          5
         ],
         "y": [
          16,
          14,
          12,
          16,
          20,
          14
         ]
        },
        {
         "mode": "lines+markers",
         "type": "scatter",
         "uid": "f101d099-182b-4021-979e-17fcac3b4c14",
         "x": [
          0,
          1,
          2,
          3,
          4,
          5
         ],
         "y": [
          17,
          21,
          16,
          21,
          20,
          20
         ]
        },
        {
         "mode": "lines+markers",
         "type": "scatter",
         "uid": "6f41ce9d-306c-410b-9826-f072995502b3",
         "x": [
          0,
          1,
          2,
          3,
          4,
          5
         ],
         "y": [
          21,
          16,
          36,
          27,
          16,
          16
         ]
        }
       ],
       "layout": {
        "title": {
         "text": "Images detected Plot(fx = 0.2)"
        },
        "xaxis": {
         "title": {
          "text": "bins"
         }
        },
        "yaxis": {
         "title": {
          "text": "num_image"
         }
        }
       }
      },
      "text/html": [
       "<div>\n",
       "        \n",
       "        \n",
       "            <div id=\"be9a2cce-940a-42dc-af5b-d87ef1d3e5d0\" class=\"plotly-graph-div\" style=\"height:525px; width:100%;\"></div>\n",
       "            <script type=\"text/javascript\">\n",
       "                require([\"plotly\"], function(Plotly) {\n",
       "                    window.PLOTLYENV=window.PLOTLYENV || {};\n",
       "                    window.PLOTLYENV.BASE_URL='https://plot.ly';\n",
       "                    \n",
       "                if (document.getElementById(\"be9a2cce-940a-42dc-af5b-d87ef1d3e5d0\")) {\n",
       "                    Plotly.newPlot(\n",
       "                        'be9a2cce-940a-42dc-af5b-d87ef1d3e5d0',\n",
       "                        [{\"mode\": \"lines+markers\", \"type\": \"scatter\", \"uid\": \"ecbc3aa1-e04f-4596-bae2-9b009986ff45\", \"x\": [0, 1, 2, 3, 4, 5], \"y\": [26.0, 23.0, 17.0, 18.0, 15.0, 32.0]}, {\"mode\": \"lines+markers\", \"type\": \"scatter\", \"uid\": \"04e08837-2c70-4d73-8298-3a1de746484b\", \"x\": [0, 1, 2, 3, 4, 5], \"y\": [16.0, 14.0, 12.0, 16.0, 20.0, 14.0]}, {\"mode\": \"lines+markers\", \"type\": \"scatter\", \"uid\": \"f101d099-182b-4021-979e-17fcac3b4c14\", \"x\": [0, 1, 2, 3, 4, 5], \"y\": [17.0, 21.0, 16.0, 21.0, 20.0, 20.0]}, {\"mode\": \"lines+markers\", \"type\": \"scatter\", \"uid\": \"6f41ce9d-306c-410b-9826-f072995502b3\", \"x\": [0, 1, 2, 3, 4, 5], \"y\": [21.0, 16.0, 36.0, 27.0, 16.0, 16.0]}],\n",
       "                        {\"title\": {\"text\": \"Images detected Plot(fx = 0.2)\"}, \"xaxis\": {\"title\": {\"text\": \"bins\"}}, \"yaxis\": {\"title\": {\"text\": \"num_image\"}}},\n",
       "                        {\"showLink\": false, \"linkText\": \"Export to plot.ly\", \"plotlyServerURL\": \"https://plot.ly\", \"responsive\": true}\n",
       "                    ).then(function(){\n",
       "                            \n",
       "var gd = document.getElementById('be9a2cce-940a-42dc-af5b-d87ef1d3e5d0');\n",
       "var x = new MutationObserver(function (mutations, observer) {{\n",
       "        var display = window.getComputedStyle(gd).display;\n",
       "        if (!display || display === 'none') {{\n",
       "            console.log([gd, 'removed!']);\n",
       "            Plotly.purge(gd);\n",
       "            observer.disconnect();\n",
       "        }}\n",
       "}});\n",
       "\n",
       "// Listen for the removal of the full notebook cells\n",
       "var notebookContainer = gd.closest('#notebook-container');\n",
       "if (notebookContainer) {{\n",
       "    x.observe(notebookContainer, {childList: true});\n",
       "}}\n",
       "\n",
       "// Listen for the clearing of the current output cell\n",
       "var outputEl = gd.closest('.output');\n",
       "if (outputEl) {{\n",
       "    x.observe(outputEl, {childList: true});\n",
       "}}\n",
       "\n",
       "                        })\n",
       "                };\n",
       "                });\n",
       "            </script>\n",
       "        </div>"
      ]
     },
     "metadata": {},
     "output_type": "display_data"
    },
    {
     "data": {
      "application/vnd.plotly.v1+json": {
       "config": {
        "linkText": "Export to plot.ly",
        "plotlyServerURL": "https://plot.ly",
        "showLink": false
       },
       "data": [
        {
         "mode": "lines+markers",
         "type": "scatter",
         "uid": "53656b6c-4d0f-4deb-8b94-5be32ade239f",
         "x": [
          0,
          1,
          2,
          3,
          4,
          5
         ],
         "y": [
          31,
          32,
          29,
          22,
          20,
          35
         ]
        },
        {
         "mode": "lines+markers",
         "type": "scatter",
         "uid": "fa8bb2f3-8e4d-43b4-82f8-0fe0cbdca0ce",
         "x": [
          0,
          1,
          2,
          3,
          4,
          5
         ],
         "y": [
          22,
          13,
          16,
          10,
          18,
          16
         ]
        },
        {
         "mode": "lines+markers",
         "type": "scatter",
         "uid": "017aa61d-fcca-4f05-9d0e-6d29f2ccdd11",
         "x": [
          0,
          1,
          2,
          3,
          4,
          5
         ],
         "y": [
          23,
          23,
          17,
          21,
          19,
          20
         ]
        },
        {
         "mode": "lines+markers",
         "type": "scatter",
         "uid": "24e9e71c-f913-4cbf-8017-2fcbf91cb257",
         "x": [
          0,
          1,
          2,
          3,
          4,
          5
         ],
         "y": [
          14,
          16,
          22,
          26,
          22,
          18
         ]
        }
       ],
       "layout": {
        "title": {
         "text": "Images detected Plot(fx = 0.3)"
        },
        "xaxis": {
         "title": {
          "text": "bins"
         }
        },
        "yaxis": {
         "title": {
          "text": "num_image"
         }
        }
       }
      },
      "text/html": [
       "<div>\n",
       "        \n",
       "        \n",
       "            <div id=\"29e02f3b-d501-4238-86dc-ced755635f55\" class=\"plotly-graph-div\" style=\"height:525px; width:100%;\"></div>\n",
       "            <script type=\"text/javascript\">\n",
       "                require([\"plotly\"], function(Plotly) {\n",
       "                    window.PLOTLYENV=window.PLOTLYENV || {};\n",
       "                    window.PLOTLYENV.BASE_URL='https://plot.ly';\n",
       "                    \n",
       "                if (document.getElementById(\"29e02f3b-d501-4238-86dc-ced755635f55\")) {\n",
       "                    Plotly.newPlot(\n",
       "                        '29e02f3b-d501-4238-86dc-ced755635f55',\n",
       "                        [{\"mode\": \"lines+markers\", \"type\": \"scatter\", \"uid\": \"53656b6c-4d0f-4deb-8b94-5be32ade239f\", \"x\": [0, 1, 2, 3, 4, 5], \"y\": [31.0, 32.0, 29.0, 22.0, 20.0, 35.0]}, {\"mode\": \"lines+markers\", \"type\": \"scatter\", \"uid\": \"fa8bb2f3-8e4d-43b4-82f8-0fe0cbdca0ce\", \"x\": [0, 1, 2, 3, 4, 5], \"y\": [22.0, 13.0, 16.0, 10.0, 18.0, 16.0]}, {\"mode\": \"lines+markers\", \"type\": \"scatter\", \"uid\": \"017aa61d-fcca-4f05-9d0e-6d29f2ccdd11\", \"x\": [0, 1, 2, 3, 4, 5], \"y\": [23.0, 23.0, 17.0, 21.0, 19.0, 20.0]}, {\"mode\": \"lines+markers\", \"type\": \"scatter\", \"uid\": \"24e9e71c-f913-4cbf-8017-2fcbf91cb257\", \"x\": [0, 1, 2, 3, 4, 5], \"y\": [14.0, 16.0, 22.0, 26.0, 22.0, 18.0]}],\n",
       "                        {\"title\": {\"text\": \"Images detected Plot(fx = 0.3)\"}, \"xaxis\": {\"title\": {\"text\": \"bins\"}}, \"yaxis\": {\"title\": {\"text\": \"num_image\"}}},\n",
       "                        {\"showLink\": false, \"linkText\": \"Export to plot.ly\", \"plotlyServerURL\": \"https://plot.ly\", \"responsive\": true}\n",
       "                    ).then(function(){\n",
       "                            \n",
       "var gd = document.getElementById('29e02f3b-d501-4238-86dc-ced755635f55');\n",
       "var x = new MutationObserver(function (mutations, observer) {{\n",
       "        var display = window.getComputedStyle(gd).display;\n",
       "        if (!display || display === 'none') {{\n",
       "            console.log([gd, 'removed!']);\n",
       "            Plotly.purge(gd);\n",
       "            observer.disconnect();\n",
       "        }}\n",
       "}});\n",
       "\n",
       "// Listen for the removal of the full notebook cells\n",
       "var notebookContainer = gd.closest('#notebook-container');\n",
       "if (notebookContainer) {{\n",
       "    x.observe(notebookContainer, {childList: true});\n",
       "}}\n",
       "\n",
       "// Listen for the clearing of the current output cell\n",
       "var outputEl = gd.closest('.output');\n",
       "if (outputEl) {{\n",
       "    x.observe(outputEl, {childList: true});\n",
       "}}\n",
       "\n",
       "                        })\n",
       "                };\n",
       "                });\n",
       "            </script>\n",
       "        </div>"
      ]
     },
     "metadata": {},
     "output_type": "display_data"
    }
   ],
   "source": [
    "layout1 = go.Layout(\n",
    "    title='Images detected Plot(fx = 0.1)',\n",
    "    yaxis = dict(title='num_image'),\n",
    "    xaxis = dict(title='bins')\n",
    ")\n",
    "\n",
    "trace11 = go.Scatter(\n",
    "    x = np.arange(6),\n",
    "    y = bin_dict1['./180/c1_180.mp4'],\n",
    "    mode='lines+markers'\n",
    ")\n",
    "\n",
    "trace12 = go.Scatter(\n",
    "    x = np.arange(6),\n",
    "    y = bin_dict1['./180/c2_180.mp4'],\n",
    "    mode='lines+markers'\n",
    ")\n",
    "\n",
    "trace13 = go.Scatter(\n",
    "    x = np.arange(6),\n",
    "    y = bin_dict1['./180/c3_180.mp4'],\n",
    "    mode='lines+markers'\n",
    ")\n",
    "\n",
    "trace14 = go.Scatter(\n",
    "    x = np.arange(6),\n",
    "    y = bin_dict1['./180/c4_180.mp4'],\n",
    "    mode='lines+markers'\n",
    ")\n",
    "\n",
    "\n",
    "layout2 = go.Layout(\n",
    "    title='Images detected Plot(fx = 0.2)',\n",
    "    yaxis = dict(title='num_image'),\n",
    "    xaxis = dict(title='bins')\n",
    ")\n",
    "\n",
    "trace21 = go.Scatter(\n",
    "    x = np.arange(6),\n",
    "    y = bin_dict2['./180/c1_180.mp4'],\n",
    "    mode='lines+markers'\n",
    ")\n",
    "\n",
    "trace22 = go.Scatter(\n",
    "    x = np.arange(6),\n",
    "    y = bin_dict2['./180/c2_180.mp4'],\n",
    "    mode='lines+markers'\n",
    ")\n",
    "\n",
    "trace23 = go.Scatter(\n",
    "    x = np.arange(6),\n",
    "    y = bin_dict2['./180/c3_180.mp4'],\n",
    "    mode='lines+markers'\n",
    ")\n",
    "\n",
    "trace24 = go.Scatter(\n",
    "    x = np.arange(6),\n",
    "    y = bin_dict2['./180/c4_180.mp4'],\n",
    "    mode='lines+markers'\n",
    ")\n",
    "\n",
    "\n",
    "layout3 = go.Layout(\n",
    "    title='Images detected Plot(fx = 0.3)',\n",
    "    yaxis = dict(title='num_image'),\n",
    "    xaxis = dict(title='bins')\n",
    ")\n",
    "\n",
    "trace31 = go.Scatter(\n",
    "    x = np.arange(6),\n",
    "    y = bin_dict3['./180/c1_180.mp4'],\n",
    "    mode='lines+markers'\n",
    ")\n",
    "\n",
    "trace32 = go.Scatter(\n",
    "    x = np.arange(6),\n",
    "    y = bin_dict3['./180/c2_180.mp4'],\n",
    "    mode='lines+markers'\n",
    ")\n",
    "\n",
    "trace33 = go.Scatter(\n",
    "    x = np.arange(6),\n",
    "    y = bin_dict3['./180/c3_180.mp4'],\n",
    "    mode='lines+markers'\n",
    ")\n",
    "\n",
    "trace34 = go.Scatter(\n",
    "    x = np.arange(6),\n",
    "    y = bin_dict3['./180/c4_180.mp4'],\n",
    "    mode='lines+markers'\n",
    ")\n",
    "\n",
    "fig1 = go.Figure(data=[trace11,trace12,trace13,trace14], layout=layout1)\n",
    "fig2 = go.Figure(data=[trace21,trace22,trace23,trace24], layout=layout2)\n",
    "fig3 = go.Figure(data=[trace31,trace32,trace33,trace34], layout=layout3)\n",
    "\n",
    "py.offline.iplot(fig1)\n",
    "py.offline.iplot(fig2)\n",
    "py.offline.iplot(fig3)"
   ]
  },
  {
   "cell_type": "code",
   "execution_count": null,
   "metadata": {},
   "outputs": [],
   "source": []
  }
 ],
 "metadata": {
  "kernelspec": {
   "display_name": "Python 3",
   "language": "python",
   "name": "python3"
  },
  "language_info": {
   "codemirror_mode": {
    "name": "ipython",
    "version": 3
   },
   "file_extension": ".py",
   "mimetype": "text/x-python",
   "name": "python",
   "nbconvert_exporter": "python",
   "pygments_lexer": "ipython3",
   "version": "3.7.3"
  }
 },
 "nbformat": 4,
 "nbformat_minor": 2
}
