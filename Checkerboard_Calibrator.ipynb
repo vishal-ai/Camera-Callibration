{
 "cells": [
  {
   "cell_type": "markdown",
   "metadata": {},
   "source": [
    "# Camera Calibration Notebook"
   ]
  },
  {
   "cell_type": "code",
   "execution_count": 26,
   "metadata": {},
   "outputs": [],
   "source": [
    "import cv2\n",
    "import glob\n",
    "import numpy as np\n",
    "import matplotlib.pyplot as plt\n",
    "import os"
   ]
  },
  {
   "cell_type": "code",
   "execution_count": 27,
   "metadata": {},
   "outputs": [],
   "source": [
    "dirs = [\"./field_checkerboard_video/\"] #Insert video directory here"
   ]
  },
  {
   "cell_type": "markdown",
   "metadata": {},
   "source": [
    "## Pixel Reprojection error ( Total and Across Bins)"
   ]
  },
  {
   "cell_type": "code",
   "execution_count": 28,
   "metadata": {},
   "outputs": [],
   "source": [
    "if not (os.path.exists(\"./vid_hard_check/\")):\n",
    "    os.makedirs(\"./vid_hard_check/\")"
   ]
  },
  {
   "cell_type": "code",
   "execution_count": 30,
   "metadata": {},
   "outputs": [
    {
     "name": "stdout",
     "output_type": "stream",
     "text": [
      "./field_checkerboard_video/video_baby_chessboard_1_1141624325.mp4\n",
      "474\n",
      "0.1 0\n",
      "0.2 259\n",
      "total error: 0.01923959461374147 for scaling of 0.2 with 259 number of images for file ./field_checkerboard_video/video_baby_chessboard_1_1141624325.mp4\n",
      "0.30000000000000004 359\n",
      "total error: 0.01775287213085458 for scaling of 0.30000000000000004 with 359 number of images for file ./field_checkerboard_video/video_baby_chessboard_1_1141624325.mp4\n",
      "./field_checkerboard_video/video_baby_chessboard_1_1199957102449078771.mp4\n",
      "446\n",
      "0.1 0\n",
      "0.2 40\n",
      "total error: 0.04465142360415675 for scaling of 0.2 with 40 number of images for file ./field_checkerboard_video/video_baby_chessboard_1_1199957102449078771.mp4\n",
      "0.30000000000000004 137\n",
      "total error: 0.03619907162189051 for scaling of 0.30000000000000004 with 137 number of images for file ./field_checkerboard_video/video_baby_chessboard_1_1199957102449078771.mp4\n",
      "./field_checkerboard_video/video_baby_chessboard_1_149427485.mp4\n",
      "167\n",
      "0.1 0\n",
      "0.2 95\n",
      "total error: 0.0435800959373575 for scaling of 0.2 with 95 number of images for file ./field_checkerboard_video/video_baby_chessboard_1_149427485.mp4\n",
      "0.30000000000000004 112\n",
      "total error: 0.0876029087238497 for scaling of 0.30000000000000004 with 112 number of images for file ./field_checkerboard_video/video_baby_chessboard_1_149427485.mp4\n",
      "./field_checkerboard_video/video_baby_chessboard_1_1523308799.mp4\n",
      "188\n",
      "0.1 0\n",
      "0.2 136\n",
      "total error: 0.03207270868182319 for scaling of 0.2 with 136 number of images for file ./field_checkerboard_video/video_baby_chessboard_1_1523308799.mp4\n",
      "0.30000000000000004 158\n",
      "total error: 0.04927249307193274 for scaling of 0.30000000000000004 with 158 number of images for file ./field_checkerboard_video/video_baby_chessboard_1_1523308799.mp4\n",
      "./field_checkerboard_video/video_baby_chessboard_1_1524731180133304457.mp4\n",
      "362\n",
      "0.1 0\n",
      "0.2 0\n",
      "0.30000000000000004 57\n",
      "total error: 0.029042592957268593 for scaling of 0.30000000000000004 with 57 number of images for file ./field_checkerboard_video/video_baby_chessboard_1_1524731180133304457.mp4\n",
      "./field_checkerboard_video/video_baby_chessboard_1_1767782585.mp4\n",
      "288\n",
      "0.1 0\n",
      "0.2 49\n",
      "total error: 0.02856340972978148 for scaling of 0.2 with 49 number of images for file ./field_checkerboard_video/video_baby_chessboard_1_1767782585.mp4\n",
      "0.30000000000000004 159\n",
      "total error: 0.021270628103969017 for scaling of 0.30000000000000004 with 159 number of images for file ./field_checkerboard_video/video_baby_chessboard_1_1767782585.mp4\n",
      "./field_checkerboard_video/video_baby_chessboard_1_180510099.mp4\n",
      "408\n",
      "0.1 0\n",
      "0.2 188\n",
      "total error: 0.030324142085769994 for scaling of 0.2 with 188 number of images for file ./field_checkerboard_video/video_baby_chessboard_1_180510099.mp4\n",
      "0.30000000000000004 240\n",
      "total error: 0.026943501437614856 for scaling of 0.30000000000000004 with 240 number of images for file ./field_checkerboard_video/video_baby_chessboard_1_180510099.mp4\n",
      "./field_checkerboard_video/video_baby_chessboard_1_1980536772357053308.mp4\n",
      "317\n",
      "0.1 0\n",
      "0.2 2\n",
      "total error: 0.0303860659343254 for scaling of 0.2 with 2 number of images for file ./field_checkerboard_video/video_baby_chessboard_1_1980536772357053308.mp4\n",
      "0.30000000000000004 80\n",
      "total error: 0.03578788381776772 for scaling of 0.30000000000000004 with 80 number of images for file ./field_checkerboard_video/video_baby_chessboard_1_1980536772357053308.mp4\n",
      "./field_checkerboard_video/video_baby_chessboard_1_225899432698002702.mp4\n",
      "309\n",
      "0.1 0\n",
      "0.2 5\n",
      "total error: 0.06885192735155873 for scaling of 0.2 with 5 number of images for file ./field_checkerboard_video/video_baby_chessboard_1_225899432698002702.mp4\n",
      "0.30000000000000004 182\n",
      "total error: 0.04015588970450611 for scaling of 0.30000000000000004 with 182 number of images for file ./field_checkerboard_video/video_baby_chessboard_1_225899432698002702.mp4\n",
      "./field_checkerboard_video/video_baby_chessboard_1_2484258195387306665.mp4\n",
      "397\n",
      "0.1 0\n",
      "0.2 0\n",
      "0.30000000000000004 7\n",
      "total error: 0.04313663254148371 for scaling of 0.30000000000000004 with 7 number of images for file ./field_checkerboard_video/video_baby_chessboard_1_2484258195387306665.mp4\n",
      "./field_checkerboard_video/video_baby_chessboard_1_4306691852775439352.mp4\n",
      "345\n",
      "0.1 0\n",
      "0.2 0\n",
      "0.30000000000000004 42\n",
      "total error: 0.018262638508894615 for scaling of 0.30000000000000004 with 42 number of images for file ./field_checkerboard_video/video_baby_chessboard_1_4306691852775439352.mp4\n",
      "./field_checkerboard_video/video_baby_chessboard_1_470492102.mp4\n",
      "143\n",
      "0.1 0\n",
      "0.2 63\n",
      "total error: 0.06718770628204547 for scaling of 0.2 with 63 number of images for file ./field_checkerboard_video/video_baby_chessboard_1_470492102.mp4\n",
      "0.30000000000000004 76\n",
      "total error: 0.17550133048907987 for scaling of 0.30000000000000004 with 76 number of images for file ./field_checkerboard_video/video_baby_chessboard_1_470492102.mp4\n",
      "./field_checkerboard_video/video_baby_chessboard_1_474810381.mp4\n",
      "386\n",
      "0.1 0\n",
      "0.2 8\n",
      "total error: 0.04477793695923437 for scaling of 0.2 with 8 number of images for file ./field_checkerboard_video/video_baby_chessboard_1_474810381.mp4\n",
      "0.30000000000000004 104\n",
      "total error: 0.015977395517873395 for scaling of 0.30000000000000004 with 104 number of images for file ./field_checkerboard_video/video_baby_chessboard_1_474810381.mp4\n",
      "./field_checkerboard_video/video_baby_chessboard_1_476513589.mp4\n",
      "189\n",
      "0.1 0\n",
      "0.2 138\n",
      "total error: 0.10361982170166585 for scaling of 0.2 with 138 number of images for file ./field_checkerboard_video/video_baby_chessboard_1_476513589.mp4\n",
      "0.30000000000000004 156\n",
      "total error: 0.13316175630398866 for scaling of 0.30000000000000004 with 156 number of images for file ./field_checkerboard_video/video_baby_chessboard_1_476513589.mp4\n",
      "./field_checkerboard_video/video_baby_chessboard_1_5637739893095883578.mp4\n",
      "316\n",
      "0.1 0\n",
      "0.2 24\n",
      "total error: 0.03766231827405928 for scaling of 0.2 with 24 number of images for file ./field_checkerboard_video/video_baby_chessboard_1_5637739893095883578.mp4\n",
      "0.30000000000000004 216\n",
      "total error: 0.024752222989350443 for scaling of 0.30000000000000004 with 216 number of images for file ./field_checkerboard_video/video_baby_chessboard_1_5637739893095883578.mp4\n",
      "./field_checkerboard_video/video_baby_chessboard_1_6098708756537853779.mp4\n",
      "376\n",
      "0.1 0\n",
      "0.2 34\n",
      "total error: 0.0382334249641749 for scaling of 0.2 with 34 number of images for file ./field_checkerboard_video/video_baby_chessboard_1_6098708756537853779.mp4\n",
      "0.30000000000000004 115\n",
      "total error: 0.02077831293088127 for scaling of 0.30000000000000004 with 115 number of images for file ./field_checkerboard_video/video_baby_chessboard_1_6098708756537853779.mp4\n",
      "./field_checkerboard_video/video_baby_chessboard_1_781330436338546128.mp4\n",
      "344\n",
      "0.1 0\n",
      "0.2 9\n",
      "total error: 0.022930177991285234 for scaling of 0.2 with 9 number of images for file ./field_checkerboard_video/video_baby_chessboard_1_781330436338546128.mp4\n",
      "0.30000000000000004 108\n",
      "total error: 0.017506989142904664 for scaling of 0.30000000000000004 with 108 number of images for file ./field_checkerboard_video/video_baby_chessboard_1_781330436338546128.mp4\n",
      "./field_checkerboard_video/video_baby_chessboard_1_8351759481734638263.mp4\n",
      "297\n",
      "0.1 0\n",
      "0.2 45\n",
      "total error: 0.03545995457482592 for scaling of 0.2 with 45 number of images for file ./field_checkerboard_video/video_baby_chessboard_1_8351759481734638263.mp4\n",
      "0.30000000000000004 188\n",
      "total error: 0.019914662562982757 for scaling of 0.30000000000000004 with 188 number of images for file ./field_checkerboard_video/video_baby_chessboard_1_8351759481734638263.mp4\n",
      "./field_checkerboard_video/video_baby_chessboard_1_8395346829755624965.mp4\n",
      "253\n",
      "0.1 0\n",
      "0.2 37\n",
      "total error: 0.0364673285448102 for scaling of 0.2 with 37 number of images for file ./field_checkerboard_video/video_baby_chessboard_1_8395346829755624965.mp4\n",
      "0.30000000000000004 157\n",
      "total error: 0.024798213302062104 for scaling of 0.30000000000000004 with 157 number of images for file ./field_checkerboard_video/video_baby_chessboard_1_8395346829755624965.mp4\n",
      "./field_checkerboard_video/video_baby_chessboard_1_8775542654198699899.mp4\n",
      "317\n",
      "0.1 0\n",
      "0.2 20\n",
      "total error: 0.034430533016837656 for scaling of 0.2 with 20 number of images for file ./field_checkerboard_video/video_baby_chessboard_1_8775542654198699899.mp4\n",
      "0.30000000000000004 121\n"
     ]
    },
    {
     "name": "stdout",
     "output_type": "stream",
     "text": [
      "total error: 0.03134156605388351 for scaling of 0.30000000000000004 with 121 number of images for file ./field_checkerboard_video/video_baby_chessboard_1_8775542654198699899.mp4\n",
      "./field_checkerboard_video/video_baby_chessboard_1_9199617264961261379.mp4\n",
      "325\n",
      "0.1 0\n",
      "0.2 21\n",
      "total error: 0.03182778646791043 for scaling of 0.2 with 21 number of images for file ./field_checkerboard_video/video_baby_chessboard_1_9199617264961261379.mp4\n",
      "0.30000000000000004 219\n",
      "total error: 0.01738784156422964 for scaling of 0.30000000000000004 with 219 number of images for file ./field_checkerboard_video/video_baby_chessboard_1_9199617264961261379.mp4\n"
     ]
    }
   ],
   "source": [
    "global_dict_no_eq = {}\n",
    "for d in dirs:\n",
    "    flist = sorted(glob.glob(os.path.join(d, \"*.mp4\")))\n",
    "    for vf in flist:\n",
    "        print(vf)\n",
    "        vidcap = cv2.VideoCapture(vf)\n",
    "\n",
    "        files = glob.glob(\"./vid_hard_check/*\")\n",
    "        for fl in files:\n",
    "            os.remove(fl)\n",
    "\n",
    "        success,image = vidcap.read()\n",
    "        count = 0\n",
    "        success = True\n",
    "        while success:\n",
    "            success,image = vidcap.read()\n",
    "            cv2.imwrite(\"./vid_hard_check/frame%d.png\" % count, image)     # save frame as PNG file\n",
    "            if cv2.waitKey(10) == 27:                     # exit if Escape is hit\n",
    "                break\n",
    "            count += 1\n",
    "\n",
    "        print(count)\n",
    "\n",
    "        nx = 5\n",
    "        ny = 5\n",
    "        bins = 6\n",
    "        \n",
    "        \n",
    "        interval = count/bins\n",
    "\n",
    "        mesh = np.mgrid[0:nx, 0:ny].T.reshape(-1,2)\n",
    "        objp = np.hstack((mesh, np.zeros(shape = (nx*ny,1))))\n",
    "        objp = np.array(objp, dtype = np.float32)\n",
    "\n",
    "        fname = glob.glob('./vid_hard_check/*.png')\n",
    "        \n",
    "        for j in range(1,4):\n",
    "\n",
    "            imgpoints = []\n",
    "            objpoints = []\n",
    "            imgpoints2_list = []\n",
    "            detected_list = []\n",
    "            bin_error = []\n",
    "            bincount = np.zeros(6)\n",
    "            fx = j*0.1\n",
    "            fy = j*0.1\n",
    "            for i,f in enumerate(fname):\n",
    "                try:\n",
    "                    imcv = cv2.imread(f)\n",
    "                    imcv = cv2.cvtColor(imcv, cv2.COLOR_BGR2GRAY)\n",
    "\n",
    "####### Uncomment below two lines to apply histogram equalization for removing shiny effects, cl = 2, 5 or 10 work best #####                    \n",
    "\n",
    "#                     cli = cv2.createCLAHE(clipLimit = cl)\n",
    "#                     imcv = cli.apply(imcv)\n",
    "\n",
    "                    imcv = cv2.GaussianBlur(imcv, ksize = (5,5), sigmaX = 1, sigmaY = 1)\n",
    "                    imcv = cv2.resize(imcv, (0, 0), fx=fx, fy=fy, interpolation=cv2.INTER_AREA)\n",
    "\n",
    "\n",
    "                    retval, corners = cv2.findChessboardCorners(imcv,(nx,ny), None)\n",
    "                    if (retval == True):\n",
    "\n",
    "                        detected_list.append(f)\n",
    "###### Uncomment below lines to plot the detected checkerboard corners #######\n",
    "\n",
    "#                         plt.figure()\n",
    "#                         cv2.drawChessboardCorners(imcv, (nx, ny), corners, retval)\n",
    "#                         plt.imshow(imcv, cmap='gray')\n",
    "\n",
    "                        imgpoints.append(corners)\n",
    "                        objpoints.append(objp*20)\n",
    "                        bincount[int(i/interval)] += 1\n",
    "                              \n",
    "                except Exception as e:\n",
    "                    pass\n",
    "\n",
    "            print(fx, len(objpoints))\n",
    "            mean_error = 1.0\n",
    "            mtx = dist = rvecs = tvecs = []\n",
    "            if (len(objpoints) != 0):\n",
    "                retval, mtx, dist, rvecs, tvecs = cv2.calibrateCamera(objpoints, imgpoints, imcv.shape[::-1], None, None)\n",
    "                mean_error = 0.0\n",
    "                \n",
    "                tot_len = len(objpoints)\n",
    "                st = 0\n",
    "                for b in range(bins):\n",
    "                    berror = 0.0\n",
    "                    if b != 0 :\n",
    "                        st += bincount[b-1]\n",
    "                    else: \n",
    "                        st = 0\n",
    "                    end = st + bincount[b]\n",
    "                    for i in range(int(st),int(end)):\n",
    "                        imgpoints2, _ = cv2.projectPoints(objpoints[i], rvecs[i], tvecs[i], mtx, dist)\n",
    "                        imgpoints2_list.append(imgpoints2)\n",
    "                        error = cv2.norm(imgpoints[i], imgpoints2, cv2.NORM_L2)/len(imgpoints2)\n",
    "                        berror += error\n",
    "                    if bincount[b] != 0:\n",
    "                        bin_error.append(berror/bincount[b])\n",
    "                    else:\n",
    "                        berror = 1.0\n",
    "\n",
    "                for i in range(len(objpoints)):\n",
    "                    imgpoints2, _ = cv2.projectPoints(objpoints[i], rvecs[i], tvecs[i], mtx, dist)\n",
    "                    imgpoints2_list.append(imgpoints2)\n",
    "                    error = cv2.norm(imgpoints[i], imgpoints2, cv2.NORM_L2)/len(imgpoints2)\n",
    "                    mean_error += error\n",
    "                print( \"total error: {} for scaling of {} with {} number of images for file {}\".format(mean_error/len(objpoints), fx, len(objpoints), vf))\n",
    "\n",
    "            if vf not in global_dict_no_eq:\n",
    "                global_dict_no_eq[vf] = []\n",
    "\n",
    "            global_dict_no_eq[vf].append([fx, len(objpoints), mean_error/(len(objpoints)+0.00001), mtx, dist,detected_list,imgpoints, bin_error, bincount])"
   ]
  },
  {
   "cell_type": "markdown",
   "metadata": {},
   "source": [
    "## Plot of reprojection errors across bins"
   ]
  },
  {
   "cell_type": "code",
   "execution_count": 32,
   "metadata": {},
   "outputs": [],
   "source": [
    "import pickle\n",
    "pickle_out = open(\"field.pkl\",\"wb\")\n",
    "pickle.dump(global_dict_no_eq, pickle_out)\n",
    "pickle_out.close()"
   ]
  },
  {
   "cell_type": "code",
   "execution_count": 35,
   "metadata": {},
   "outputs": [],
   "source": [
    "plot_dict1 = {}\n",
    "plot_dict2 = {}\n",
    "plot_dict3 = {}\n",
    "\n",
    "\n",
    "bin_dict1 = {}\n",
    "bin_dict2 = {}\n",
    "bin_dict3 = {}\n"
   ]
  },
  {
   "cell_type": "code",
   "execution_count": 36,
   "metadata": {},
   "outputs": [],
   "source": [
    "for key in global_dict_no_eq:\n",
    "    l = global_dict_no_eq[key]\n",
    "    plot_dict1[key] = l[0][7]\n",
    "    bin_dict1[key] = l[0][8]\n",
    "    plot_dict2[key] = l[1][7]\n",
    "    bin_dict2[key] = l[1][8]\n",
    "    plot_dict3[key] = l[2][7]\n",
    "    bin_dict3[key] = l[2][8]"
   ]
  },
  {
   "cell_type": "code",
   "execution_count": 42,
   "metadata": {},
   "outputs": [
    {
     "name": "stdout",
     "output_type": "stream",
     "text": [
      "./field_checkerboard_video/video_baby_chessboard_1_1141624325.mp4 []\n",
      "./field_checkerboard_video/video_baby_chessboard_1_1199957102449078771.mp4 []\n",
      "./field_checkerboard_video/video_baby_chessboard_1_149427485.mp4 []\n",
      "./field_checkerboard_video/video_baby_chessboard_1_1523308799.mp4 []\n",
      "./field_checkerboard_video/video_baby_chessboard_1_1524731180133304457.mp4 []\n",
      "./field_checkerboard_video/video_baby_chessboard_1_1767782585.mp4 []\n",
      "./field_checkerboard_video/video_baby_chessboard_1_180510099.mp4 []\n",
      "./field_checkerboard_video/video_baby_chessboard_1_1980536772357053308.mp4 []\n",
      "./field_checkerboard_video/video_baby_chessboard_1_225899432698002702.mp4 []\n",
      "./field_checkerboard_video/video_baby_chessboard_1_2484258195387306665.mp4 []\n",
      "./field_checkerboard_video/video_baby_chessboard_1_4306691852775439352.mp4 []\n",
      "./field_checkerboard_video/video_baby_chessboard_1_470492102.mp4 []\n",
      "./field_checkerboard_video/video_baby_chessboard_1_474810381.mp4 []\n",
      "./field_checkerboard_video/video_baby_chessboard_1_476513589.mp4 []\n",
      "./field_checkerboard_video/video_baby_chessboard_1_5637739893095883578.mp4 []\n",
      "./field_checkerboard_video/video_baby_chessboard_1_6098708756537853779.mp4 []\n",
      "./field_checkerboard_video/video_baby_chessboard_1_781330436338546128.mp4 []\n",
      "./field_checkerboard_video/video_baby_chessboard_1_8351759481734638263.mp4 []\n",
      "./field_checkerboard_video/video_baby_chessboard_1_8395346829755624965.mp4 []\n",
      "./field_checkerboard_video/video_baby_chessboard_1_8775542654198699899.mp4 []\n",
      "./field_checkerboard_video/video_baby_chessboard_1_9199617264961261379.mp4 []\n"
     ]
    }
   ],
   "source": [
    "for key in plot_dict1.keys():\n",
    "    print(key, plot_dict1[key])"
   ]
  },
  {
   "cell_type": "code",
   "execution_count": 37,
   "metadata": {},
   "outputs": [
    {
     "data": {
      "text/html": [
       "        <script type=\"text/javascript\">\n",
       "        window.PlotlyConfig = {MathJaxConfig: 'local'};\n",
       "        if (window.MathJax) {MathJax.Hub.Config({SVG: {font: \"STIX-Web\"}});}\n",
       "        if (typeof require !== 'undefined') {\n",
       "        require.undef(\"plotly\");\n",
       "        requirejs.config({\n",
       "            paths: {\n",
       "                'plotly': ['https://cdn.plot.ly/plotly-latest.min']\n",
       "            }\n",
       "        });\n",
       "        require(['plotly'], function(Plotly) {\n",
       "            window._Plotly = Plotly;\n",
       "        });\n",
       "        }\n",
       "        </script>\n",
       "        "
      ]
     },
     "metadata": {},
     "output_type": "display_data"
    }
   ],
   "source": [
    "import plotly as py\n",
    "import plotly.graph_objs as go\n",
    "import ipywidgets as widgets\n",
    "\n",
    "py.offline.init_notebook_mode(connected=True)"
   ]
  },
  {
   "cell_type": "code",
   "execution_count": 57,
   "metadata": {},
   "outputs": [
    {
     "ename": "ValueError",
     "evalue": "operands could not be broadcast together with shapes (6,) (2,) (6,) ",
     "output_type": "error",
     "traceback": [
      "\u001b[0;31m---------------------------------------------------------------------------\u001b[0m",
      "\u001b[0;31mValueError\u001b[0m                                Traceback (most recent call last)",
      "\u001b[0;32m<ipython-input-57-3d378576649b>\u001b[0m in \u001b[0;36m<module>\u001b[0;34m\u001b[0m\n\u001b[1;32m     32\u001b[0m     )\n\u001b[1;32m     33\u001b[0m     \u001b[0;32mif\u001b[0m \u001b[0;34m(\u001b[0m\u001b[0mlen\u001b[0m\u001b[0;34m(\u001b[0m\u001b[0mtrace_temp\u001b[0m\u001b[0;34m.\u001b[0m\u001b[0my\u001b[0m\u001b[0;34m)\u001b[0m \u001b[0;34m>\u001b[0m \u001b[0;36m0\u001b[0m\u001b[0;34m)\u001b[0m\u001b[0;34m:\u001b[0m\u001b[0;34m\u001b[0m\u001b[0;34m\u001b[0m\u001b[0m\n\u001b[0;32m---> 34\u001b[0;31m         \u001b[0my2_avg\u001b[0m \u001b[0;34m+=\u001b[0m \u001b[0mnp\u001b[0m\u001b[0;34m.\u001b[0m\u001b[0marray\u001b[0m\u001b[0;34m(\u001b[0m\u001b[0mtrace_temp\u001b[0m\u001b[0;34m.\u001b[0m\u001b[0my\u001b[0m\u001b[0;34m)\u001b[0m\u001b[0;34m\u001b[0m\u001b[0;34m\u001b[0m\u001b[0m\n\u001b[0m\u001b[1;32m     35\u001b[0m     \u001b[0mtrace2\u001b[0m\u001b[0;34m.\u001b[0m\u001b[0mappend\u001b[0m\u001b[0;34m(\u001b[0m\u001b[0mtrace_temp\u001b[0m\u001b[0;34m)\u001b[0m\u001b[0;34m\u001b[0m\u001b[0;34m\u001b[0m\u001b[0m\n\u001b[1;32m     36\u001b[0m \u001b[0;34m\u001b[0m\u001b[0m\n",
      "\u001b[0;31mValueError\u001b[0m: operands could not be broadcast together with shapes (6,) (2,) (6,) "
     ]
    }
   ],
   "source": [
    "layout1 = go.Layout(\n",
    "    title='Reprojection Error Plot(fx = 0.1)',\n",
    "    yaxis = dict(title='error'),\n",
    "    xaxis = dict(title='bins')\n",
    ")\n",
    "\n",
    "trace1 = []\n",
    "trace2 = []\n",
    "trace3 = []\n",
    "\n",
    "\n",
    "\n",
    "for key in plot_dict1.keys():\n",
    "    trace_temp = go.Scatter(\n",
    "    x = np.arange(6),\n",
    "    y = plot_dict1[key],\n",
    "    mode='lines+markers'\n",
    "    )\n",
    "\n",
    "\n",
    "for key in plot_dict2.keys():\n",
    "    trace_temp = go.Scatter(\n",
    "    x = np.arange(6),\n",
    "    y = plot_dict2[key],\n",
    "    mode='lines+markers'\n",
    "    )\n",
    "\n",
    "    \n",
    "for key in plot_dict3.keys():\n",
    "    trace_temp = go.Scatter(\n",
    "    x = np.arange(6),\n",
    "    y = plot_dict3[key],\n",
    "    mode='lines+markers'\n",
    "    )\n",
    "\n",
    "\n",
    "layout2 = go.Layout(\n",
    "    title='Reprojection Error Plot(fx = 0.2)',\n",
    "    yaxis = dict(title='error'),\n",
    "    xaxis = dict(title='bins')\n",
    ")\n",
    "\n",
    "layout3 = go.Layout(\n",
    "    title='Reprojection Error Plot(fx = 0.3)',\n",
    "    yaxis = dict(title='error'),\n",
    "    xaxis = dict(title='bins')\n",
    ")"
   ]
  },
  {
   "cell_type": "code",
   "execution_count": 40,
   "metadata": {},
   "outputs": [],
   "source": [
    "fig1 = go.Figure(data=trace1, layout=layout1)\n",
    "fig2 = go.Figure(data=trace2, layout=layout2)\n",
    "fig3 = go.Figure(data=trace3, layout=layout3)"
   ]
  },
  {
   "cell_type": "code",
   "execution_count": 89,
   "metadata": {},
   "outputs": [],
   "source": [
    "# fig1 = go.Figure(data=[trace11,trace12,trace13,trace14], layout=layout1)\n",
    "# fig2 = go.Figure(data=[trace21,trace22,trace23,trace24], layout=layout2)\n",
    "# fig3 = go.Figure(data=[trace31,trace32,trace33,trace34], layout=layout3)"
   ]
  },
  {
   "cell_type": "code",
   "execution_count": 41,
   "metadata": {},
   "outputs": [
    {
     "data": {
      "application/vnd.plotly.v1+json": {
       "config": {
        "linkText": "Export to plot.ly",
        "plotlyServerURL": "https://plot.ly",
        "showLink": false
       },
       "data": [
        {
         "mode": "lines+markers",
         "type": "scatter",
         "uid": "9c1fb206-2680-4b97-ad50-3fccc25e8548",
         "x": [
          0,
          1,
          2,
          3,
          4,
          5
         ],
         "y": []
        },
        {
         "mode": "lines+markers",
         "type": "scatter",
         "uid": "c778f512-be4a-4b5a-aade-66d024ee45e9",
         "x": [
          0,
          1,
          2,
          3,
          4,
          5
         ],
         "y": []
        },
        {
         "mode": "lines+markers",
         "type": "scatter",
         "uid": "0073b1f9-ac88-4408-93cf-c09b8fbf6228",
         "x": [
          0,
          1,
          2,
          3,
          4,
          5
         ],
         "y": []
        },
        {
         "mode": "lines+markers",
         "type": "scatter",
         "uid": "3ea816e3-1745-4fef-a62a-7a0bc31a6164",
         "x": [
          0,
          1,
          2,
          3,
          4,
          5
         ],
         "y": []
        },
        {
         "mode": "lines+markers",
         "type": "scatter",
         "uid": "a183391d-a13f-4c68-8c08-ae32326a3f98",
         "x": [
          0,
          1,
          2,
          3,
          4,
          5
         ],
         "y": []
        },
        {
         "mode": "lines+markers",
         "type": "scatter",
         "uid": "f0c45cdd-3f8b-4c18-8f95-705f44065da3",
         "x": [
          0,
          1,
          2,
          3,
          4,
          5
         ],
         "y": []
        },
        {
         "mode": "lines+markers",
         "type": "scatter",
         "uid": "9e351004-bd55-427f-8a97-f4e2ce19c264",
         "x": [
          0,
          1,
          2,
          3,
          4,
          5
         ],
         "y": []
        },
        {
         "mode": "lines+markers",
         "type": "scatter",
         "uid": "07a5fdd8-24dc-40e9-a355-b608784280ca",
         "x": [
          0,
          1,
          2,
          3,
          4,
          5
         ],
         "y": []
        },
        {
         "mode": "lines+markers",
         "type": "scatter",
         "uid": "2144dfbb-5cbf-4733-b359-7831db12620c",
         "x": [
          0,
          1,
          2,
          3,
          4,
          5
         ],
         "y": []
        },
        {
         "mode": "lines+markers",
         "type": "scatter",
         "uid": "671dbe7a-76c2-485d-b640-29d0bc8ff820",
         "x": [
          0,
          1,
          2,
          3,
          4,
          5
         ],
         "y": []
        },
        {
         "mode": "lines+markers",
         "type": "scatter",
         "uid": "02124f7d-61fa-49a8-88a1-17b4a112f87e",
         "x": [
          0,
          1,
          2,
          3,
          4,
          5
         ],
         "y": []
        },
        {
         "mode": "lines+markers",
         "type": "scatter",
         "uid": "3d007d8c-2a7f-4ebe-83e0-74d62dfd61f3",
         "x": [
          0,
          1,
          2,
          3,
          4,
          5
         ],
         "y": []
        },
        {
         "mode": "lines+markers",
         "type": "scatter",
         "uid": "e7b73c72-4202-4dd4-ac83-83a1506f5b31",
         "x": [
          0,
          1,
          2,
          3,
          4,
          5
         ],
         "y": []
        },
        {
         "mode": "lines+markers",
         "type": "scatter",
         "uid": "8c1e9e4f-6d08-47c5-9c43-2c26fb7999a4",
         "x": [
          0,
          1,
          2,
          3,
          4,
          5
         ],
         "y": []
        },
        {
         "mode": "lines+markers",
         "type": "scatter",
         "uid": "4841a9bf-c880-4338-aca1-92f03b03bfbb",
         "x": [
          0,
          1,
          2,
          3,
          4,
          5
         ],
         "y": []
        },
        {
         "mode": "lines+markers",
         "type": "scatter",
         "uid": "9062abbf-a847-4907-9cfb-8a62e7cc0ac1",
         "x": [
          0,
          1,
          2,
          3,
          4,
          5
         ],
         "y": []
        },
        {
         "mode": "lines+markers",
         "type": "scatter",
         "uid": "eec4c1c8-f6bb-460a-9638-5f47a44a8a9a",
         "x": [
          0,
          1,
          2,
          3,
          4,
          5
         ],
         "y": []
        },
        {
         "mode": "lines+markers",
         "type": "scatter",
         "uid": "a5037df3-1b77-4d76-844a-ca97f29e2e93",
         "x": [
          0,
          1,
          2,
          3,
          4,
          5
         ],
         "y": []
        },
        {
         "mode": "lines+markers",
         "type": "scatter",
         "uid": "228da060-cbb3-49d1-88d5-1ce097b06232",
         "x": [
          0,
          1,
          2,
          3,
          4,
          5
         ],
         "y": []
        },
        {
         "mode": "lines+markers",
         "type": "scatter",
         "uid": "0187b489-3c2c-4a9c-a464-186c5d477249",
         "x": [
          0,
          1,
          2,
          3,
          4,
          5
         ],
         "y": []
        },
        {
         "mode": "lines+markers",
         "type": "scatter",
         "uid": "77bf1cf4-f7d6-4d74-bc45-dd3cc312a855",
         "x": [
          0,
          1,
          2,
          3,
          4,
          5
         ],
         "y": []
        }
       ],
       "layout": {
        "title": {
         "text": "Reprojection Error Plot(fx = 0.1)"
        },
        "xaxis": {
         "title": {
          "text": "bins"
         }
        },
        "yaxis": {
         "title": {
          "text": "error"
         }
        }
       }
      },
      "text/html": [
       "<div>\n",
       "        \n",
       "        \n",
       "            <div id=\"0cf27366-0d2d-4258-b41d-30fa8056a749\" class=\"plotly-graph-div\" style=\"height:525px; width:100%;\"></div>\n",
       "            <script type=\"text/javascript\">\n",
       "                require([\"plotly\"], function(Plotly) {\n",
       "                    window.PLOTLYENV=window.PLOTLYENV || {};\n",
       "                    window.PLOTLYENV.BASE_URL='https://plot.ly';\n",
       "                    \n",
       "                if (document.getElementById(\"0cf27366-0d2d-4258-b41d-30fa8056a749\")) {\n",
       "                    Plotly.newPlot(\n",
       "                        '0cf27366-0d2d-4258-b41d-30fa8056a749',\n",
       "                        [{\"mode\": \"lines+markers\", \"type\": \"scatter\", \"uid\": \"9c1fb206-2680-4b97-ad50-3fccc25e8548\", \"x\": [0, 1, 2, 3, 4, 5], \"y\": []}, {\"mode\": \"lines+markers\", \"type\": \"scatter\", \"uid\": \"c778f512-be4a-4b5a-aade-66d024ee45e9\", \"x\": [0, 1, 2, 3, 4, 5], \"y\": []}, {\"mode\": \"lines+markers\", \"type\": \"scatter\", \"uid\": \"0073b1f9-ac88-4408-93cf-c09b8fbf6228\", \"x\": [0, 1, 2, 3, 4, 5], \"y\": []}, {\"mode\": \"lines+markers\", \"type\": \"scatter\", \"uid\": \"3ea816e3-1745-4fef-a62a-7a0bc31a6164\", \"x\": [0, 1, 2, 3, 4, 5], \"y\": []}, {\"mode\": \"lines+markers\", \"type\": \"scatter\", \"uid\": \"a183391d-a13f-4c68-8c08-ae32326a3f98\", \"x\": [0, 1, 2, 3, 4, 5], \"y\": []}, {\"mode\": \"lines+markers\", \"type\": \"scatter\", \"uid\": \"f0c45cdd-3f8b-4c18-8f95-705f44065da3\", \"x\": [0, 1, 2, 3, 4, 5], \"y\": []}, {\"mode\": \"lines+markers\", \"type\": \"scatter\", \"uid\": \"9e351004-bd55-427f-8a97-f4e2ce19c264\", \"x\": [0, 1, 2, 3, 4, 5], \"y\": []}, {\"mode\": \"lines+markers\", \"type\": \"scatter\", \"uid\": \"07a5fdd8-24dc-40e9-a355-b608784280ca\", \"x\": [0, 1, 2, 3, 4, 5], \"y\": []}, {\"mode\": \"lines+markers\", \"type\": \"scatter\", \"uid\": \"2144dfbb-5cbf-4733-b359-7831db12620c\", \"x\": [0, 1, 2, 3, 4, 5], \"y\": []}, {\"mode\": \"lines+markers\", \"type\": \"scatter\", \"uid\": \"671dbe7a-76c2-485d-b640-29d0bc8ff820\", \"x\": [0, 1, 2, 3, 4, 5], \"y\": []}, {\"mode\": \"lines+markers\", \"type\": \"scatter\", \"uid\": \"02124f7d-61fa-49a8-88a1-17b4a112f87e\", \"x\": [0, 1, 2, 3, 4, 5], \"y\": []}, {\"mode\": \"lines+markers\", \"type\": \"scatter\", \"uid\": \"3d007d8c-2a7f-4ebe-83e0-74d62dfd61f3\", \"x\": [0, 1, 2, 3, 4, 5], \"y\": []}, {\"mode\": \"lines+markers\", \"type\": \"scatter\", \"uid\": \"e7b73c72-4202-4dd4-ac83-83a1506f5b31\", \"x\": [0, 1, 2, 3, 4, 5], \"y\": []}, {\"mode\": \"lines+markers\", \"type\": \"scatter\", \"uid\": \"8c1e9e4f-6d08-47c5-9c43-2c26fb7999a4\", \"x\": [0, 1, 2, 3, 4, 5], \"y\": []}, {\"mode\": \"lines+markers\", \"type\": \"scatter\", \"uid\": \"4841a9bf-c880-4338-aca1-92f03b03bfbb\", \"x\": [0, 1, 2, 3, 4, 5], \"y\": []}, {\"mode\": \"lines+markers\", \"type\": \"scatter\", \"uid\": \"9062abbf-a847-4907-9cfb-8a62e7cc0ac1\", \"x\": [0, 1, 2, 3, 4, 5], \"y\": []}, {\"mode\": \"lines+markers\", \"type\": \"scatter\", \"uid\": \"eec4c1c8-f6bb-460a-9638-5f47a44a8a9a\", \"x\": [0, 1, 2, 3, 4, 5], \"y\": []}, {\"mode\": \"lines+markers\", \"type\": \"scatter\", \"uid\": \"a5037df3-1b77-4d76-844a-ca97f29e2e93\", \"x\": [0, 1, 2, 3, 4, 5], \"y\": []}, {\"mode\": \"lines+markers\", \"type\": \"scatter\", \"uid\": \"228da060-cbb3-49d1-88d5-1ce097b06232\", \"x\": [0, 1, 2, 3, 4, 5], \"y\": []}, {\"mode\": \"lines+markers\", \"type\": \"scatter\", \"uid\": \"0187b489-3c2c-4a9c-a464-186c5d477249\", \"x\": [0, 1, 2, 3, 4, 5], \"y\": []}, {\"mode\": \"lines+markers\", \"type\": \"scatter\", \"uid\": \"77bf1cf4-f7d6-4d74-bc45-dd3cc312a855\", \"x\": [0, 1, 2, 3, 4, 5], \"y\": []}],\n",
       "                        {\"title\": {\"text\": \"Reprojection Error Plot(fx = 0.1)\"}, \"xaxis\": {\"title\": {\"text\": \"bins\"}}, \"yaxis\": {\"title\": {\"text\": \"error\"}}},\n",
       "                        {\"showLink\": false, \"linkText\": \"Export to plot.ly\", \"plotlyServerURL\": \"https://plot.ly\", \"responsive\": true}\n",
       "                    ).then(function(){\n",
       "                            \n",
       "var gd = document.getElementById('0cf27366-0d2d-4258-b41d-30fa8056a749');\n",
       "var x = new MutationObserver(function (mutations, observer) {{\n",
       "        var display = window.getComputedStyle(gd).display;\n",
       "        if (!display || display === 'none') {{\n",
       "            console.log([gd, 'removed!']);\n",
       "            Plotly.purge(gd);\n",
       "            observer.disconnect();\n",
       "        }}\n",
       "}});\n",
       "\n",
       "// Listen for the removal of the full notebook cells\n",
       "var notebookContainer = gd.closest('#notebook-container');\n",
       "if (notebookContainer) {{\n",
       "    x.observe(notebookContainer, {childList: true});\n",
       "}}\n",
       "\n",
       "// Listen for the clearing of the current output cell\n",
       "var outputEl = gd.closest('.output');\n",
       "if (outputEl) {{\n",
       "    x.observe(outputEl, {childList: true});\n",
       "}}\n",
       "\n",
       "                        })\n",
       "                };\n",
       "                });\n",
       "            </script>\n",
       "        </div>"
      ]
     },
     "metadata": {},
     "output_type": "display_data"
    },
    {
     "data": {
      "application/vnd.plotly.v1+json": {
       "config": {
        "linkText": "Export to plot.ly",
        "plotlyServerURL": "https://plot.ly",
        "showLink": false
       },
       "data": [
        {
         "mode": "lines+markers",
         "type": "scatter",
         "uid": "0b31153e-0e6c-4838-a0fc-0032b0c1c29d",
         "x": [
          0,
          1,
          2,
          3,
          4,
          5
         ],
         "y": [
          0.01727481816016919,
          0.018059598582941382,
          0.02211530630680824,
          0.020539893679965903,
          0.018591998693100156,
          0.017741107170253467
         ]
        },
        {
         "mode": "lines+markers",
         "type": "scatter",
         "uid": "26fb8311-61ed-44e5-9920-c1982ade3dd4",
         "x": [
          0,
          1,
          2,
          3,
          4,
          5
         ],
         "y": [
          0.043962544471778005,
          0.03916222432136629,
          0.046155411396890604,
          0.04769648466170121,
          0.043729534342086915,
          0.04513836371956817
         ]
        },
        {
         "mode": "lines+markers",
         "type": "scatter",
         "uid": "23b8c79a-f45e-40d7-9f92-2e81d514e2de",
         "x": [
          0,
          1,
          2,
          3,
          4,
          5
         ],
         "y": [
          0.04639370087874168,
          0.037809962997436504,
          0.043886952108533335,
          0.05018370994076788,
          0.04306197258196318,
          0.04110617376679007
         ]
        },
        {
         "mode": "lines+markers",
         "type": "scatter",
         "uid": "a3789e28-c65b-4eef-beea-abc81dc54816",
         "x": [
          0,
          1,
          2,
          3,
          4,
          5
         ],
         "y": [
          0.037177346445442086,
          0.029237130295128512,
          0.031180234229006697,
          0.03141254710984409,
          0.031670818746248636,
          0.03155373397517502
         ]
        },
        {
         "mode": "lines+markers",
         "type": "scatter",
         "uid": "923d2348-9ee2-46b9-9c16-d911a7d348ca",
         "x": [
          0,
          1,
          2,
          3,
          4,
          5
         ],
         "y": []
        },
        {
         "mode": "lines+markers",
         "type": "scatter",
         "uid": "a222dc97-0e38-4034-855b-d4890e7c6bf1",
         "x": [
          0,
          1,
          2,
          3,
          4,
          5
         ],
         "y": [
          0.027776929464882735,
          0.02695525140444244,
          0.026217738268559113,
          0.03200360849453018,
          0.026715717296798502,
          0.028294245156714908
         ]
        },
        {
         "mode": "lines+markers",
         "type": "scatter",
         "uid": "6f56ed8d-e617-4b05-9426-6d9854a652c6",
         "x": [
          0,
          1,
          2,
          3,
          4,
          5
         ],
         "y": [
          0.026612856914035775,
          0.02948174881062587,
          0.030465537145745236,
          0.03331841771674494,
          0.028846483072888937,
          0.03437069247923116
         ]
        },
        {
         "mode": "lines+markers",
         "type": "scatter",
         "uid": "01a08868-1623-43fc-a0ea-1fcd4c537116",
         "x": [
          0,
          1,
          2,
          3,
          4,
          5
         ],
         "y": [
          0.02464008016611752,
          0.03613205170253328
         ]
        },
        {
         "mode": "lines+markers",
         "type": "scatter",
         "uid": "42713116-3c45-4a59-8d93-db30b43a7ae6",
         "x": [
          0,
          1,
          2,
          3,
          4,
          5
         ],
         "y": [
          0.07322140788545804,
          0.06328899091820248,
          0.061306422183217066
         ]
        },
        {
         "mode": "lines+markers",
         "type": "scatter",
         "uid": "2d8d0195-5562-4445-9b6d-85b46fcfb20d",
         "x": [
          0,
          1,
          2,
          3,
          4,
          5
         ],
         "y": []
        },
        {
         "mode": "lines+markers",
         "type": "scatter",
         "uid": "54cee895-7ec4-4149-973f-bfc15041a3cb",
         "x": [
          0,
          1,
          2,
          3,
          4,
          5
         ],
         "y": []
        },
        {
         "mode": "lines+markers",
         "type": "scatter",
         "uid": "2a6b652d-7ae6-4334-8077-a77087241509",
         "x": [
          0,
          1,
          2,
          3,
          4,
          5
         ],
         "y": [
          0.06242700081481309,
          0.0737420579631897,
          0.07514525050008226,
          0.05702528983887103,
          0.059531443469202236,
          0.07609453936005964
         ]
        },
        {
         "mode": "lines+markers",
         "type": "scatter",
         "uid": "e8abf196-c6fb-4995-9971-f0c45f8fb50a",
         "x": [
          0,
          1,
          2,
          3,
          4,
          5
         ],
         "y": [
          0.0175878969438855,
          0.025101504122622666,
          0.023468136097592622,
          0.06606208468265964,
          0.027817619779135584
         ]
        },
        {
         "mode": "lines+markers",
         "type": "scatter",
         "uid": "e3f12bc4-641e-4f01-bb87-b75c4f67d418",
         "x": [
          0,
          1,
          2,
          3,
          4,
          5
         ],
         "y": [
          0.11256016733811859,
          0.09503528211907222,
          0.12953938196693296,
          0.11847354340345387,
          0.10241172582598917,
          0.07612452843262478
         ]
        },
        {
         "mode": "lines+markers",
         "type": "scatter",
         "uid": "eed5bc9b-44cb-4733-a4bb-2d519d723314",
         "x": [
          0,
          1,
          2,
          3,
          4,
          5
         ],
         "y": [
          0.03803508649179383,
          0.03289678266048304,
          0.037196884707545494,
          0.03944722483702975
         ]
        },
        {
         "mode": "lines+markers",
         "type": "scatter",
         "uid": "94274cc9-464f-4f68-a53a-87da134f65dd",
         "x": [
          0,
          1,
          2,
          3,
          4,
          5
         ],
         "y": [
          0.03190924936731498,
          0.05002348239433866,
          0.03028426923473157,
          0.030621296643928767,
          0.04326149121313645,
          0.031628778316267876
         ]
        },
        {
         "mode": "lines+markers",
         "type": "scatter",
         "uid": "980f4a9d-40b6-4d5b-b43a-7172c61c1911",
         "x": [
          0,
          1,
          2,
          3,
          4,
          5
         ],
         "y": [
          0.018130900756822096,
          0.023291101077681564,
          0.030123633741083258,
          0.023350991127869137
         ]
        },
        {
         "mode": "lines+markers",
         "type": "scatter",
         "uid": "80bfb8ce-d75c-4b55-9e26-253cd4bb948e",
         "x": [
          0,
          1,
          2,
          3,
          4,
          5
         ],
         "y": [
          0.03265398171324479,
          0.03284577277560615,
          0.0352795377844686,
          0.03803167189204603,
          0.03547196822211284,
          0.038043530357963616
         ]
        },
        {
         "mode": "lines+markers",
         "type": "scatter",
         "uid": "4b43d866-2ee4-49be-9cd9-316e1a4e0d69",
         "x": [
          0,
          1,
          2,
          3,
          4,
          5
         ],
         "y": [
          0.034425341876996446,
          0.03390890451329215,
          0.057455188634524174,
          0.021087584106953695,
          0.03450280634150428,
          0.0359140105303552
         ]
        },
        {
         "mode": "lines+markers",
         "type": "scatter",
         "uid": "a0147a8f-e1f0-4874-9991-e652979bcf63",
         "x": [
          0,
          1,
          2,
          3,
          4,
          5
         ],
         "y": [
          0.03154334611359482,
          0.02981441444182861,
          0.03519814745557217,
          0.02814434258226233,
          0.039761598871866664,
          0.038559165409945445
         ]
        },
        {
         "mode": "lines+markers",
         "type": "scatter",
         "uid": "c9bc64f7-dc4d-4ac6-b42c-470694760602",
         "x": [
          0,
          1,
          2,
          3,
          4,
          5
         ],
         "y": [
          0.0377593516612994,
          0.028108475663697164,
          0.02990826846479418,
          0.028562861840104224,
          0.04456377587670294,
          0.02028380382244792
         ]
        }
       ],
       "layout": {
        "title": {
         "text": "Reprojection Error Plot(fx = 0.2)"
        },
        "xaxis": {
         "title": {
          "text": "bins"
         }
        },
        "yaxis": {
         "title": {
          "text": "error"
         }
        }
       }
      },
      "text/html": [
       "<div>\n",
       "        \n",
       "        \n",
       "            <div id=\"0687ea5f-3edd-4108-8344-fc17eba2ea63\" class=\"plotly-graph-div\" style=\"height:525px; width:100%;\"></div>\n",
       "            <script type=\"text/javascript\">\n",
       "                require([\"plotly\"], function(Plotly) {\n",
       "                    window.PLOTLYENV=window.PLOTLYENV || {};\n",
       "                    window.PLOTLYENV.BASE_URL='https://plot.ly';\n",
       "                    \n",
       "                if (document.getElementById(\"0687ea5f-3edd-4108-8344-fc17eba2ea63\")) {\n",
       "                    Plotly.newPlot(\n",
       "                        '0687ea5f-3edd-4108-8344-fc17eba2ea63',\n",
       "                        [{\"mode\": \"lines+markers\", \"type\": \"scatter\", \"uid\": \"0b31153e-0e6c-4838-a0fc-0032b0c1c29d\", \"x\": [0, 1, 2, 3, 4, 5], \"y\": [0.01727481816016919, 0.018059598582941382, 0.02211530630680824, 0.020539893679965903, 0.018591998693100156, 0.017741107170253467]}, {\"mode\": \"lines+markers\", \"type\": \"scatter\", \"uid\": \"26fb8311-61ed-44e5-9920-c1982ade3dd4\", \"x\": [0, 1, 2, 3, 4, 5], \"y\": [0.043962544471778005, 0.03916222432136629, 0.046155411396890604, 0.04769648466170121, 0.043729534342086915, 0.04513836371956817]}, {\"mode\": \"lines+markers\", \"type\": \"scatter\", \"uid\": \"23b8c79a-f45e-40d7-9f92-2e81d514e2de\", \"x\": [0, 1, 2, 3, 4, 5], \"y\": [0.04639370087874168, 0.037809962997436504, 0.043886952108533335, 0.05018370994076788, 0.04306197258196318, 0.04110617376679007]}, {\"mode\": \"lines+markers\", \"type\": \"scatter\", \"uid\": \"a3789e28-c65b-4eef-beea-abc81dc54816\", \"x\": [0, 1, 2, 3, 4, 5], \"y\": [0.037177346445442086, 0.029237130295128512, 0.031180234229006697, 0.03141254710984409, 0.031670818746248636, 0.03155373397517502]}, {\"mode\": \"lines+markers\", \"type\": \"scatter\", \"uid\": \"923d2348-9ee2-46b9-9c16-d911a7d348ca\", \"x\": [0, 1, 2, 3, 4, 5], \"y\": []}, {\"mode\": \"lines+markers\", \"type\": \"scatter\", \"uid\": \"a222dc97-0e38-4034-855b-d4890e7c6bf1\", \"x\": [0, 1, 2, 3, 4, 5], \"y\": [0.027776929464882735, 0.02695525140444244, 0.026217738268559113, 0.03200360849453018, 0.026715717296798502, 0.028294245156714908]}, {\"mode\": \"lines+markers\", \"type\": \"scatter\", \"uid\": \"6f56ed8d-e617-4b05-9426-6d9854a652c6\", \"x\": [0, 1, 2, 3, 4, 5], \"y\": [0.026612856914035775, 0.02948174881062587, 0.030465537145745236, 0.03331841771674494, 0.028846483072888937, 0.03437069247923116]}, {\"mode\": \"lines+markers\", \"type\": \"scatter\", \"uid\": \"01a08868-1623-43fc-a0ea-1fcd4c537116\", \"x\": [0, 1, 2, 3, 4, 5], \"y\": [0.02464008016611752, 0.03613205170253328]}, {\"mode\": \"lines+markers\", \"type\": \"scatter\", \"uid\": \"42713116-3c45-4a59-8d93-db30b43a7ae6\", \"x\": [0, 1, 2, 3, 4, 5], \"y\": [0.07322140788545804, 0.06328899091820248, 0.061306422183217066]}, {\"mode\": \"lines+markers\", \"type\": \"scatter\", \"uid\": \"2d8d0195-5562-4445-9b6d-85b46fcfb20d\", \"x\": [0, 1, 2, 3, 4, 5], \"y\": []}, {\"mode\": \"lines+markers\", \"type\": \"scatter\", \"uid\": \"54cee895-7ec4-4149-973f-bfc15041a3cb\", \"x\": [0, 1, 2, 3, 4, 5], \"y\": []}, {\"mode\": \"lines+markers\", \"type\": \"scatter\", \"uid\": \"2a6b652d-7ae6-4334-8077-a77087241509\", \"x\": [0, 1, 2, 3, 4, 5], \"y\": [0.06242700081481309, 0.0737420579631897, 0.07514525050008226, 0.05702528983887103, 0.059531443469202236, 0.07609453936005964]}, {\"mode\": \"lines+markers\", \"type\": \"scatter\", \"uid\": \"e8abf196-c6fb-4995-9971-f0c45f8fb50a\", \"x\": [0, 1, 2, 3, 4, 5], \"y\": [0.0175878969438855, 0.025101504122622666, 0.023468136097592622, 0.06606208468265964, 0.027817619779135584]}, {\"mode\": \"lines+markers\", \"type\": \"scatter\", \"uid\": \"e3f12bc4-641e-4f01-bb87-b75c4f67d418\", \"x\": [0, 1, 2, 3, 4, 5], \"y\": [0.11256016733811859, 0.09503528211907222, 0.12953938196693296, 0.11847354340345387, 0.10241172582598917, 0.07612452843262478]}, {\"mode\": \"lines+markers\", \"type\": \"scatter\", \"uid\": \"eed5bc9b-44cb-4733-a4bb-2d519d723314\", \"x\": [0, 1, 2, 3, 4, 5], \"y\": [0.03803508649179383, 0.03289678266048304, 0.037196884707545494, 0.03944722483702975]}, {\"mode\": \"lines+markers\", \"type\": \"scatter\", \"uid\": \"94274cc9-464f-4f68-a53a-87da134f65dd\", \"x\": [0, 1, 2, 3, 4, 5], \"y\": [0.03190924936731498, 0.05002348239433866, 0.03028426923473157, 0.030621296643928767, 0.04326149121313645, 0.031628778316267876]}, {\"mode\": \"lines+markers\", \"type\": \"scatter\", \"uid\": \"980f4a9d-40b6-4d5b-b43a-7172c61c1911\", \"x\": [0, 1, 2, 3, 4, 5], \"y\": [0.018130900756822096, 0.023291101077681564, 0.030123633741083258, 0.023350991127869137]}, {\"mode\": \"lines+markers\", \"type\": \"scatter\", \"uid\": \"80bfb8ce-d75c-4b55-9e26-253cd4bb948e\", \"x\": [0, 1, 2, 3, 4, 5], \"y\": [0.03265398171324479, 0.03284577277560615, 0.0352795377844686, 0.03803167189204603, 0.03547196822211284, 0.038043530357963616]}, {\"mode\": \"lines+markers\", \"type\": \"scatter\", \"uid\": \"4b43d866-2ee4-49be-9cd9-316e1a4e0d69\", \"x\": [0, 1, 2, 3, 4, 5], \"y\": [0.034425341876996446, 0.03390890451329215, 0.057455188634524174, 0.021087584106953695, 0.03450280634150428, 0.0359140105303552]}, {\"mode\": \"lines+markers\", \"type\": \"scatter\", \"uid\": \"a0147a8f-e1f0-4874-9991-e652979bcf63\", \"x\": [0, 1, 2, 3, 4, 5], \"y\": [0.03154334611359482, 0.02981441444182861, 0.03519814745557217, 0.02814434258226233, 0.039761598871866664, 0.038559165409945445]}, {\"mode\": \"lines+markers\", \"type\": \"scatter\", \"uid\": \"c9bc64f7-dc4d-4ac6-b42c-470694760602\", \"x\": [0, 1, 2, 3, 4, 5], \"y\": [0.0377593516612994, 0.028108475663697164, 0.02990826846479418, 0.028562861840104224, 0.04456377587670294, 0.02028380382244792]}],\n",
       "                        {\"title\": {\"text\": \"Reprojection Error Plot(fx = 0.2)\"}, \"xaxis\": {\"title\": {\"text\": \"bins\"}}, \"yaxis\": {\"title\": {\"text\": \"error\"}}},\n",
       "                        {\"showLink\": false, \"linkText\": \"Export to plot.ly\", \"plotlyServerURL\": \"https://plot.ly\", \"responsive\": true}\n",
       "                    ).then(function(){\n",
       "                            \n",
       "var gd = document.getElementById('0687ea5f-3edd-4108-8344-fc17eba2ea63');\n",
       "var x = new MutationObserver(function (mutations, observer) {{\n",
       "        var display = window.getComputedStyle(gd).display;\n",
       "        if (!display || display === 'none') {{\n",
       "            console.log([gd, 'removed!']);\n",
       "            Plotly.purge(gd);\n",
       "            observer.disconnect();\n",
       "        }}\n",
       "}});\n",
       "\n",
       "// Listen for the removal of the full notebook cells\n",
       "var notebookContainer = gd.closest('#notebook-container');\n",
       "if (notebookContainer) {{\n",
       "    x.observe(notebookContainer, {childList: true});\n",
       "}}\n",
       "\n",
       "// Listen for the clearing of the current output cell\n",
       "var outputEl = gd.closest('.output');\n",
       "if (outputEl) {{\n",
       "    x.observe(outputEl, {childList: true});\n",
       "}}\n",
       "\n",
       "                        })\n",
       "                };\n",
       "                });\n",
       "            </script>\n",
       "        </div>"
      ]
     },
     "metadata": {},
     "output_type": "display_data"
    },
    {
     "data": {
      "application/vnd.plotly.v1+json": {
       "config": {
        "linkText": "Export to plot.ly",
        "plotlyServerURL": "https://plot.ly",
        "showLink": false
       },
       "data": [
        {
         "mode": "lines+markers",
         "type": "scatter",
         "uid": "7e7f0fc4-f306-4e06-9e60-c583f8a7d3d6",
         "x": [
          0,
          1,
          2,
          3,
          4,
          5
         ],
         "y": [
          0.01669143091323913,
          0.017757076462815668,
          0.017803491483140012,
          0.019349675403695095,
          0.01788067845905427,
          0.016441609823353416
         ]
        },
        {
         "mode": "lines+markers",
         "type": "scatter",
         "uid": "acefe2c6-b490-4799-9bcd-e082616c4ad1",
         "x": [
          0,
          1,
          2,
          3,
          4,
          5
         ],
         "y": [
          0.036598304468769306,
          0.036817684291131476,
          0.03476238669677496,
          0.03338521988507144,
          0.038414552516919366,
          0.038308723737971825
         ]
        },
        {
         "mode": "lines+markers",
         "type": "scatter",
         "uid": "68229943-0089-4760-a3b5-96f0c17637e7",
         "x": [
          0,
          1,
          2,
          3,
          4,
          5
         ],
         "y": [
          0.08839560901396665,
          0.10424170672233268,
          0.08034846103868827,
          0.06333361683457674,
          0.09807090294697746,
          0.09315489902751939
         ]
        },
        {
         "mode": "lines+markers",
         "type": "scatter",
         "uid": "c9c0cb57-64f2-4c3b-bab2-4a64fa264cca",
         "x": [
          0,
          1,
          2,
          3,
          4,
          5
         ],
         "y": [
          0.07926062372467027,
          0.04760449186613871,
          0.04230474852633521,
          0.03035460061556366,
          0.02626448915702952,
          0.06549001402634745
         ]
        },
        {
         "mode": "lines+markers",
         "type": "scatter",
         "uid": "60926024-2ffd-4dd9-9094-f67c2964661d",
         "x": [
          0,
          1,
          2,
          3,
          4,
          5
         ],
         "y": [
          0.0340507377932815,
          0.025290005921879695,
          0.0295956175160513,
          0.030766812698579095,
          0.030251869932538294,
          0.025583622019501588
         ]
        },
        {
         "mode": "lines+markers",
         "type": "scatter",
         "uid": "05aeda73-c4c9-42f0-b42b-b07a412c5fbe",
         "x": [
          0,
          1,
          2,
          3,
          4,
          5
         ],
         "y": [
          0.021735989080542834,
          0.034675493403644495,
          0.01915168957837473,
          0.017224080074474672,
          0.017106892072580936,
          0.01836124091137149
         ]
        },
        {
         "mode": "lines+markers",
         "type": "scatter",
         "uid": "1c653d49-b272-4bdb-a0dd-e40230357a19",
         "x": [
          0,
          1,
          2,
          3,
          4,
          5
         ],
         "y": [
          0.03146510103092461,
          0.02925460165262201,
          0.028216620891235618,
          0.025811291457037224,
          0.022269610679112508,
          0.021547382487107837
         ]
        },
        {
         "mode": "lines+markers",
         "type": "scatter",
         "uid": "b99568d7-3793-4276-83da-fecd47c46424",
         "x": [
          0,
          1,
          2,
          3,
          4,
          5
         ],
         "y": [
          0.04668495233923468,
          0.024428520952618618,
          0.028629967219103273,
          0.02483912080418688,
          0.026606297289505167,
          0.04562795176318704
         ]
        },
        {
         "mode": "lines+markers",
         "type": "scatter",
         "uid": "68bdbeba-8ed5-46f6-8a73-667f39396674",
         "x": [
          0,
          1,
          2,
          3,
          4,
          5
         ],
         "y": [
          0.04214905246361516,
          0.037588932130349605,
          0.03529472971690643,
          0.037641501099742694,
          0.040990635584670934,
          0.04498454532642336
         ]
        },
        {
         "mode": "lines+markers",
         "type": "scatter",
         "uid": "b6166153-d0c5-41d1-b2c5-58502a466f9f",
         "x": [
          0,
          1,
          2,
          3,
          4,
          5
         ],
         "y": [
          0.0516597083342544,
          0.03704521873044018,
          0.03075308940513821,
          0.03898988310850537,
          0.04592440993889671
         ]
        },
        {
         "mode": "lines+markers",
         "type": "scatter",
         "uid": "43a53e9c-ecb2-4a13-8d92-ace883e1639e",
         "x": [
          0,
          1,
          2,
          3,
          4,
          5
         ],
         "y": [
          0.01911678513026487,
          0.01739102911616083,
          0.018917060287562498,
          0.01855033923107431,
          0.017757916108611053,
          0.01802501031188874
         ]
        },
        {
         "mode": "lines+markers",
         "type": "scatter",
         "uid": "62ae8001-5882-4440-b4e6-22d0a1f257dd",
         "x": [
          0,
          1,
          2,
          3,
          4,
          5
         ],
         "y": [
          0.2071220701147376,
          0.16304879434128272,
          0.16036187389942785,
          0.12184597350684831,
          0.15981191783222912,
          0.22645865988445799
         ]
        },
        {
         "mode": "lines+markers",
         "type": "scatter",
         "uid": "e5f037a4-8546-4a34-82bf-5797aa070752",
         "x": [
          0,
          1,
          2,
          3,
          4,
          5
         ],
         "y": [
          0.01669038390385867,
          0.01695031203411697,
          0.015075461065407043,
          0.014579298852963565,
          0.014819492628723195,
          0.016825343930169358
         ]
        },
        {
         "mode": "lines+markers",
         "type": "scatter",
         "uid": "3b152377-be51-47ab-b07a-a1d448acfbcb",
         "x": [
          0,
          1,
          2,
          3,
          4,
          5
         ],
         "y": [
          0.16305686817166362,
          0.1643960741312415,
          0.09628923820799158,
          0.1197163901569861,
          0.13252843974235554,
          0.1193114072618195
         ]
        },
        {
         "mode": "lines+markers",
         "type": "scatter",
         "uid": "0d3faec7-1b3f-4f39-8db4-ac42ac58ffc5",
         "x": [
          0,
          1,
          2,
          3,
          4,
          5
         ],
         "y": [
          0.024463110501630168,
          0.02581051320823378,
          0.023397344788259153,
          0.023847760217538535,
          0.024073492418346942,
          0.02635975896314877
         ]
        },
        {
         "mode": "lines+markers",
         "type": "scatter",
         "uid": "e237c39c-5775-49ae-8ad1-462ee0908de9",
         "x": [
          0,
          1,
          2,
          3,
          4,
          5
         ],
         "y": [
          0.0199614171145709,
          0.02123878460196131,
          0.016829907819743903,
          0.01681407255897111,
          0.019099503447025316,
          0.025100927296999875
         ]
        },
        {
         "mode": "lines+markers",
         "type": "scatter",
         "uid": "328cf457-e6ec-4921-8ef3-e82f9bdc34f2",
         "x": [
          0,
          1,
          2,
          3,
          4,
          5
         ],
         "y": [
          0.024947583012807886,
          0.016612644575546745,
          0.013284063730713818,
          0.014738125952829473,
          0.015263584074479631,
          0.01951576916629072
         ]
        },
        {
         "mode": "lines+markers",
         "type": "scatter",
         "uid": "079f0130-5fb6-4394-85e6-cc8aa2cc6be7",
         "x": [
          0,
          1,
          2,
          3,
          4,
          5
         ],
         "y": [
          0.018036536614527487,
          0.018747686877028304,
          0.02325152082826403,
          0.021576380772939687,
          0.01906272739126047,
          0.020303158266374906
         ]
        },
        {
         "mode": "lines+markers",
         "type": "scatter",
         "uid": "d3a3ef40-646c-4572-aa8f-135d09d5471d",
         "x": [
          0,
          1,
          2,
          3,
          4,
          5
         ],
         "y": [
          0.029365821815914444,
          0.025944230819725314,
          0.01985444170848442,
          0.018005143394748013,
          0.025370984696777916,
          0.027340179125724735
         ]
        },
        {
         "mode": "lines+markers",
         "type": "scatter",
         "uid": "1e890788-ff10-4efd-a88e-f26dee94c219",
         "x": [
          0,
          1,
          2,
          3,
          4,
          5
         ],
         "y": [
          0.033234128255259884,
          0.02841144001140824,
          0.033851425750830264,
          0.03682700978788718,
          0.028447465359933803,
          0.030250195239046287
         ]
        },
        {
         "mode": "lines+markers",
         "type": "scatter",
         "uid": "d1659586-3cf8-49df-bf73-31e38a281cb5",
         "x": [
          0,
          1,
          2,
          3,
          4,
          5
         ],
         "y": [
          0.016753438682269403,
          0.017065530282669248,
          0.015758784683956233,
          0.017075589440112674,
          0.01821847477374391,
          0.01968165344894753
         ]
        }
       ],
       "layout": {
        "title": {
         "text": "Reprojection Error Plot(fx = 0.3)"
        },
        "xaxis": {
         "title": {
          "text": "bins"
         }
        },
        "yaxis": {
         "title": {
          "text": "error"
         }
        }
       }
      },
      "text/html": [
       "<div>\n",
       "        \n",
       "        \n",
       "            <div id=\"dc8c2c21-2f01-4b60-9c3f-86230df1f80e\" class=\"plotly-graph-div\" style=\"height:525px; width:100%;\"></div>\n",
       "            <script type=\"text/javascript\">\n",
       "                require([\"plotly\"], function(Plotly) {\n",
       "                    window.PLOTLYENV=window.PLOTLYENV || {};\n",
       "                    window.PLOTLYENV.BASE_URL='https://plot.ly';\n",
       "                    \n",
       "                if (document.getElementById(\"dc8c2c21-2f01-4b60-9c3f-86230df1f80e\")) {\n",
       "                    Plotly.newPlot(\n",
       "                        'dc8c2c21-2f01-4b60-9c3f-86230df1f80e',\n",
       "                        [{\"mode\": \"lines+markers\", \"type\": \"scatter\", \"uid\": \"7e7f0fc4-f306-4e06-9e60-c583f8a7d3d6\", \"x\": [0, 1, 2, 3, 4, 5], \"y\": [0.01669143091323913, 0.017757076462815668, 0.017803491483140012, 0.019349675403695095, 0.01788067845905427, 0.016441609823353416]}, {\"mode\": \"lines+markers\", \"type\": \"scatter\", \"uid\": \"acefe2c6-b490-4799-9bcd-e082616c4ad1\", \"x\": [0, 1, 2, 3, 4, 5], \"y\": [0.036598304468769306, 0.036817684291131476, 0.03476238669677496, 0.03338521988507144, 0.038414552516919366, 0.038308723737971825]}, {\"mode\": \"lines+markers\", \"type\": \"scatter\", \"uid\": \"68229943-0089-4760-a3b5-96f0c17637e7\", \"x\": [0, 1, 2, 3, 4, 5], \"y\": [0.08839560901396665, 0.10424170672233268, 0.08034846103868827, 0.06333361683457674, 0.09807090294697746, 0.09315489902751939]}, {\"mode\": \"lines+markers\", \"type\": \"scatter\", \"uid\": \"c9c0cb57-64f2-4c3b-bab2-4a64fa264cca\", \"x\": [0, 1, 2, 3, 4, 5], \"y\": [0.07926062372467027, 0.04760449186613871, 0.04230474852633521, 0.03035460061556366, 0.02626448915702952, 0.06549001402634745]}, {\"mode\": \"lines+markers\", \"type\": \"scatter\", \"uid\": \"60926024-2ffd-4dd9-9094-f67c2964661d\", \"x\": [0, 1, 2, 3, 4, 5], \"y\": [0.0340507377932815, 0.025290005921879695, 0.0295956175160513, 0.030766812698579095, 0.030251869932538294, 0.025583622019501588]}, {\"mode\": \"lines+markers\", \"type\": \"scatter\", \"uid\": \"05aeda73-c4c9-42f0-b42b-b07a412c5fbe\", \"x\": [0, 1, 2, 3, 4, 5], \"y\": [0.021735989080542834, 0.034675493403644495, 0.01915168957837473, 0.017224080074474672, 0.017106892072580936, 0.01836124091137149]}, {\"mode\": \"lines+markers\", \"type\": \"scatter\", \"uid\": \"1c653d49-b272-4bdb-a0dd-e40230357a19\", \"x\": [0, 1, 2, 3, 4, 5], \"y\": [0.03146510103092461, 0.02925460165262201, 0.028216620891235618, 0.025811291457037224, 0.022269610679112508, 0.021547382487107837]}, {\"mode\": \"lines+markers\", \"type\": \"scatter\", \"uid\": \"b99568d7-3793-4276-83da-fecd47c46424\", \"x\": [0, 1, 2, 3, 4, 5], \"y\": [0.04668495233923468, 0.024428520952618618, 0.028629967219103273, 0.02483912080418688, 0.026606297289505167, 0.04562795176318704]}, {\"mode\": \"lines+markers\", \"type\": \"scatter\", \"uid\": \"68bdbeba-8ed5-46f6-8a73-667f39396674\", \"x\": [0, 1, 2, 3, 4, 5], \"y\": [0.04214905246361516, 0.037588932130349605, 0.03529472971690643, 0.037641501099742694, 0.040990635584670934, 0.04498454532642336]}, {\"mode\": \"lines+markers\", \"type\": \"scatter\", \"uid\": \"b6166153-d0c5-41d1-b2c5-58502a466f9f\", \"x\": [0, 1, 2, 3, 4, 5], \"y\": [0.0516597083342544, 0.03704521873044018, 0.03075308940513821, 0.03898988310850537, 0.04592440993889671]}, {\"mode\": \"lines+markers\", \"type\": \"scatter\", \"uid\": \"43a53e9c-ecb2-4a13-8d92-ace883e1639e\", \"x\": [0, 1, 2, 3, 4, 5], \"y\": [0.01911678513026487, 0.01739102911616083, 0.018917060287562498, 0.01855033923107431, 0.017757916108611053, 0.01802501031188874]}, {\"mode\": \"lines+markers\", \"type\": \"scatter\", \"uid\": \"62ae8001-5882-4440-b4e6-22d0a1f257dd\", \"x\": [0, 1, 2, 3, 4, 5], \"y\": [0.2071220701147376, 0.16304879434128272, 0.16036187389942785, 0.12184597350684831, 0.15981191783222912, 0.22645865988445799]}, {\"mode\": \"lines+markers\", \"type\": \"scatter\", \"uid\": \"e5f037a4-8546-4a34-82bf-5797aa070752\", \"x\": [0, 1, 2, 3, 4, 5], \"y\": [0.01669038390385867, 0.01695031203411697, 0.015075461065407043, 0.014579298852963565, 0.014819492628723195, 0.016825343930169358]}, {\"mode\": \"lines+markers\", \"type\": \"scatter\", \"uid\": \"3b152377-be51-47ab-b07a-a1d448acfbcb\", \"x\": [0, 1, 2, 3, 4, 5], \"y\": [0.16305686817166362, 0.1643960741312415, 0.09628923820799158, 0.1197163901569861, 0.13252843974235554, 0.1193114072618195]}, {\"mode\": \"lines+markers\", \"type\": \"scatter\", \"uid\": \"0d3faec7-1b3f-4f39-8db4-ac42ac58ffc5\", \"x\": [0, 1, 2, 3, 4, 5], \"y\": [0.024463110501630168, 0.02581051320823378, 0.023397344788259153, 0.023847760217538535, 0.024073492418346942, 0.02635975896314877]}, {\"mode\": \"lines+markers\", \"type\": \"scatter\", \"uid\": \"e237c39c-5775-49ae-8ad1-462ee0908de9\", \"x\": [0, 1, 2, 3, 4, 5], \"y\": [0.0199614171145709, 0.02123878460196131, 0.016829907819743903, 0.01681407255897111, 0.019099503447025316, 0.025100927296999875]}, {\"mode\": \"lines+markers\", \"type\": \"scatter\", \"uid\": \"328cf457-e6ec-4921-8ef3-e82f9bdc34f2\", \"x\": [0, 1, 2, 3, 4, 5], \"y\": [0.024947583012807886, 0.016612644575546745, 0.013284063730713818, 0.014738125952829473, 0.015263584074479631, 0.01951576916629072]}, {\"mode\": \"lines+markers\", \"type\": \"scatter\", \"uid\": \"079f0130-5fb6-4394-85e6-cc8aa2cc6be7\", \"x\": [0, 1, 2, 3, 4, 5], \"y\": [0.018036536614527487, 0.018747686877028304, 0.02325152082826403, 0.021576380772939687, 0.01906272739126047, 0.020303158266374906]}, {\"mode\": \"lines+markers\", \"type\": \"scatter\", \"uid\": \"d3a3ef40-646c-4572-aa8f-135d09d5471d\", \"x\": [0, 1, 2, 3, 4, 5], \"y\": [0.029365821815914444, 0.025944230819725314, 0.01985444170848442, 0.018005143394748013, 0.025370984696777916, 0.027340179125724735]}, {\"mode\": \"lines+markers\", \"type\": \"scatter\", \"uid\": \"1e890788-ff10-4efd-a88e-f26dee94c219\", \"x\": [0, 1, 2, 3, 4, 5], \"y\": [0.033234128255259884, 0.02841144001140824, 0.033851425750830264, 0.03682700978788718, 0.028447465359933803, 0.030250195239046287]}, {\"mode\": \"lines+markers\", \"type\": \"scatter\", \"uid\": \"d1659586-3cf8-49df-bf73-31e38a281cb5\", \"x\": [0, 1, 2, 3, 4, 5], \"y\": [0.016753438682269403, 0.017065530282669248, 0.015758784683956233, 0.017075589440112674, 0.01821847477374391, 0.01968165344894753]}],\n",
       "                        {\"title\": {\"text\": \"Reprojection Error Plot(fx = 0.3)\"}, \"xaxis\": {\"title\": {\"text\": \"bins\"}}, \"yaxis\": {\"title\": {\"text\": \"error\"}}},\n",
       "                        {\"showLink\": false, \"linkText\": \"Export to plot.ly\", \"plotlyServerURL\": \"https://plot.ly\", \"responsive\": true}\n",
       "                    ).then(function(){\n",
       "                            \n",
       "var gd = document.getElementById('dc8c2c21-2f01-4b60-9c3f-86230df1f80e');\n",
       "var x = new MutationObserver(function (mutations, observer) {{\n",
       "        var display = window.getComputedStyle(gd).display;\n",
       "        if (!display || display === 'none') {{\n",
       "            console.log([gd, 'removed!']);\n",
       "            Plotly.purge(gd);\n",
       "            observer.disconnect();\n",
       "        }}\n",
       "}});\n",
       "\n",
       "// Listen for the removal of the full notebook cells\n",
       "var notebookContainer = gd.closest('#notebook-container');\n",
       "if (notebookContainer) {{\n",
       "    x.observe(notebookContainer, {childList: true});\n",
       "}}\n",
       "\n",
       "// Listen for the clearing of the current output cell\n",
       "var outputEl = gd.closest('.output');\n",
       "if (outputEl) {{\n",
       "    x.observe(outputEl, {childList: true});\n",
       "}}\n",
       "\n",
       "                        })\n",
       "                };\n",
       "                });\n",
       "            </script>\n",
       "        </div>"
      ]
     },
     "metadata": {},
     "output_type": "display_data"
    }
   ],
   "source": [
    "py.offline.iplot(fig1)\n",
    "py.offline.iplot(fig2)\n",
    "py.offline.iplot(fig3)"
   ]
  },
  {
   "cell_type": "code",
   "execution_count": null,
   "metadata": {},
   "outputs": [],
   "source": []
  },
  {
   "cell_type": "code",
   "execution_count": 43,
   "metadata": {},
   "outputs": [
    {
     "data": {
      "application/vnd.plotly.v1+json": {
       "config": {
        "linkText": "Export to plot.ly",
        "plotlyServerURL": "https://plot.ly",
        "showLink": false
       },
       "data": [
        {
         "mode": "lines+markers",
         "type": "scatter",
         "uid": "a375dfb3-4a01-441e-a489-9be1e773c43f",
         "x": [
          0,
          1,
          2,
          3,
          4,
          5
         ],
         "y": [
          0,
          0,
          0,
          0,
          0,
          0
         ]
        },
        {
         "mode": "lines+markers",
         "type": "scatter",
         "uid": "d56fa8c4-7c9e-4f79-88b9-7bafd1448825",
         "x": [
          0,
          1,
          2,
          3,
          4,
          5
         ],
         "y": [
          0,
          0,
          0,
          0,
          0,
          0
         ]
        },
        {
         "mode": "lines+markers",
         "type": "scatter",
         "uid": "d2939187-a66b-47fd-ba34-686a41c21dda",
         "x": [
          0,
          1,
          2,
          3,
          4,
          5
         ],
         "y": [
          0,
          0,
          0,
          0,
          0,
          0
         ]
        },
        {
         "mode": "lines+markers",
         "type": "scatter",
         "uid": "a2a92207-82f4-429d-aa0f-9edc86cd3183",
         "x": [
          0,
          1,
          2,
          3,
          4,
          5
         ],
         "y": [
          0,
          0,
          0,
          0,
          0,
          0
         ]
        },
        {
         "mode": "lines+markers",
         "type": "scatter",
         "uid": "a62f79da-98fb-4771-abb9-dbe749ee2c59",
         "x": [
          0,
          1,
          2,
          3,
          4,
          5
         ],
         "y": [
          0,
          0,
          0,
          0,
          0,
          0
         ]
        },
        {
         "mode": "lines+markers",
         "type": "scatter",
         "uid": "5763c548-6280-4a3c-9a6f-9ba305a7ccb3",
         "x": [
          0,
          1,
          2,
          3,
          4,
          5
         ],
         "y": [
          0,
          0,
          0,
          0,
          0,
          0
         ]
        },
        {
         "mode": "lines+markers",
         "type": "scatter",
         "uid": "e4585679-4bd4-427a-acec-fb7666ddd1ad",
         "x": [
          0,
          1,
          2,
          3,
          4,
          5
         ],
         "y": [
          0,
          0,
          0,
          0,
          0,
          0
         ]
        },
        {
         "mode": "lines+markers",
         "type": "scatter",
         "uid": "afc54fef-c5db-4580-8bd2-0fb4ea31acc6",
         "x": [
          0,
          1,
          2,
          3,
          4,
          5
         ],
         "y": [
          0,
          0,
          0,
          0,
          0,
          0
         ]
        },
        {
         "mode": "lines+markers",
         "type": "scatter",
         "uid": "0ac70663-b06e-4436-b5ca-6461957b1287",
         "x": [
          0,
          1,
          2,
          3,
          4,
          5
         ],
         "y": [
          0,
          0,
          0,
          0,
          0,
          0
         ]
        },
        {
         "mode": "lines+markers",
         "type": "scatter",
         "uid": "a8030b68-0a47-4625-b83b-52ce1be95a4d",
         "x": [
          0,
          1,
          2,
          3,
          4,
          5
         ],
         "y": [
          0,
          0,
          0,
          0,
          0,
          0
         ]
        },
        {
         "mode": "lines+markers",
         "type": "scatter",
         "uid": "b13ac278-ebf9-49f7-8594-74979df63ac5",
         "x": [
          0,
          1,
          2,
          3,
          4,
          5
         ],
         "y": [
          0,
          0,
          0,
          0,
          0,
          0
         ]
        },
        {
         "mode": "lines+markers",
         "type": "scatter",
         "uid": "d2d1c722-affb-4917-8152-986217a268e7",
         "x": [
          0,
          1,
          2,
          3,
          4,
          5
         ],
         "y": [
          0,
          0,
          0,
          0,
          0,
          0
         ]
        },
        {
         "mode": "lines+markers",
         "type": "scatter",
         "uid": "c22761be-2ed9-4d15-8177-c1afc33cb792",
         "x": [
          0,
          1,
          2,
          3,
          4,
          5
         ],
         "y": [
          0,
          0,
          0,
          0,
          0,
          0
         ]
        },
        {
         "mode": "lines+markers",
         "type": "scatter",
         "uid": "66f5fd57-31d0-4d88-b900-72d661acf540",
         "x": [
          0,
          1,
          2,
          3,
          4,
          5
         ],
         "y": [
          0,
          0,
          0,
          0,
          0,
          0
         ]
        },
        {
         "mode": "lines+markers",
         "type": "scatter",
         "uid": "e2232198-5607-464b-a731-33e7c98e0281",
         "x": [
          0,
          1,
          2,
          3,
          4,
          5
         ],
         "y": [
          0,
          0,
          0,
          0,
          0,
          0
         ]
        },
        {
         "mode": "lines+markers",
         "type": "scatter",
         "uid": "687764fb-bd6f-40c4-b4a9-ff75cdcba433",
         "x": [
          0,
          1,
          2,
          3,
          4,
          5
         ],
         "y": [
          0,
          0,
          0,
          0,
          0,
          0
         ]
        },
        {
         "mode": "lines+markers",
         "type": "scatter",
         "uid": "4a30a15c-570e-4987-9104-0b907ab282e2",
         "x": [
          0,
          1,
          2,
          3,
          4,
          5
         ],
         "y": [
          0,
          0,
          0,
          0,
          0,
          0
         ]
        },
        {
         "mode": "lines+markers",
         "type": "scatter",
         "uid": "5abab81f-9b0e-4ebb-8933-97534918bb8d",
         "x": [
          0,
          1,
          2,
          3,
          4,
          5
         ],
         "y": [
          0,
          0,
          0,
          0,
          0,
          0
         ]
        },
        {
         "mode": "lines+markers",
         "type": "scatter",
         "uid": "3b7a0486-5252-4408-ab58-1c1eead1b974",
         "x": [
          0,
          1,
          2,
          3,
          4,
          5
         ],
         "y": [
          0,
          0,
          0,
          0,
          0,
          0
         ]
        },
        {
         "mode": "lines+markers",
         "type": "scatter",
         "uid": "e196ec4b-100b-495b-bd71-cfa33fb3fea7",
         "x": [
          0,
          1,
          2,
          3,
          4,
          5
         ],
         "y": [
          0,
          0,
          0,
          0,
          0,
          0
         ]
        },
        {
         "mode": "lines+markers",
         "type": "scatter",
         "uid": "751b276c-c2ec-4809-81a6-6fe908ea1545",
         "x": [
          0,
          1,
          2,
          3,
          4,
          5
         ],
         "y": [
          0,
          0,
          0,
          0,
          0,
          0
         ]
        }
       ],
       "layout": {
        "title": {
         "text": "Images detected Plot(fx = 0.1)"
        },
        "xaxis": {
         "title": {
          "text": "bins"
         }
        },
        "yaxis": {
         "title": {
          "text": "num_image"
         }
        }
       }
      },
      "text/html": [
       "<div>\n",
       "        \n",
       "        \n",
       "            <div id=\"b53e9f76-bd64-47a0-8ce4-2f9357ae12c0\" class=\"plotly-graph-div\" style=\"height:525px; width:100%;\"></div>\n",
       "            <script type=\"text/javascript\">\n",
       "                require([\"plotly\"], function(Plotly) {\n",
       "                    window.PLOTLYENV=window.PLOTLYENV || {};\n",
       "                    window.PLOTLYENV.BASE_URL='https://plot.ly';\n",
       "                    \n",
       "                if (document.getElementById(\"b53e9f76-bd64-47a0-8ce4-2f9357ae12c0\")) {\n",
       "                    Plotly.newPlot(\n",
       "                        'b53e9f76-bd64-47a0-8ce4-2f9357ae12c0',\n",
       "                        [{\"mode\": \"lines+markers\", \"type\": \"scatter\", \"uid\": \"a375dfb3-4a01-441e-a489-9be1e773c43f\", \"x\": [0, 1, 2, 3, 4, 5], \"y\": [0.0, 0.0, 0.0, 0.0, 0.0, 0.0]}, {\"mode\": \"lines+markers\", \"type\": \"scatter\", \"uid\": \"d56fa8c4-7c9e-4f79-88b9-7bafd1448825\", \"x\": [0, 1, 2, 3, 4, 5], \"y\": [0.0, 0.0, 0.0, 0.0, 0.0, 0.0]}, {\"mode\": \"lines+markers\", \"type\": \"scatter\", \"uid\": \"d2939187-a66b-47fd-ba34-686a41c21dda\", \"x\": [0, 1, 2, 3, 4, 5], \"y\": [0.0, 0.0, 0.0, 0.0, 0.0, 0.0]}, {\"mode\": \"lines+markers\", \"type\": \"scatter\", \"uid\": \"a2a92207-82f4-429d-aa0f-9edc86cd3183\", \"x\": [0, 1, 2, 3, 4, 5], \"y\": [0.0, 0.0, 0.0, 0.0, 0.0, 0.0]}, {\"mode\": \"lines+markers\", \"type\": \"scatter\", \"uid\": \"a62f79da-98fb-4771-abb9-dbe749ee2c59\", \"x\": [0, 1, 2, 3, 4, 5], \"y\": [0.0, 0.0, 0.0, 0.0, 0.0, 0.0]}, {\"mode\": \"lines+markers\", \"type\": \"scatter\", \"uid\": \"5763c548-6280-4a3c-9a6f-9ba305a7ccb3\", \"x\": [0, 1, 2, 3, 4, 5], \"y\": [0.0, 0.0, 0.0, 0.0, 0.0, 0.0]}, {\"mode\": \"lines+markers\", \"type\": \"scatter\", \"uid\": \"e4585679-4bd4-427a-acec-fb7666ddd1ad\", \"x\": [0, 1, 2, 3, 4, 5], \"y\": [0.0, 0.0, 0.0, 0.0, 0.0, 0.0]}, {\"mode\": \"lines+markers\", \"type\": \"scatter\", \"uid\": \"afc54fef-c5db-4580-8bd2-0fb4ea31acc6\", \"x\": [0, 1, 2, 3, 4, 5], \"y\": [0.0, 0.0, 0.0, 0.0, 0.0, 0.0]}, {\"mode\": \"lines+markers\", \"type\": \"scatter\", \"uid\": \"0ac70663-b06e-4436-b5ca-6461957b1287\", \"x\": [0, 1, 2, 3, 4, 5], \"y\": [0.0, 0.0, 0.0, 0.0, 0.0, 0.0]}, {\"mode\": \"lines+markers\", \"type\": \"scatter\", \"uid\": \"a8030b68-0a47-4625-b83b-52ce1be95a4d\", \"x\": [0, 1, 2, 3, 4, 5], \"y\": [0.0, 0.0, 0.0, 0.0, 0.0, 0.0]}, {\"mode\": \"lines+markers\", \"type\": \"scatter\", \"uid\": \"b13ac278-ebf9-49f7-8594-74979df63ac5\", \"x\": [0, 1, 2, 3, 4, 5], \"y\": [0.0, 0.0, 0.0, 0.0, 0.0, 0.0]}, {\"mode\": \"lines+markers\", \"type\": \"scatter\", \"uid\": \"d2d1c722-affb-4917-8152-986217a268e7\", \"x\": [0, 1, 2, 3, 4, 5], \"y\": [0.0, 0.0, 0.0, 0.0, 0.0, 0.0]}, {\"mode\": \"lines+markers\", \"type\": \"scatter\", \"uid\": \"c22761be-2ed9-4d15-8177-c1afc33cb792\", \"x\": [0, 1, 2, 3, 4, 5], \"y\": [0.0, 0.0, 0.0, 0.0, 0.0, 0.0]}, {\"mode\": \"lines+markers\", \"type\": \"scatter\", \"uid\": \"66f5fd57-31d0-4d88-b900-72d661acf540\", \"x\": [0, 1, 2, 3, 4, 5], \"y\": [0.0, 0.0, 0.0, 0.0, 0.0, 0.0]}, {\"mode\": \"lines+markers\", \"type\": \"scatter\", \"uid\": \"e2232198-5607-464b-a731-33e7c98e0281\", \"x\": [0, 1, 2, 3, 4, 5], \"y\": [0.0, 0.0, 0.0, 0.0, 0.0, 0.0]}, {\"mode\": \"lines+markers\", \"type\": \"scatter\", \"uid\": \"687764fb-bd6f-40c4-b4a9-ff75cdcba433\", \"x\": [0, 1, 2, 3, 4, 5], \"y\": [0.0, 0.0, 0.0, 0.0, 0.0, 0.0]}, {\"mode\": \"lines+markers\", \"type\": \"scatter\", \"uid\": \"4a30a15c-570e-4987-9104-0b907ab282e2\", \"x\": [0, 1, 2, 3, 4, 5], \"y\": [0.0, 0.0, 0.0, 0.0, 0.0, 0.0]}, {\"mode\": \"lines+markers\", \"type\": \"scatter\", \"uid\": \"5abab81f-9b0e-4ebb-8933-97534918bb8d\", \"x\": [0, 1, 2, 3, 4, 5], \"y\": [0.0, 0.0, 0.0, 0.0, 0.0, 0.0]}, {\"mode\": \"lines+markers\", \"type\": \"scatter\", \"uid\": \"3b7a0486-5252-4408-ab58-1c1eead1b974\", \"x\": [0, 1, 2, 3, 4, 5], \"y\": [0.0, 0.0, 0.0, 0.0, 0.0, 0.0]}, {\"mode\": \"lines+markers\", \"type\": \"scatter\", \"uid\": \"e196ec4b-100b-495b-bd71-cfa33fb3fea7\", \"x\": [0, 1, 2, 3, 4, 5], \"y\": [0.0, 0.0, 0.0, 0.0, 0.0, 0.0]}, {\"mode\": \"lines+markers\", \"type\": \"scatter\", \"uid\": \"751b276c-c2ec-4809-81a6-6fe908ea1545\", \"x\": [0, 1, 2, 3, 4, 5], \"y\": [0.0, 0.0, 0.0, 0.0, 0.0, 0.0]}],\n",
       "                        {\"title\": {\"text\": \"Images detected Plot(fx = 0.1)\"}, \"xaxis\": {\"title\": {\"text\": \"bins\"}}, \"yaxis\": {\"title\": {\"text\": \"num_image\"}}},\n",
       "                        {\"showLink\": false, \"linkText\": \"Export to plot.ly\", \"plotlyServerURL\": \"https://plot.ly\", \"responsive\": true}\n",
       "                    ).then(function(){\n",
       "                            \n",
       "var gd = document.getElementById('b53e9f76-bd64-47a0-8ce4-2f9357ae12c0');\n",
       "var x = new MutationObserver(function (mutations, observer) {{\n",
       "        var display = window.getComputedStyle(gd).display;\n",
       "        if (!display || display === 'none') {{\n",
       "            console.log([gd, 'removed!']);\n",
       "            Plotly.purge(gd);\n",
       "            observer.disconnect();\n",
       "        }}\n",
       "}});\n",
       "\n",
       "// Listen for the removal of the full notebook cells\n",
       "var notebookContainer = gd.closest('#notebook-container');\n",
       "if (notebookContainer) {{\n",
       "    x.observe(notebookContainer, {childList: true});\n",
       "}}\n",
       "\n",
       "// Listen for the clearing of the current output cell\n",
       "var outputEl = gd.closest('.output');\n",
       "if (outputEl) {{\n",
       "    x.observe(outputEl, {childList: true});\n",
       "}}\n",
       "\n",
       "                        })\n",
       "                };\n",
       "                });\n",
       "            </script>\n",
       "        </div>"
      ]
     },
     "metadata": {},
     "output_type": "display_data"
    },
    {
     "data": {
      "application/vnd.plotly.v1+json": {
       "config": {
        "linkText": "Export to plot.ly",
        "plotlyServerURL": "https://plot.ly",
        "showLink": false
       },
       "data": [
        {
         "mode": "lines+markers",
         "type": "scatter",
         "uid": "087ab629-9842-42de-85b6-de6487f5a8b2",
         "x": [
          0,
          1,
          2,
          3,
          4,
          5
         ],
         "y": [
          38,
          44,
          53,
          45,
          40,
          39
         ]
        },
        {
         "mode": "lines+markers",
         "type": "scatter",
         "uid": "782c6b80-602a-4742-80cf-755f1f6b11e0",
         "x": [
          0,
          1,
          2,
          3,
          4,
          5
         ],
         "y": [
          6,
          5,
          9,
          6,
          5,
          9
         ]
        },
        {
         "mode": "lines+markers",
         "type": "scatter",
         "uid": "4acc2c7b-3697-4572-aebe-30fb195e3087",
         "x": [
          0,
          1,
          2,
          3,
          4,
          5
         ],
         "y": [
          18,
          19,
          14,
          15,
          14,
          15
         ]
        },
        {
         "mode": "lines+markers",
         "type": "scatter",
         "uid": "709fed0c-948c-4cb7-a04a-911260678abb",
         "x": [
          0,
          1,
          2,
          3,
          4,
          5
         ],
         "y": [
          25,
          27,
          19,
          20,
          21,
          24
         ]
        },
        {
         "mode": "lines+markers",
         "type": "scatter",
         "uid": "c4e28e96-cf8d-4927-b72e-af9f309979df",
         "x": [
          0,
          1,
          2,
          3,
          4,
          5
         ],
         "y": [
          0,
          0,
          0,
          0,
          0,
          0
         ]
        },
        {
         "mode": "lines+markers",
         "type": "scatter",
         "uid": "359ec31f-fe6d-470b-8d79-1a1b1a91d239",
         "x": [
          0,
          1,
          2,
          3,
          4,
          5
         ],
         "y": [
          4,
          4,
          9,
          14,
          8,
          10
         ]
        },
        {
         "mode": "lines+markers",
         "type": "scatter",
         "uid": "09604595-3270-466a-9363-cd2279218873",
         "x": [
          0,
          1,
          2,
          3,
          4,
          5
         ],
         "y": [
          37,
          34,
          33,
          28,
          27,
          29
         ]
        },
        {
         "mode": "lines+markers",
         "type": "scatter",
         "uid": "68de0e82-f618-4c4f-bdaf-9bc7e35dfb2a",
         "x": [
          0,
          1,
          2,
          3,
          4,
          5
         ],
         "y": [
          1,
          0,
          0,
          1,
          0,
          0
         ]
        },
        {
         "mode": "lines+markers",
         "type": "scatter",
         "uid": "437f056e-aa24-4b16-9309-cef0d310822e",
         "x": [
          0,
          1,
          2,
          3,
          4,
          5
         ],
         "y": [
          0,
          3,
          0,
          0,
          1,
          1
         ]
        },
        {
         "mode": "lines+markers",
         "type": "scatter",
         "uid": "76f58910-6d22-4445-9e14-8c2c81b440a3",
         "x": [
          0,
          1,
          2,
          3,
          4,
          5
         ],
         "y": [
          0,
          0,
          0,
          0,
          0,
          0
         ]
        },
        {
         "mode": "lines+markers",
         "type": "scatter",
         "uid": "57f2b091-ad12-48f8-9559-19e14e3deec0",
         "x": [
          0,
          1,
          2,
          3,
          4,
          5
         ],
         "y": [
          0,
          0,
          0,
          0,
          0,
          0
         ]
        },
        {
         "mode": "lines+markers",
         "type": "scatter",
         "uid": "f0c7d07a-52b3-49b0-8fbb-0aebfcf7fecd",
         "x": [
          0,
          1,
          2,
          3,
          4,
          5
         ],
         "y": [
          9,
          8,
          14,
          10,
          13,
          9
         ]
        },
        {
         "mode": "lines+markers",
         "type": "scatter",
         "uid": "53574e68-899a-4bce-88bd-dd2fd98f596b",
         "x": [
          0,
          1,
          2,
          3,
          4,
          5
         ],
         "y": [
          1,
          0,
          1,
          1,
          4,
          1
         ]
        },
        {
         "mode": "lines+markers",
         "type": "scatter",
         "uid": "6fb816d5-5666-484a-8c84-1d4c6b3336f6",
         "x": [
          0,
          1,
          2,
          3,
          4,
          5
         ],
         "y": [
          26,
          28,
          19,
          14,
          27,
          24
         ]
        },
        {
         "mode": "lines+markers",
         "type": "scatter",
         "uid": "e21a41da-bd8b-4a31-94fe-22208abe5f87",
         "x": [
          0,
          1,
          2,
          3,
          4,
          5
         ],
         "y": [
          7,
          4,
          0,
          0,
          3,
          10
         ]
        },
        {
         "mode": "lines+markers",
         "type": "scatter",
         "uid": "9929ce5f-a671-4926-8fc7-a12582470454",
         "x": [
          0,
          1,
          2,
          3,
          4,
          5
         ],
         "y": [
          6,
          8,
          2,
          3,
          7,
          8
         ]
        },
        {
         "mode": "lines+markers",
         "type": "scatter",
         "uid": "b9ee6900-5b7b-4fa5-8c33-3766987c9310",
         "x": [
          0,
          1,
          2,
          3,
          4,
          5
         ],
         "y": [
          2,
          2,
          0,
          0,
          1,
          4
         ]
        },
        {
         "mode": "lines+markers",
         "type": "scatter",
         "uid": "63414d4e-777f-4290-9411-6241e041cd0e",
         "x": [
          0,
          1,
          2,
          3,
          4,
          5
         ],
         "y": [
          7,
          10,
          4,
          6,
          6,
          12
         ]
        },
        {
         "mode": "lines+markers",
         "type": "scatter",
         "uid": "56b756e2-d49d-471d-8212-673d89b13710",
         "x": [
          0,
          1,
          2,
          3,
          4,
          5
         ],
         "y": [
          6,
          10,
          4,
          2,
          5,
          10
         ]
        },
        {
         "mode": "lines+markers",
         "type": "scatter",
         "uid": "962eff7f-9cba-471a-a14c-d00a9efeb789",
         "x": [
          0,
          1,
          2,
          3,
          4,
          5
         ],
         "y": [
          6,
          2,
          1,
          2,
          1,
          8
         ]
        },
        {
         "mode": "lines+markers",
         "type": "scatter",
         "uid": "95fc5f04-09c2-4172-b618-c2950ca5f0d2",
         "x": [
          0,
          1,
          2,
          3,
          4,
          5
         ],
         "y": [
          4,
          3,
          7,
          4,
          2,
          1
         ]
        }
       ],
       "layout": {
        "title": {
         "text": "Images detected Plot(fx = 0.2)"
        },
        "xaxis": {
         "title": {
          "text": "bins"
         }
        },
        "yaxis": {
         "title": {
          "text": "num_image"
         }
        }
       }
      },
      "text/html": [
       "<div>\n",
       "        \n",
       "        \n",
       "            <div id=\"c1697777-ef3d-484e-bf64-2adeca12d66e\" class=\"plotly-graph-div\" style=\"height:525px; width:100%;\"></div>\n",
       "            <script type=\"text/javascript\">\n",
       "                require([\"plotly\"], function(Plotly) {\n",
       "                    window.PLOTLYENV=window.PLOTLYENV || {};\n",
       "                    window.PLOTLYENV.BASE_URL='https://plot.ly';\n",
       "                    \n",
       "                if (document.getElementById(\"c1697777-ef3d-484e-bf64-2adeca12d66e\")) {\n",
       "                    Plotly.newPlot(\n",
       "                        'c1697777-ef3d-484e-bf64-2adeca12d66e',\n",
       "                        [{\"mode\": \"lines+markers\", \"type\": \"scatter\", \"uid\": \"087ab629-9842-42de-85b6-de6487f5a8b2\", \"x\": [0, 1, 2, 3, 4, 5], \"y\": [38.0, 44.0, 53.0, 45.0, 40.0, 39.0]}, {\"mode\": \"lines+markers\", \"type\": \"scatter\", \"uid\": \"782c6b80-602a-4742-80cf-755f1f6b11e0\", \"x\": [0, 1, 2, 3, 4, 5], \"y\": [6.0, 5.0, 9.0, 6.0, 5.0, 9.0]}, {\"mode\": \"lines+markers\", \"type\": \"scatter\", \"uid\": \"4acc2c7b-3697-4572-aebe-30fb195e3087\", \"x\": [0, 1, 2, 3, 4, 5], \"y\": [18.0, 19.0, 14.0, 15.0, 14.0, 15.0]}, {\"mode\": \"lines+markers\", \"type\": \"scatter\", \"uid\": \"709fed0c-948c-4cb7-a04a-911260678abb\", \"x\": [0, 1, 2, 3, 4, 5], \"y\": [25.0, 27.0, 19.0, 20.0, 21.0, 24.0]}, {\"mode\": \"lines+markers\", \"type\": \"scatter\", \"uid\": \"c4e28e96-cf8d-4927-b72e-af9f309979df\", \"x\": [0, 1, 2, 3, 4, 5], \"y\": [0.0, 0.0, 0.0, 0.0, 0.0, 0.0]}, {\"mode\": \"lines+markers\", \"type\": \"scatter\", \"uid\": \"359ec31f-fe6d-470b-8d79-1a1b1a91d239\", \"x\": [0, 1, 2, 3, 4, 5], \"y\": [4.0, 4.0, 9.0, 14.0, 8.0, 10.0]}, {\"mode\": \"lines+markers\", \"type\": \"scatter\", \"uid\": \"09604595-3270-466a-9363-cd2279218873\", \"x\": [0, 1, 2, 3, 4, 5], \"y\": [37.0, 34.0, 33.0, 28.0, 27.0, 29.0]}, {\"mode\": \"lines+markers\", \"type\": \"scatter\", \"uid\": \"68de0e82-f618-4c4f-bdaf-9bc7e35dfb2a\", \"x\": [0, 1, 2, 3, 4, 5], \"y\": [1.0, 0.0, 0.0, 1.0, 0.0, 0.0]}, {\"mode\": \"lines+markers\", \"type\": \"scatter\", \"uid\": \"437f056e-aa24-4b16-9309-cef0d310822e\", \"x\": [0, 1, 2, 3, 4, 5], \"y\": [0.0, 3.0, 0.0, 0.0, 1.0, 1.0]}, {\"mode\": \"lines+markers\", \"type\": \"scatter\", \"uid\": \"76f58910-6d22-4445-9e14-8c2c81b440a3\", \"x\": [0, 1, 2, 3, 4, 5], \"y\": [0.0, 0.0, 0.0, 0.0, 0.0, 0.0]}, {\"mode\": \"lines+markers\", \"type\": \"scatter\", \"uid\": \"57f2b091-ad12-48f8-9559-19e14e3deec0\", \"x\": [0, 1, 2, 3, 4, 5], \"y\": [0.0, 0.0, 0.0, 0.0, 0.0, 0.0]}, {\"mode\": \"lines+markers\", \"type\": \"scatter\", \"uid\": \"f0c7d07a-52b3-49b0-8fbb-0aebfcf7fecd\", \"x\": [0, 1, 2, 3, 4, 5], \"y\": [9.0, 8.0, 14.0, 10.0, 13.0, 9.0]}, {\"mode\": \"lines+markers\", \"type\": \"scatter\", \"uid\": \"53574e68-899a-4bce-88bd-dd2fd98f596b\", \"x\": [0, 1, 2, 3, 4, 5], \"y\": [1.0, 0.0, 1.0, 1.0, 4.0, 1.0]}, {\"mode\": \"lines+markers\", \"type\": \"scatter\", \"uid\": \"6fb816d5-5666-484a-8c84-1d4c6b3336f6\", \"x\": [0, 1, 2, 3, 4, 5], \"y\": [26.0, 28.0, 19.0, 14.0, 27.0, 24.0]}, {\"mode\": \"lines+markers\", \"type\": \"scatter\", \"uid\": \"e21a41da-bd8b-4a31-94fe-22208abe5f87\", \"x\": [0, 1, 2, 3, 4, 5], \"y\": [7.0, 4.0, 0.0, 0.0, 3.0, 10.0]}, {\"mode\": \"lines+markers\", \"type\": \"scatter\", \"uid\": \"9929ce5f-a671-4926-8fc7-a12582470454\", \"x\": [0, 1, 2, 3, 4, 5], \"y\": [6.0, 8.0, 2.0, 3.0, 7.0, 8.0]}, {\"mode\": \"lines+markers\", \"type\": \"scatter\", \"uid\": \"b9ee6900-5b7b-4fa5-8c33-3766987c9310\", \"x\": [0, 1, 2, 3, 4, 5], \"y\": [2.0, 2.0, 0.0, 0.0, 1.0, 4.0]}, {\"mode\": \"lines+markers\", \"type\": \"scatter\", \"uid\": \"63414d4e-777f-4290-9411-6241e041cd0e\", \"x\": [0, 1, 2, 3, 4, 5], \"y\": [7.0, 10.0, 4.0, 6.0, 6.0, 12.0]}, {\"mode\": \"lines+markers\", \"type\": \"scatter\", \"uid\": \"56b756e2-d49d-471d-8212-673d89b13710\", \"x\": [0, 1, 2, 3, 4, 5], \"y\": [6.0, 10.0, 4.0, 2.0, 5.0, 10.0]}, {\"mode\": \"lines+markers\", \"type\": \"scatter\", \"uid\": \"962eff7f-9cba-471a-a14c-d00a9efeb789\", \"x\": [0, 1, 2, 3, 4, 5], \"y\": [6.0, 2.0, 1.0, 2.0, 1.0, 8.0]}, {\"mode\": \"lines+markers\", \"type\": \"scatter\", \"uid\": \"95fc5f04-09c2-4172-b618-c2950ca5f0d2\", \"x\": [0, 1, 2, 3, 4, 5], \"y\": [4.0, 3.0, 7.0, 4.0, 2.0, 1.0]}],\n",
       "                        {\"title\": {\"text\": \"Images detected Plot(fx = 0.2)\"}, \"xaxis\": {\"title\": {\"text\": \"bins\"}}, \"yaxis\": {\"title\": {\"text\": \"num_image\"}}},\n",
       "                        {\"showLink\": false, \"linkText\": \"Export to plot.ly\", \"plotlyServerURL\": \"https://plot.ly\", \"responsive\": true}\n",
       "                    ).then(function(){\n",
       "                            \n",
       "var gd = document.getElementById('c1697777-ef3d-484e-bf64-2adeca12d66e');\n",
       "var x = new MutationObserver(function (mutations, observer) {{\n",
       "        var display = window.getComputedStyle(gd).display;\n",
       "        if (!display || display === 'none') {{\n",
       "            console.log([gd, 'removed!']);\n",
       "            Plotly.purge(gd);\n",
       "            observer.disconnect();\n",
       "        }}\n",
       "}});\n",
       "\n",
       "// Listen for the removal of the full notebook cells\n",
       "var notebookContainer = gd.closest('#notebook-container');\n",
       "if (notebookContainer) {{\n",
       "    x.observe(notebookContainer, {childList: true});\n",
       "}}\n",
       "\n",
       "// Listen for the clearing of the current output cell\n",
       "var outputEl = gd.closest('.output');\n",
       "if (outputEl) {{\n",
       "    x.observe(outputEl, {childList: true});\n",
       "}}\n",
       "\n",
       "                        })\n",
       "                };\n",
       "                });\n",
       "            </script>\n",
       "        </div>"
      ]
     },
     "metadata": {},
     "output_type": "display_data"
    },
    {
     "data": {
      "application/vnd.plotly.v1+json": {
       "config": {
        "linkText": "Export to plot.ly",
        "plotlyServerURL": "https://plot.ly",
        "showLink": false
       },
       "data": [
        {
         "mode": "lines+markers",
         "type": "scatter",
         "uid": "d82237d1-a1bc-4f8e-b49e-ac259e06f37d",
         "x": [
          0,
          1,
          2,
          3,
          4,
          5
         ],
         "y": [
          55,
          60,
          70,
          71,
          53,
          50
         ]
        },
        {
         "mode": "lines+markers",
         "type": "scatter",
         "uid": "31fd769f-2c92-4a8b-8d4f-dc8dcda647a3",
         "x": [
          0,
          1,
          2,
          3,
          4,
          5
         ],
         "y": [
          20,
          21,
          22,
          30,
          21,
          23
         ]
        },
        {
         "mode": "lines+markers",
         "type": "scatter",
         "uid": "89faec46-d82e-4d78-b38f-d40bdd371423",
         "x": [
          0,
          1,
          2,
          3,
          4,
          5
         ],
         "y": [
          17,
          20,
          16,
          22,
          20,
          17
         ]
        },
        {
         "mode": "lines+markers",
         "type": "scatter",
         "uid": "4c3ec08d-2d8b-4875-845d-cf0ee261ae04",
         "x": [
          0,
          1,
          2,
          3,
          4,
          5
         ],
         "y": [
          28,
          30,
          24,
          26,
          24,
          26
         ]
        },
        {
         "mode": "lines+markers",
         "type": "scatter",
         "uid": "f3caf845-3a4c-4fe1-a553-1730cfb95d1a",
         "x": [
          0,
          1,
          2,
          3,
          4,
          5
         ],
         "y": [
          7,
          7,
          8,
          10,
          12,
          13
         ]
        },
        {
         "mode": "lines+markers",
         "type": "scatter",
         "uid": "c4a23677-7fa0-49dd-b490-713aeeb9ddc2",
         "x": [
          0,
          1,
          2,
          3,
          4,
          5
         ],
         "y": [
          25,
          26,
          25,
          28,
          27,
          28
         ]
        },
        {
         "mode": "lines+markers",
         "type": "scatter",
         "uid": "f0b4ab7c-a4b4-408e-92ac-86505ce8b54c",
         "x": [
          0,
          1,
          2,
          3,
          4,
          5
         ],
         "y": [
          50,
          46,
          42,
          33,
          33,
          36
         ]
        },
        {
         "mode": "lines+markers",
         "type": "scatter",
         "uid": "52d03d8c-3a06-4a94-b80a-3a3406df218e",
         "x": [
          0,
          1,
          2,
          3,
          4,
          5
         ],
         "y": [
          21,
          16,
          7,
          5,
          13,
          18
         ]
        },
        {
         "mode": "lines+markers",
         "type": "scatter",
         "uid": "78eb4f25-30b3-4ea9-9f3a-4dcc64d87255",
         "x": [
          0,
          1,
          2,
          3,
          4,
          5
         ],
         "y": [
          38,
          34,
          25,
          22,
          29,
          34
         ]
        },
        {
         "mode": "lines+markers",
         "type": "scatter",
         "uid": "f6fb4a48-6c59-438e-8a56-b655d4a4b201",
         "x": [
          0,
          1,
          2,
          3,
          4,
          5
         ],
         "y": [
          2,
          1,
          0,
          1,
          1,
          2
         ]
        },
        {
         "mode": "lines+markers",
         "type": "scatter",
         "uid": "1cf4ce54-22ac-46d9-82e0-9b6c4d28e8b8",
         "x": [
          0,
          1,
          2,
          3,
          4,
          5
         ],
         "y": [
          9,
          7,
          4,
          5,
          6,
          11
         ]
        },
        {
         "mode": "lines+markers",
         "type": "scatter",
         "uid": "2f7fc692-0c85-4a0b-ad9b-7998dcbfd2a2",
         "x": [
          0,
          1,
          2,
          3,
          4,
          5
         ],
         "y": [
          14,
          11,
          14,
          10,
          14,
          13
         ]
        },
        {
         "mode": "lines+markers",
         "type": "scatter",
         "uid": "50b09c79-7895-4000-a302-96842786cc46",
         "x": [
          0,
          1,
          2,
          3,
          4,
          5
         ],
         "y": [
          18,
          22,
          20,
          14,
          11,
          19
         ]
        },
        {
         "mode": "lines+markers",
         "type": "scatter",
         "uid": "e4b500f6-89c1-4cc7-89d9-208bb81a32dc",
         "x": [
          0,
          1,
          2,
          3,
          4,
          5
         ],
         "y": [
          25,
          28,
          25,
          25,
          28,
          25
         ]
        },
        {
         "mode": "lines+markers",
         "type": "scatter",
         "uid": "ccc50815-33c3-4f63-bfad-f7c18330be7c",
         "x": [
          0,
          1,
          2,
          3,
          4,
          5
         ],
         "y": [
          44,
          41,
          33,
          28,
          32,
          38
         ]
        },
        {
         "mode": "lines+markers",
         "type": "scatter",
         "uid": "a0968772-bad2-4841-a599-f96d477fd486",
         "x": [
          0,
          1,
          2,
          3,
          4,
          5
         ],
         "y": [
          25,
          24,
          8,
          13,
          17,
          28
         ]
        },
        {
         "mode": "lines+markers",
         "type": "scatter",
         "uid": "dc6b25d7-52c1-42fb-a908-f80a3c764ef4",
         "x": [
          0,
          1,
          2,
          3,
          4,
          5
         ],
         "y": [
          18,
          13,
          17,
          18,
          20,
          22
         ]
        },
        {
         "mode": "lines+markers",
         "type": "scatter",
         "uid": "a641b42b-9121-4f14-81e6-f79557b5377a",
         "x": [
          0,
          1,
          2,
          3,
          4,
          5
         ],
         "y": [
          31,
          40,
          25,
          19,
          31,
          42
         ]
        },
        {
         "mode": "lines+markers",
         "type": "scatter",
         "uid": "d2cf86f3-be90-4c56-8458-f9ca2e55119c",
         "x": [
          0,
          1,
          2,
          3,
          4,
          5
         ],
         "y": [
          30,
          29,
          27,
          18,
          25,
          28
         ]
        },
        {
         "mode": "lines+markers",
         "type": "scatter",
         "uid": "5650f6a1-f872-466d-b45f-9845a848e473",
         "x": [
          0,
          1,
          2,
          3,
          4,
          5
         ],
         "y": [
          25,
          26,
          15,
          13,
          19,
          23
         ]
        },
        {
         "mode": "lines+markers",
         "type": "scatter",
         "uid": "3d0d8c67-bb12-4407-95a6-0e7c17e5f1ac",
         "x": [
          0,
          1,
          2,
          3,
          4,
          5
         ],
         "y": [
          33,
          32,
          42,
          39,
          38,
          35
         ]
        }
       ],
       "layout": {
        "title": {
         "text": "Images detected Plot(fx = 0.3)"
        },
        "xaxis": {
         "title": {
          "text": "bins"
         }
        },
        "yaxis": {
         "title": {
          "text": "num_image"
         }
        }
       }
      },
      "text/html": [
       "<div>\n",
       "        \n",
       "        \n",
       "            <div id=\"9b4ffd6f-6977-4816-8836-7b3802c7db2c\" class=\"plotly-graph-div\" style=\"height:525px; width:100%;\"></div>\n",
       "            <script type=\"text/javascript\">\n",
       "                require([\"plotly\"], function(Plotly) {\n",
       "                    window.PLOTLYENV=window.PLOTLYENV || {};\n",
       "                    window.PLOTLYENV.BASE_URL='https://plot.ly';\n",
       "                    \n",
       "                if (document.getElementById(\"9b4ffd6f-6977-4816-8836-7b3802c7db2c\")) {\n",
       "                    Plotly.newPlot(\n",
       "                        '9b4ffd6f-6977-4816-8836-7b3802c7db2c',\n",
       "                        [{\"mode\": \"lines+markers\", \"type\": \"scatter\", \"uid\": \"d82237d1-a1bc-4f8e-b49e-ac259e06f37d\", \"x\": [0, 1, 2, 3, 4, 5], \"y\": [55.0, 60.0, 70.0, 71.0, 53.0, 50.0]}, {\"mode\": \"lines+markers\", \"type\": \"scatter\", \"uid\": \"31fd769f-2c92-4a8b-8d4f-dc8dcda647a3\", \"x\": [0, 1, 2, 3, 4, 5], \"y\": [20.0, 21.0, 22.0, 30.0, 21.0, 23.0]}, {\"mode\": \"lines+markers\", \"type\": \"scatter\", \"uid\": \"89faec46-d82e-4d78-b38f-d40bdd371423\", \"x\": [0, 1, 2, 3, 4, 5], \"y\": [17.0, 20.0, 16.0, 22.0, 20.0, 17.0]}, {\"mode\": \"lines+markers\", \"type\": \"scatter\", \"uid\": \"4c3ec08d-2d8b-4875-845d-cf0ee261ae04\", \"x\": [0, 1, 2, 3, 4, 5], \"y\": [28.0, 30.0, 24.0, 26.0, 24.0, 26.0]}, {\"mode\": \"lines+markers\", \"type\": \"scatter\", \"uid\": \"f3caf845-3a4c-4fe1-a553-1730cfb95d1a\", \"x\": [0, 1, 2, 3, 4, 5], \"y\": [7.0, 7.0, 8.0, 10.0, 12.0, 13.0]}, {\"mode\": \"lines+markers\", \"type\": \"scatter\", \"uid\": \"c4a23677-7fa0-49dd-b490-713aeeb9ddc2\", \"x\": [0, 1, 2, 3, 4, 5], \"y\": [25.0, 26.0, 25.0, 28.0, 27.0, 28.0]}, {\"mode\": \"lines+markers\", \"type\": \"scatter\", \"uid\": \"f0b4ab7c-a4b4-408e-92ac-86505ce8b54c\", \"x\": [0, 1, 2, 3, 4, 5], \"y\": [50.0, 46.0, 42.0, 33.0, 33.0, 36.0]}, {\"mode\": \"lines+markers\", \"type\": \"scatter\", \"uid\": \"52d03d8c-3a06-4a94-b80a-3a3406df218e\", \"x\": [0, 1, 2, 3, 4, 5], \"y\": [21.0, 16.0, 7.0, 5.0, 13.0, 18.0]}, {\"mode\": \"lines+markers\", \"type\": \"scatter\", \"uid\": \"78eb4f25-30b3-4ea9-9f3a-4dcc64d87255\", \"x\": [0, 1, 2, 3, 4, 5], \"y\": [38.0, 34.0, 25.0, 22.0, 29.0, 34.0]}, {\"mode\": \"lines+markers\", \"type\": \"scatter\", \"uid\": \"f6fb4a48-6c59-438e-8a56-b655d4a4b201\", \"x\": [0, 1, 2, 3, 4, 5], \"y\": [2.0, 1.0, 0.0, 1.0, 1.0, 2.0]}, {\"mode\": \"lines+markers\", \"type\": \"scatter\", \"uid\": \"1cf4ce54-22ac-46d9-82e0-9b6c4d28e8b8\", \"x\": [0, 1, 2, 3, 4, 5], \"y\": [9.0, 7.0, 4.0, 5.0, 6.0, 11.0]}, {\"mode\": \"lines+markers\", \"type\": \"scatter\", \"uid\": \"2f7fc692-0c85-4a0b-ad9b-7998dcbfd2a2\", \"x\": [0, 1, 2, 3, 4, 5], \"y\": [14.0, 11.0, 14.0, 10.0, 14.0, 13.0]}, {\"mode\": \"lines+markers\", \"type\": \"scatter\", \"uid\": \"50b09c79-7895-4000-a302-96842786cc46\", \"x\": [0, 1, 2, 3, 4, 5], \"y\": [18.0, 22.0, 20.0, 14.0, 11.0, 19.0]}, {\"mode\": \"lines+markers\", \"type\": \"scatter\", \"uid\": \"e4b500f6-89c1-4cc7-89d9-208bb81a32dc\", \"x\": [0, 1, 2, 3, 4, 5], \"y\": [25.0, 28.0, 25.0, 25.0, 28.0, 25.0]}, {\"mode\": \"lines+markers\", \"type\": \"scatter\", \"uid\": \"ccc50815-33c3-4f63-bfad-f7c18330be7c\", \"x\": [0, 1, 2, 3, 4, 5], \"y\": [44.0, 41.0, 33.0, 28.0, 32.0, 38.0]}, {\"mode\": \"lines+markers\", \"type\": \"scatter\", \"uid\": \"a0968772-bad2-4841-a599-f96d477fd486\", \"x\": [0, 1, 2, 3, 4, 5], \"y\": [25.0, 24.0, 8.0, 13.0, 17.0, 28.0]}, {\"mode\": \"lines+markers\", \"type\": \"scatter\", \"uid\": \"dc6b25d7-52c1-42fb-a908-f80a3c764ef4\", \"x\": [0, 1, 2, 3, 4, 5], \"y\": [18.0, 13.0, 17.0, 18.0, 20.0, 22.0]}, {\"mode\": \"lines+markers\", \"type\": \"scatter\", \"uid\": \"a641b42b-9121-4f14-81e6-f79557b5377a\", \"x\": [0, 1, 2, 3, 4, 5], \"y\": [31.0, 40.0, 25.0, 19.0, 31.0, 42.0]}, {\"mode\": \"lines+markers\", \"type\": \"scatter\", \"uid\": \"d2cf86f3-be90-4c56-8458-f9ca2e55119c\", \"x\": [0, 1, 2, 3, 4, 5], \"y\": [30.0, 29.0, 27.0, 18.0, 25.0, 28.0]}, {\"mode\": \"lines+markers\", \"type\": \"scatter\", \"uid\": \"5650f6a1-f872-466d-b45f-9845a848e473\", \"x\": [0, 1, 2, 3, 4, 5], \"y\": [25.0, 26.0, 15.0, 13.0, 19.0, 23.0]}, {\"mode\": \"lines+markers\", \"type\": \"scatter\", \"uid\": \"3d0d8c67-bb12-4407-95a6-0e7c17e5f1ac\", \"x\": [0, 1, 2, 3, 4, 5], \"y\": [33.0, 32.0, 42.0, 39.0, 38.0, 35.0]}],\n",
       "                        {\"title\": {\"text\": \"Images detected Plot(fx = 0.3)\"}, \"xaxis\": {\"title\": {\"text\": \"bins\"}}, \"yaxis\": {\"title\": {\"text\": \"num_image\"}}},\n",
       "                        {\"showLink\": false, \"linkText\": \"Export to plot.ly\", \"plotlyServerURL\": \"https://plot.ly\", \"responsive\": true}\n",
       "                    ).then(function(){\n",
       "                            \n",
       "var gd = document.getElementById('9b4ffd6f-6977-4816-8836-7b3802c7db2c');\n",
       "var x = new MutationObserver(function (mutations, observer) {{\n",
       "        var display = window.getComputedStyle(gd).display;\n",
       "        if (!display || display === 'none') {{\n",
       "            console.log([gd, 'removed!']);\n",
       "            Plotly.purge(gd);\n",
       "            observer.disconnect();\n",
       "        }}\n",
       "}});\n",
       "\n",
       "// Listen for the removal of the full notebook cells\n",
       "var notebookContainer = gd.closest('#notebook-container');\n",
       "if (notebookContainer) {{\n",
       "    x.observe(notebookContainer, {childList: true});\n",
       "}}\n",
       "\n",
       "// Listen for the clearing of the current output cell\n",
       "var outputEl = gd.closest('.output');\n",
       "if (outputEl) {{\n",
       "    x.observe(outputEl, {childList: true});\n",
       "}}\n",
       "\n",
       "                        })\n",
       "                };\n",
       "                });\n",
       "            </script>\n",
       "        </div>"
      ]
     },
     "metadata": {},
     "output_type": "display_data"
    }
   ],
   "source": [
    "layout1 = go.Layout(\n",
    "    title='Images detected Plot(fx = 0.1)',\n",
    "    yaxis = dict(title='num_image'),\n",
    "    xaxis = dict(title='bins')\n",
    ")\n",
    "\n",
    "trace1 = []\n",
    "trace2 = []\n",
    "trace3 = []\n",
    "\n",
    "for key in bin_dict1.keys():\n",
    "    trace_temp = go.Scatter(\n",
    "    x = np.arange(6),\n",
    "    y = bin_dict1[key],\n",
    "    mode='lines+markers'\n",
    "    )\n",
    "    trace1.append(trace_temp)\n",
    "    \n",
    "for key in bin_dict2.keys():\n",
    "    trace_temp = go.Scatter(\n",
    "    x = np.arange(6),\n",
    "    y = bin_dict2[key],\n",
    "    mode='lines+markers'\n",
    "    )\n",
    "    trace2.append(trace_temp)\n",
    "    \n",
    "for key in bin_dict3.keys():\n",
    "    trace_temp = go.Scatter(\n",
    "    x = np.arange(6),\n",
    "    y = bin_dict3[key],\n",
    "    mode='lines+markers'\n",
    "    )\n",
    "    trace3.append(trace_temp)\n",
    "\n",
    "    \n",
    "layout2 = go.Layout(\n",
    "    title='Images detected Plot(fx = 0.2)',\n",
    "    yaxis = dict(title='num_image'),\n",
    "    xaxis = dict(title='bins')\n",
    ")\n",
    "\n",
    "\n",
    "layout3 = go.Layout(\n",
    "    title='Images detected Plot(fx = 0.3)',\n",
    "    yaxis = dict(title='num_image'),\n",
    "    xaxis = dict(title='bins')\n",
    ")\n",
    "\n",
    "fig1 = go.Figure(data=trace1, layout=layout1)\n",
    "fig2 = go.Figure(data=trace2, layout=layout2)\n",
    "fig3 = go.Figure(data=trace3, layout=layout3)\n",
    "\n",
    "py.offline.iplot(fig1)\n",
    "py.offline.iplot(fig2)\n",
    "py.offline.iplot(fig3)"
   ]
  },
  {
   "cell_type": "markdown",
   "metadata": {},
   "source": [
    "## Tester for checkerboard detection"
   ]
  },
  {
   "cell_type": "code",
   "execution_count": null,
   "metadata": {},
   "outputs": [],
   "source": [
    "for j in range(1,11):\n",
    "    im = cv2.imread(\"./with_lower_reflectivity.png\")\n",
    "    im = cv2.cvtColor(im, cv2.COLOR_BGR2GRAY)\n",
    "    im[im[:,:] >= 128] = 255\n",
    "    im[im[:,:] < 128] = 0\n",
    "    im = 255 - im\n",
    "    plt.figure()\n",
    "    plt.imshow(im, cmap='gray')\n",
    "    fx = j*0.1\n",
    "    fy = j*0.1\n",
    "    im = cv2.GaussianBlur(im, ksize = (5,5), sigmaX = 1, sigmaY = 1)\n",
    "    im = cv2.resize(im, (0, 0), fx=fx, fy=fy, interpolation=cv2.INTER_AREA)\n",
    "    retval, corners = cv2.findChessboardCorners(im,(nx,ny), None)\n",
    "    print (retval, fx)\n",
    "    if retval == True:\n",
    "        plt.figure()\n",
    "        cv2.drawChessboardCorners(im, (nx, ny), corners, retval)\n",
    "        plt.imshow(im, cmap = 'gray')"
   ]
  }
 ],
 "metadata": {
  "kernelspec": {
   "display_name": "Python 3",
   "language": "python",
   "name": "python3"
  },
  "language_info": {
   "codemirror_mode": {
    "name": "ipython",
    "version": 3
   },
   "file_extension": ".py",
   "mimetype": "text/x-python",
   "name": "python",
   "nbconvert_exporter": "python",
   "pygments_lexer": "ipython3",
   "version": "3.7.3"
  }
 },
 "nbformat": 4,
 "nbformat_minor": 2
}
