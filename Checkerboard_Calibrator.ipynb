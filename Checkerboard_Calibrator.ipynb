{
 "cells": [
  {
   "cell_type": "markdown",
   "metadata": {},
   "source": [
    "# Camera Calibration Notebook"
   ]
  },
  {
   "cell_type": "code",
   "execution_count": 4,
   "metadata": {},
   "outputs": [],
   "source": [
    "import cv2\n",
    "import glob\n",
    "import numpy as np\n",
    "import matplotlib.pyplot as plt\n",
    "import os"
   ]
  },
  {
   "cell_type": "code",
   "execution_count": 21,
   "metadata": {},
   "outputs": [],
   "source": [
    "dirs = [\"./field_checkerboard_video/\"]"
   ]
  },
  {
   "cell_type": "code",
   "execution_count": null,
   "metadata": {},
   "outputs": [],
   "source": [
    "vv_s = 0.08684819327608279\n",
    "vv_n = 0.06564555425303907\n",
    "vv_i = 0.04630976610304423\n",
    "vv_f = 0.06755149834582377\n",
    "\n",
    "vs_s = 0.04043636146989359\n",
    "vs_n = 0.0397322715506765\n",
    "vs_i = 0.04385700211221671\n",
    "vs_f = 0.043480910391920216"
   ]
  },
  {
   "cell_type": "markdown",
   "metadata": {},
   "source": [
    "## Pixel Reprojection error ( Total and Across Bins)"
   ]
  },
  {
   "cell_type": "code",
   "execution_count": null,
   "metadata": {},
   "outputs": [],
   "source": [
    "if not (os.path.exists(\"./vid_hard_check/\")):\n",
    "    os.makedirs(\"./vid_hard_check/\")"
   ]
  },
  {
   "cell_type": "code",
   "execution_count": 82,
   "metadata": {},
   "outputs": [
    {
     "name": "stdout",
     "output_type": "stream",
     "text": [
      "./180/c1_180.mp4\n",
      "512\n",
      "0.1 32\n",
      "total error: 0.045188109597296015 for scaling of 0.1 with 32 number of images for file ./180/c1_180.mp4\n",
      "0.2 131\n",
      "total error: 0.0743747954100561 for scaling of 0.2 with 131 number of images for file ./180/c1_180.mp4\n",
      "0.30000000000000004 169\n",
      "total error: 0.14461012825005387 for scaling of 0.30000000000000004 with 169 number of images for file ./180/c1_180.mp4\n",
      "./180/c3_180.mp4\n",
      "518\n",
      "0.1 37\n",
      "total error: 0.06838695833178102 for scaling of 0.1 with 37 number of images for file ./180/c3_180.mp4\n",
      "0.2 115\n",
      "total error: 0.12285693125425 for scaling of 0.2 with 115 number of images for file ./180/c3_180.mp4\n",
      "0.30000000000000004 123\n",
      "total error: 0.1945220697507891 for scaling of 0.30000000000000004 with 123 number of images for file ./180/c3_180.mp4\n",
      "./180/c2_180.mp4\n",
      "493\n",
      "0.1 26\n",
      "total error: 0.07176843124042381 for scaling of 0.1 with 26 number of images for file ./180/c2_180.mp4\n",
      "0.2 92\n",
      "total error: 0.15528006330739455 for scaling of 0.2 with 92 number of images for file ./180/c2_180.mp4\n",
      "0.30000000000000004 95\n",
      "total error: 0.2359019234609882 for scaling of 0.30000000000000004 with 95 number of images for file ./180/c2_180.mp4\n",
      "./180/c4_180.mp4\n",
      "511\n",
      "0.1 50\n",
      "total error: 0.0700566321803616 for scaling of 0.1 with 50 number of images for file ./180/c4_180.mp4\n",
      "0.2 132\n",
      "total error: 0.17240548274340925 for scaling of 0.2 with 132 number of images for file ./180/c4_180.mp4\n",
      "0.30000000000000004 118\n",
      "total error: 0.2299175194100593 for scaling of 0.30000000000000004 with 118 number of images for file ./180/c4_180.mp4\n"
     ]
    }
   ],
   "source": [
    "global_dict_no_eq = {}\n",
    "for d in dirs:\n",
    "    flist = sorted(glob.glob(os.path.join(d, \"*.mp4\")))\n",
    "    for vf in flist:\n",
    "        print(vf)\n",
    "        vidcap = cv2.VideoCapture(vf)\n",
    "\n",
    "        files = glob.glob(\"./vid_hard_check/*\")\n",
    "        for fl in files:\n",
    "            os.remove(fl)\n",
    "\n",
    "        success,image = vidcap.read()\n",
    "        count = 0\n",
    "        success = True\n",
    "        while success:\n",
    "            success,image = vidcap.read()\n",
    "            cv2.imwrite(\"./vid_hard_check/frame%d.png\" % count, image)     # save frame as PNG file\n",
    "            if cv2.waitKey(10) == 27:                     # exit if Escape is hit\n",
    "                break\n",
    "            count += 1\n",
    "\n",
    "        print(count)\n",
    "\n",
    "        nx = 5\n",
    "        ny = 5\n",
    "        bins = 6\n",
    "        \n",
    "        \n",
    "        interval = count/bins\n",
    "\n",
    "        mesh = np.mgrid[0:nx, 0:ny].T.reshape(-1,2)\n",
    "        objp = np.hstack((mesh, np.zeros(shape = (nx*ny,1))))\n",
    "        objp = np.array(objp, dtype = np.float32)\n",
    "\n",
    "        fname = glob.glob('./vid_hard_check/*.png')\n",
    "        \n",
    "        for j in range(1,4):\n",
    "\n",
    "            imgpoints = []\n",
    "            objpoints = []\n",
    "            imgpoints2_list = []\n",
    "            detected_list = []\n",
    "            bin_error = []\n",
    "            bincount = np.zeros(6)\n",
    "            fx = j*0.1\n",
    "            fy = j*0.1\n",
    "            for i,f in enumerate(fname):\n",
    "                try:\n",
    "                    imcv = cv2.imread(f)\n",
    "                    imcv = cv2.cvtColor(imcv, cv2.COLOR_BGR2GRAY)\n",
    "\n",
    "####### Uncomment below two lines to apply histogram equalization for removing shiny effects, cl = 2, 5 or 10 work best #####                    \n",
    "\n",
    "#                     cli = cv2.createCLAHE(clipLimit = cl)\n",
    "#                     imcv = cli.apply(imcv)\n",
    "\n",
    "                    imcv = cv2.GaussianBlur(imcv, ksize = (5,5), sigmaX = 1, sigmaY = 1)\n",
    "                    imcv = cv2.resize(imcv, (0, 0), fx=fx, fy=fy, interpolation=cv2.INTER_AREA)\n",
    "\n",
    "\n",
    "                    retval, corners = cv2.findChessboardCorners(imcv,(nx,ny), None)\n",
    "                    if (retval == True):\n",
    "\n",
    "                        detected_list.append(f)\n",
    "###### Uncomment below lines to plot the detected checkerboard corners #######\n",
    "\n",
    "#                         plt.figure()\n",
    "#                         cv2.drawChessboardCorners(imcv, (nx, ny), corners, retval)\n",
    "#                         plt.imshow(imcv, cmap='gray')\n",
    "\n",
    "                        imgpoints.append(corners)\n",
    "                        objpoints.append(objp*20)\n",
    "                        bincount[int(i/interval)] += 1\n",
    "                              \n",
    "                except Exception as e:\n",
    "                    pass\n",
    "\n",
    "            print(fx, len(objpoints))\n",
    "            mean_error = 1.0\n",
    "            mtx = dist = rvecs = tvecs = []\n",
    "            if (len(objpoints) != 0):\n",
    "                retval, mtx, dist, rvecs, tvecs = cv2.calibrateCamera(objpoints, imgpoints, imcv.shape[::-1], None, None)\n",
    "                mean_error = 0.0\n",
    "                \n",
    "                tot_len = len(objpoints)\n",
    "                st = 0\n",
    "                for b in range(bins):\n",
    "                    berror = 0.0\n",
    "                    if b != 0 :\n",
    "                        st += bincount[b-1]\n",
    "                    else: \n",
    "                        st = 0\n",
    "                    end = st + bincount[b]\n",
    "                    for i in range(int(st),int(end)):\n",
    "                        imgpoints2, _ = cv2.projectPoints(objpoints[i], rvecs[i], tvecs[i], mtx, dist)\n",
    "                        imgpoints2_list.append(imgpoints2)\n",
    "                        error = cv2.norm(imgpoints[i], imgpoints2, cv2.NORM_L2)/len(imgpoints2)\n",
    "                        berror += error\n",
    "                    if bincount[b] != 0:\n",
    "                        bin_error.append(berror/bincount[b])\n",
    "                    else:\n",
    "                        bin_error = 1.0\n",
    "\n",
    "                for i in range(len(objpoints)):\n",
    "                    imgpoints2, _ = cv2.projectPoints(objpoints[i], rvecs[i], tvecs[i], mtx, dist)\n",
    "                    imgpoints2_list.append(imgpoints2)\n",
    "                    error = cv2.norm(imgpoints[i], imgpoints2, cv2.NORM_L2)/len(imgpoints2)\n",
    "                    mean_error += error\n",
    "                print( \"total error: {} for scaling of {} with {} number of images for file {}\".format(mean_error/len(objpoints), fx, len(objpoints), vf))\n",
    "\n",
    "            if vf not in global_dict_no_eq:\n",
    "                global_dict_no_eq[vf] = []\n",
    "\n",
    "            global_dict_no_eq[vf].append([fx, len(objpoints), mean_error/(len(objpoints)+0.00001), mtx, dist,detected_list,imgpoints, bin_error, bincount])"
   ]
  },
  {
   "cell_type": "markdown",
   "metadata": {},
   "source": [
    "## Plot of reprojection errors across bins"
   ]
  },
  {
   "cell_type": "code",
   "execution_count": 83,
   "metadata": {},
   "outputs": [],
   "source": [
    "import pickle\n",
    "pickle_out = open(\"180_4.pickle\",\"wb\")\n",
    "pickle.dump(global_dict_no_eq, pickle_out)\n",
    "pickle_out.close()"
   ]
  },
  {
   "cell_type": "code",
   "execution_count": 84,
   "metadata": {},
   "outputs": [],
   "source": [
    "plot_dict1 = {}\n",
    "plot_dict2 = {}\n",
    "plot_dict3 = {}\n",
    "\n",
    "\n",
    "bin_dict1 = {}\n",
    "bin_dict2 = {}\n",
    "bin_dict3 = {}\n"
   ]
  },
  {
   "cell_type": "code",
   "execution_count": 86,
   "metadata": {},
   "outputs": [],
   "source": [
    "for key in global_dict_no_eq:\n",
    "    l = global_dict_no_eq[key]\n",
    "    plot_dict1[key] = l[0][7]\n",
    "    bin_dict1[key] = l[0][8]\n",
    "    plot_dict2[key] = l[1][7]\n",
    "    bin_dict2[key] = l[1][8]\n",
    "    plot_dict3[key] = l[2][7]\n",
    "    bin_dict3[key] = l[2][8]"
   ]
  },
  {
   "cell_type": "code",
   "execution_count": 87,
   "metadata": {},
   "outputs": [
    {
     "data": {
      "text/html": [
       "        <script type=\"text/javascript\">\n",
       "        window.PlotlyConfig = {MathJaxConfig: 'local'};\n",
       "        if (window.MathJax) {MathJax.Hub.Config({SVG: {font: \"STIX-Web\"}});}\n",
       "        if (typeof require !== 'undefined') {\n",
       "        require.undef(\"plotly\");\n",
       "        requirejs.config({\n",
       "            paths: {\n",
       "                'plotly': ['https://cdn.plot.ly/plotly-latest.min']\n",
       "            }\n",
       "        });\n",
       "        require(['plotly'], function(Plotly) {\n",
       "            window._Plotly = Plotly;\n",
       "        });\n",
       "        }\n",
       "        </script>\n",
       "        "
      ]
     },
     "metadata": {},
     "output_type": "display_data"
    }
   ],
   "source": [
    "import plotly as py\n",
    "import plotly.graph_objs as go\n",
    "import ipywidgets as widgets\n",
    "\n",
    "py.offline.init_notebook_mode(connected=True)"
   ]
  },
  {
   "cell_type": "code",
   "execution_count": 88,
   "metadata": {},
   "outputs": [],
   "source": [
    "layout1 = go.Layout(\n",
    "    title='Reprojection Error Plot(fx = 0.1)',\n",
    "    yaxis = dict(title='error'),\n",
    "    xaxis = dict(title='bins')\n",
    ")\n",
    "\n",
    "trace11 = go.Scatter(\n",
    "    x = np.arange(6),\n",
    "    y = plot_dict1['./180/c1_180.mp4'],\n",
    "    mode='lines+markers'\n",
    ")\n",
    "\n",
    "trace12 = go.Scatter(\n",
    "    x = np.arange(6),\n",
    "    y = plot_dict1['./180/c2_180.mp4'],\n",
    "    mode='lines+markers'\n",
    ")\n",
    "\n",
    "trace13 = go.Scatter(\n",
    "    x = np.arange(6),\n",
    "    y = plot_dict1['./180/c3_180.mp4'],\n",
    "    mode='lines+markers'\n",
    ")\n",
    "\n",
    "trace14 = go.Scatter(\n",
    "    x = np.arange(6),\n",
    "    y = plot_dict1['./180/c4_180.mp4'],\n",
    "    mode='lines+markers'\n",
    ")\n",
    "\n",
    "\n",
    "layout2 = go.Layout(\n",
    "    title='Reprojection Error Plot(fx = 0.2)',\n",
    "    yaxis = dict(title='error'),\n",
    "    xaxis = dict(title='bins')\n",
    ")\n",
    "\n",
    "trace21 = go.Scatter(\n",
    "    x = np.arange(6),\n",
    "    y = plot_dict2['./180/c1_180.mp4'],\n",
    "    mode='lines+markers'\n",
    ")\n",
    "\n",
    "trace22 = go.Scatter(\n",
    "    x = np.arange(6),\n",
    "    y = plot_dict2['./180/c2_180.mp4'],\n",
    "    mode='lines+markers'\n",
    ")\n",
    "\n",
    "trace23 = go.Scatter(\n",
    "    x = np.arange(6),\n",
    "    y = plot_dict2['./180/c3_180.mp4'],\n",
    "    mode='lines+markers'\n",
    ")\n",
    "\n",
    "trace24 = go.Scatter(\n",
    "    x = np.arange(6),\n",
    "    y = plot_dict2['./180/c4_180.mp4'],\n",
    "    mode='lines+markers'\n",
    ")\n",
    "\n",
    "\n",
    "layout3 = go.Layout(\n",
    "    title='Reprojection Error Plot(fx = 0.3)',\n",
    "    yaxis = dict(title='error'),\n",
    "    xaxis = dict(title='bins')\n",
    ")\n",
    "\n",
    "trace31 = go.Scatter(\n",
    "    x = np.arange(6),\n",
    "    y = plot_dict3['./180/c1_180.mp4'],\n",
    "    mode='lines+markers'\n",
    ")\n",
    "\n",
    "trace32 = go.Scatter(\n",
    "    x = np.arange(6),\n",
    "    y = plot_dict3['./180/c2_180.mp4'],\n",
    "    mode='lines+markers'\n",
    ")\n",
    "\n",
    "trace33 = go.Scatter(\n",
    "    x = np.arange(6),\n",
    "    y = plot_dict3['./180/c3_180.mp4'],\n",
    "    mode='lines+markers'\n",
    ")\n",
    "\n",
    "trace34 = go.Scatter(\n",
    "    x = np.arange(6),\n",
    "    y = plot_dict3['./180/c4_180.mp4'],\n",
    "    mode='lines+markers'\n",
    ")"
   ]
  },
  {
   "cell_type": "code",
   "execution_count": 89,
   "metadata": {},
   "outputs": [],
   "source": [
    "fig1 = go.Figure(data=[trace11,trace12,trace13,trace14], layout=layout1)\n",
    "fig2 = go.Figure(data=[trace21,trace22,trace23,trace24], layout=layout2)\n",
    "fig3 = go.Figure(data=[trace31,trace32,trace33,trace34], layout=layout3)"
   ]
  },
  {
   "cell_type": "code",
   "execution_count": 90,
   "metadata": {},
   "outputs": [
    {
     "data": {
      "application/vnd.plotly.v1+json": {
       "config": {
        "linkText": "Export to plot.ly",
        "plotlyServerURL": "https://plot.ly",
        "showLink": false
       },
       "data": [
        {
         "mode": "lines+markers",
         "type": "scatter",
         "uid": "164263ba-334b-414f-87d4-58d5db62b6b9",
         "x": [
          0,
          1,
          2,
          3,
          4,
          5
         ],
         "y": [
          0.05933803581863095,
          0.13010200951165662,
          0.03750180941885882,
          0.045916074969327765,
          0.028410496883230624,
          0.041100222134668005
         ]
        },
        {
         "mode": "lines+markers",
         "type": "scatter",
         "uid": "d0e3c922-1b93-4cd5-a706-0594c058474b",
         "x": [
          0,
          1,
          2,
          3,
          4,
          5
         ],
         "y": [
          0.08447536754409488,
          0.08744997604272697,
          0.07096179326265231,
          0.08525199427136976,
          0.05987734298136101,
          0.05587924459274811
         ]
        },
        {
         "mode": "lines+markers",
         "type": "scatter",
         "uid": "7c79c501-3546-4c4b-a65e-e911668c7c21",
         "x": [
          0,
          1,
          2,
          3,
          4,
          5
         ],
         "y": [
          0.05095268568963278,
          0.08194690191750643,
          0.04980776601441437,
          0.06899755252559411,
          0.11690883565548353,
          0.0750339431456828
         ]
        },
        {
         "mode": "lines+markers",
         "type": "scatter",
         "uid": "85f47d82-69ad-484f-96f3-6a1ac8ad9d19",
         "x": [
          0,
          1,
          2,
          3,
          4,
          5
         ],
         "y": [
          0.04936627507534503,
          0.07545189457431706,
          0.07642548525963003,
          0.06847545530219978,
          0.05902510686115094,
          0.0840967575248984
         ]
        }
       ],
       "layout": {
        "title": {
         "text": "Reprojection Error Plot(fx = 0.1)"
        },
        "xaxis": {
         "title": {
          "text": "bins"
         }
        },
        "yaxis": {
         "title": {
          "text": "error"
         }
        }
       }
      },
      "text/html": [
       "<div>\n",
       "        \n",
       "        \n",
       "            <div id=\"3e0c4b02-2d6b-448b-bae3-52172eb7bce4\" class=\"plotly-graph-div\" style=\"height:525px; width:100%;\"></div>\n",
       "            <script type=\"text/javascript\">\n",
       "                require([\"plotly\"], function(Plotly) {\n",
       "                    window.PLOTLYENV=window.PLOTLYENV || {};\n",
       "                    window.PLOTLYENV.BASE_URL='https://plot.ly';\n",
       "                    \n",
       "                if (document.getElementById(\"3e0c4b02-2d6b-448b-bae3-52172eb7bce4\")) {\n",
       "                    Plotly.newPlot(\n",
       "                        '3e0c4b02-2d6b-448b-bae3-52172eb7bce4',\n",
       "                        [{\"mode\": \"lines+markers\", \"type\": \"scatter\", \"uid\": \"164263ba-334b-414f-87d4-58d5db62b6b9\", \"x\": [0, 1, 2, 3, 4, 5], \"y\": [0.05933803581863095, 0.13010200951165662, 0.03750180941885882, 0.045916074969327765, 0.028410496883230624, 0.041100222134668005]}, {\"mode\": \"lines+markers\", \"type\": \"scatter\", \"uid\": \"d0e3c922-1b93-4cd5-a706-0594c058474b\", \"x\": [0, 1, 2, 3, 4, 5], \"y\": [0.08447536754409488, 0.08744997604272697, 0.07096179326265231, 0.08525199427136976, 0.05987734298136101, 0.05587924459274811]}, {\"mode\": \"lines+markers\", \"type\": \"scatter\", \"uid\": \"7c79c501-3546-4c4b-a65e-e911668c7c21\", \"x\": [0, 1, 2, 3, 4, 5], \"y\": [0.05095268568963278, 0.08194690191750643, 0.04980776601441437, 0.06899755252559411, 0.11690883565548353, 0.0750339431456828]}, {\"mode\": \"lines+markers\", \"type\": \"scatter\", \"uid\": \"85f47d82-69ad-484f-96f3-6a1ac8ad9d19\", \"x\": [0, 1, 2, 3, 4, 5], \"y\": [0.04936627507534503, 0.07545189457431706, 0.07642548525963003, 0.06847545530219978, 0.05902510686115094, 0.0840967575248984]}],\n",
       "                        {\"title\": {\"text\": \"Reprojection Error Plot(fx = 0.1)\"}, \"xaxis\": {\"title\": {\"text\": \"bins\"}}, \"yaxis\": {\"title\": {\"text\": \"error\"}}},\n",
       "                        {\"showLink\": false, \"linkText\": \"Export to plot.ly\", \"plotlyServerURL\": \"https://plot.ly\", \"responsive\": true}\n",
       "                    ).then(function(){\n",
       "                            \n",
       "var gd = document.getElementById('3e0c4b02-2d6b-448b-bae3-52172eb7bce4');\n",
       "var x = new MutationObserver(function (mutations, observer) {{\n",
       "        var display = window.getComputedStyle(gd).display;\n",
       "        if (!display || display === 'none') {{\n",
       "            console.log([gd, 'removed!']);\n",
       "            Plotly.purge(gd);\n",
       "            observer.disconnect();\n",
       "        }}\n",
       "}});\n",
       "\n",
       "// Listen for the removal of the full notebook cells\n",
       "var notebookContainer = gd.closest('#notebook-container');\n",
       "if (notebookContainer) {{\n",
       "    x.observe(notebookContainer, {childList: true});\n",
       "}}\n",
       "\n",
       "// Listen for the clearing of the current output cell\n",
       "var outputEl = gd.closest('.output');\n",
       "if (outputEl) {{\n",
       "    x.observe(outputEl, {childList: true});\n",
       "}}\n",
       "\n",
       "                        })\n",
       "                };\n",
       "                });\n",
       "            </script>\n",
       "        </div>"
      ]
     },
     "metadata": {},
     "output_type": "display_data"
    },
    {
     "data": {
      "application/vnd.plotly.v1+json": {
       "config": {
        "linkText": "Export to plot.ly",
        "plotlyServerURL": "https://plot.ly",
        "showLink": false
       },
       "data": [
        {
         "mode": "lines+markers",
         "type": "scatter",
         "uid": "7d1b2eee-8a32-42a9-bf8b-98c57a3817ca",
         "x": [
          0,
          1,
          2,
          3,
          4,
          5
         ],
         "y": [
          0.07665917154825438,
          0.07996174089476883,
          0.09759544621601464,
          0.08112669665172914,
          0.057791709062865786,
          0.06014252926677155
         ]
        },
        {
         "mode": "lines+markers",
         "type": "scatter",
         "uid": "773d62b1-49e0-45e0-92e0-577fa38f57d2",
         "x": [
          0,
          1,
          2,
          3,
          4,
          5
         ],
         "y": [
          0.14855565753678884,
          0.13829477347568592,
          0.15125566365963336,
          0.1759155905140425,
          0.1612080383855831,
          0.1513478782271524
         ]
        },
        {
         "mode": "lines+markers",
         "type": "scatter",
         "uid": "9d3cd4b1-9d65-4688-9a2d-6b454fe6cebd",
         "x": [
          0,
          1,
          2,
          3,
          4,
          5
         ],
         "y": [
          0.09530738831504579,
          0.11197749554408944,
          0.12999172663825326,
          0.11565898764180879,
          0.14850166778443202,
          0.13390271820392102
         ]
        },
        {
         "mode": "lines+markers",
         "type": "scatter",
         "uid": "b28c6569-d0d9-4964-b5f6-73261e7bc1da",
         "x": [
          0,
          1,
          2,
          3,
          4,
          5
         ],
         "y": [
          0.13950988203996803,
          0.17770019899570172,
          0.17876134422709672,
          0.17560194291536269,
          0.18714553872156883,
          0.17585147155775463
         ]
        }
       ],
       "layout": {
        "title": {
         "text": "Reprojection Error Plot(fx = 0.2)"
        },
        "xaxis": {
         "title": {
          "text": "bins"
         }
        },
        "yaxis": {
         "title": {
          "text": "error"
         }
        }
       }
      },
      "text/html": [
       "<div>\n",
       "        \n",
       "        \n",
       "            <div id=\"099d406a-4cc7-4468-8e7e-2bf60a8bc8cc\" class=\"plotly-graph-div\" style=\"height:525px; width:100%;\"></div>\n",
       "            <script type=\"text/javascript\">\n",
       "                require([\"plotly\"], function(Plotly) {\n",
       "                    window.PLOTLYENV=window.PLOTLYENV || {};\n",
       "                    window.PLOTLYENV.BASE_URL='https://plot.ly';\n",
       "                    \n",
       "                if (document.getElementById(\"099d406a-4cc7-4468-8e7e-2bf60a8bc8cc\")) {\n",
       "                    Plotly.newPlot(\n",
       "                        '099d406a-4cc7-4468-8e7e-2bf60a8bc8cc',\n",
       "                        [{\"mode\": \"lines+markers\", \"type\": \"scatter\", \"uid\": \"7d1b2eee-8a32-42a9-bf8b-98c57a3817ca\", \"x\": [0, 1, 2, 3, 4, 5], \"y\": [0.07665917154825438, 0.07996174089476883, 0.09759544621601464, 0.08112669665172914, 0.057791709062865786, 0.06014252926677155]}, {\"mode\": \"lines+markers\", \"type\": \"scatter\", \"uid\": \"773d62b1-49e0-45e0-92e0-577fa38f57d2\", \"x\": [0, 1, 2, 3, 4, 5], \"y\": [0.14855565753678884, 0.13829477347568592, 0.15125566365963336, 0.1759155905140425, 0.1612080383855831, 0.1513478782271524]}, {\"mode\": \"lines+markers\", \"type\": \"scatter\", \"uid\": \"9d3cd4b1-9d65-4688-9a2d-6b454fe6cebd\", \"x\": [0, 1, 2, 3, 4, 5], \"y\": [0.09530738831504579, 0.11197749554408944, 0.12999172663825326, 0.11565898764180879, 0.14850166778443202, 0.13390271820392102]}, {\"mode\": \"lines+markers\", \"type\": \"scatter\", \"uid\": \"b28c6569-d0d9-4964-b5f6-73261e7bc1da\", \"x\": [0, 1, 2, 3, 4, 5], \"y\": [0.13950988203996803, 0.17770019899570172, 0.17876134422709672, 0.17560194291536269, 0.18714553872156883, 0.17585147155775463]}],\n",
       "                        {\"title\": {\"text\": \"Reprojection Error Plot(fx = 0.2)\"}, \"xaxis\": {\"title\": {\"text\": \"bins\"}}, \"yaxis\": {\"title\": {\"text\": \"error\"}}},\n",
       "                        {\"showLink\": false, \"linkText\": \"Export to plot.ly\", \"plotlyServerURL\": \"https://plot.ly\", \"responsive\": true}\n",
       "                    ).then(function(){\n",
       "                            \n",
       "var gd = document.getElementById('099d406a-4cc7-4468-8e7e-2bf60a8bc8cc');\n",
       "var x = new MutationObserver(function (mutations, observer) {{\n",
       "        var display = window.getComputedStyle(gd).display;\n",
       "        if (!display || display === 'none') {{\n",
       "            console.log([gd, 'removed!']);\n",
       "            Plotly.purge(gd);\n",
       "            observer.disconnect();\n",
       "        }}\n",
       "}});\n",
       "\n",
       "// Listen for the removal of the full notebook cells\n",
       "var notebookContainer = gd.closest('#notebook-container');\n",
       "if (notebookContainer) {{\n",
       "    x.observe(notebookContainer, {childList: true});\n",
       "}}\n",
       "\n",
       "// Listen for the clearing of the current output cell\n",
       "var outputEl = gd.closest('.output');\n",
       "if (outputEl) {{\n",
       "    x.observe(outputEl, {childList: true});\n",
       "}}\n",
       "\n",
       "                        })\n",
       "                };\n",
       "                });\n",
       "            </script>\n",
       "        </div>"
      ]
     },
     "metadata": {},
     "output_type": "display_data"
    },
    {
     "data": {
      "application/vnd.plotly.v1+json": {
       "config": {
        "linkText": "Export to plot.ly",
        "plotlyServerURL": "https://plot.ly",
        "showLink": false
       },
       "data": [
        {
         "mode": "lines+markers",
         "type": "scatter",
         "uid": "f162de1a-c57d-46d0-9b46-42d7571443e8",
         "x": [
          0,
          1,
          2,
          3,
          4,
          5
         ],
         "y": [
          0.12782784538732173,
          0.15043932557939582,
          0.1855350675894626,
          0.1420814058386758,
          0.13034880839739293,
          0.12997445692052362
         ]
        },
        {
         "mode": "lines+markers",
         "type": "scatter",
         "uid": "3216b270-bc14-4559-b9fe-9f780dd94419",
         "x": [
          0,
          1,
          2,
          3,
          4,
          5
         ],
         "y": [
          0.23208083669854676,
          0.2527977282530436,
          0.19048696042606952,
          0.296482743885355,
          0.24442454239361103,
          0.22539208033628902
         ]
        },
        {
         "mode": "lines+markers",
         "type": "scatter",
         "uid": "3d79cdc5-4cf8-431e-a142-7e872c5161bb",
         "x": [
          0,
          1,
          2,
          3,
          4,
          5
         ],
         "y": [
          0.17217490311716907,
          0.1999635394720644,
          0.19749811453715893,
          0.1852061356746619,
          0.20717807190904577,
          0.209192511861161
         ]
        },
        {
         "mode": "lines+markers",
         "type": "scatter",
         "uid": "db1dac4a-ff51-420e-9e1a-00b1851f255f",
         "x": [
          0,
          1,
          2,
          3,
          4,
          5
         ],
         "y": [
          0.21189134620303238,
          0.2292850929590583,
          0.2401452296721663,
          0.24598876866246977,
          0.2229552049156066,
          0.21729496722468805
         ]
        }
       ],
       "layout": {
        "title": {
         "text": "Reprojection Error Plot(fx = 0.3)"
        },
        "xaxis": {
         "title": {
          "text": "bins"
         }
        },
        "yaxis": {
         "title": {
          "text": "error"
         }
        }
       }
      },
      "text/html": [
       "<div>\n",
       "        \n",
       "        \n",
       "            <div id=\"350da88c-d71f-4798-a63b-7cfc52ad3a3d\" class=\"plotly-graph-div\" style=\"height:525px; width:100%;\"></div>\n",
       "            <script type=\"text/javascript\">\n",
       "                require([\"plotly\"], function(Plotly) {\n",
       "                    window.PLOTLYENV=window.PLOTLYENV || {};\n",
       "                    window.PLOTLYENV.BASE_URL='https://plot.ly';\n",
       "                    \n",
       "                if (document.getElementById(\"350da88c-d71f-4798-a63b-7cfc52ad3a3d\")) {\n",
       "                    Plotly.newPlot(\n",
       "                        '350da88c-d71f-4798-a63b-7cfc52ad3a3d',\n",
       "                        [{\"mode\": \"lines+markers\", \"type\": \"scatter\", \"uid\": \"f162de1a-c57d-46d0-9b46-42d7571443e8\", \"x\": [0, 1, 2, 3, 4, 5], \"y\": [0.12782784538732173, 0.15043932557939582, 0.1855350675894626, 0.1420814058386758, 0.13034880839739293, 0.12997445692052362]}, {\"mode\": \"lines+markers\", \"type\": \"scatter\", \"uid\": \"3216b270-bc14-4559-b9fe-9f780dd94419\", \"x\": [0, 1, 2, 3, 4, 5], \"y\": [0.23208083669854676, 0.2527977282530436, 0.19048696042606952, 0.296482743885355, 0.24442454239361103, 0.22539208033628902]}, {\"mode\": \"lines+markers\", \"type\": \"scatter\", \"uid\": \"3d79cdc5-4cf8-431e-a142-7e872c5161bb\", \"x\": [0, 1, 2, 3, 4, 5], \"y\": [0.17217490311716907, 0.1999635394720644, 0.19749811453715893, 0.1852061356746619, 0.20717807190904577, 0.209192511861161]}, {\"mode\": \"lines+markers\", \"type\": \"scatter\", \"uid\": \"db1dac4a-ff51-420e-9e1a-00b1851f255f\", \"x\": [0, 1, 2, 3, 4, 5], \"y\": [0.21189134620303238, 0.2292850929590583, 0.2401452296721663, 0.24598876866246977, 0.2229552049156066, 0.21729496722468805]}],\n",
       "                        {\"title\": {\"text\": \"Reprojection Error Plot(fx = 0.3)\"}, \"xaxis\": {\"title\": {\"text\": \"bins\"}}, \"yaxis\": {\"title\": {\"text\": \"error\"}}},\n",
       "                        {\"showLink\": false, \"linkText\": \"Export to plot.ly\", \"plotlyServerURL\": \"https://plot.ly\", \"responsive\": true}\n",
       "                    ).then(function(){\n",
       "                            \n",
       "var gd = document.getElementById('350da88c-d71f-4798-a63b-7cfc52ad3a3d');\n",
       "var x = new MutationObserver(function (mutations, observer) {{\n",
       "        var display = window.getComputedStyle(gd).display;\n",
       "        if (!display || display === 'none') {{\n",
       "            console.log([gd, 'removed!']);\n",
       "            Plotly.purge(gd);\n",
       "            observer.disconnect();\n",
       "        }}\n",
       "}});\n",
       "\n",
       "// Listen for the removal of the full notebook cells\n",
       "var notebookContainer = gd.closest('#notebook-container');\n",
       "if (notebookContainer) {{\n",
       "    x.observe(notebookContainer, {childList: true});\n",
       "}}\n",
       "\n",
       "// Listen for the clearing of the current output cell\n",
       "var outputEl = gd.closest('.output');\n",
       "if (outputEl) {{\n",
       "    x.observe(outputEl, {childList: true});\n",
       "}}\n",
       "\n",
       "                        })\n",
       "                };\n",
       "                });\n",
       "            </script>\n",
       "        </div>"
      ]
     },
     "metadata": {},
     "output_type": "display_data"
    }
   ],
   "source": [
    "py.offline.iplot(fig1)\n",
    "py.offline.iplot(fig2)\n",
    "py.offline.iplot(fig3)"
   ]
  },
  {
   "cell_type": "code",
   "execution_count": 91,
   "metadata": {},
   "outputs": [
    {
     "data": {
      "application/vnd.plotly.v1+json": {
       "config": {
        "linkText": "Export to plot.ly",
        "plotlyServerURL": "https://plot.ly",
        "showLink": false
       },
       "data": [
        {
         "mode": "lines+markers",
         "type": "scatter",
         "uid": "4121fa05-fb03-45d6-8264-b1b89458cc4d",
         "x": [
          0,
          1,
          2,
          3,
          4,
          5
         ],
         "y": [
          6,
          1,
          7,
          7,
          6,
          5
         ]
        },
        {
         "mode": "lines+markers",
         "type": "scatter",
         "uid": "457777de-5ffd-4f04-b7b5-ad3e475108ab",
         "x": [
          0,
          1,
          2,
          3,
          4,
          5
         ],
         "y": [
          1,
          3,
          7,
          6,
          2,
          7
         ]
        },
        {
         "mode": "lines+markers",
         "type": "scatter",
         "uid": "160ec1c9-f67b-4576-a68b-ceb7c974809a",
         "x": [
          0,
          1,
          2,
          3,
          4,
          5
         ],
         "y": [
          4,
          3,
          11,
          10,
          4,
          5
         ]
        },
        {
         "mode": "lines+markers",
         "type": "scatter",
         "uid": "6ad07c5c-6773-45c3-9ee5-7f3014166071",
         "x": [
          0,
          1,
          2,
          3,
          4,
          5
         ],
         "y": [
          2,
          9,
          16,
          10,
          11,
          2
         ]
        }
       ],
       "layout": {
        "title": {
         "text": "Images detected Plot(fx = 0.1)"
        },
        "xaxis": {
         "title": {
          "text": "bins"
         }
        },
        "yaxis": {
         "title": {
          "text": "num_image"
         }
        }
       }
      },
      "text/html": [
       "<div>\n",
       "        \n",
       "        \n",
       "            <div id=\"8ca1c605-cc06-434c-8dd5-25563615b71a\" class=\"plotly-graph-div\" style=\"height:525px; width:100%;\"></div>\n",
       "            <script type=\"text/javascript\">\n",
       "                require([\"plotly\"], function(Plotly) {\n",
       "                    window.PLOTLYENV=window.PLOTLYENV || {};\n",
       "                    window.PLOTLYENV.BASE_URL='https://plot.ly';\n",
       "                    \n",
       "                if (document.getElementById(\"8ca1c605-cc06-434c-8dd5-25563615b71a\")) {\n",
       "                    Plotly.newPlot(\n",
       "                        '8ca1c605-cc06-434c-8dd5-25563615b71a',\n",
       "                        [{\"mode\": \"lines+markers\", \"type\": \"scatter\", \"uid\": \"4121fa05-fb03-45d6-8264-b1b89458cc4d\", \"x\": [0, 1, 2, 3, 4, 5], \"y\": [6.0, 1.0, 7.0, 7.0, 6.0, 5.0]}, {\"mode\": \"lines+markers\", \"type\": \"scatter\", \"uid\": \"457777de-5ffd-4f04-b7b5-ad3e475108ab\", \"x\": [0, 1, 2, 3, 4, 5], \"y\": [1.0, 3.0, 7.0, 6.0, 2.0, 7.0]}, {\"mode\": \"lines+markers\", \"type\": \"scatter\", \"uid\": \"160ec1c9-f67b-4576-a68b-ceb7c974809a\", \"x\": [0, 1, 2, 3, 4, 5], \"y\": [4.0, 3.0, 11.0, 10.0, 4.0, 5.0]}, {\"mode\": \"lines+markers\", \"type\": \"scatter\", \"uid\": \"6ad07c5c-6773-45c3-9ee5-7f3014166071\", \"x\": [0, 1, 2, 3, 4, 5], \"y\": [2.0, 9.0, 16.0, 10.0, 11.0, 2.0]}],\n",
       "                        {\"title\": {\"text\": \"Images detected Plot(fx = 0.1)\"}, \"xaxis\": {\"title\": {\"text\": \"bins\"}}, \"yaxis\": {\"title\": {\"text\": \"num_image\"}}},\n",
       "                        {\"showLink\": false, \"linkText\": \"Export to plot.ly\", \"plotlyServerURL\": \"https://plot.ly\", \"responsive\": true}\n",
       "                    ).then(function(){\n",
       "                            \n",
       "var gd = document.getElementById('8ca1c605-cc06-434c-8dd5-25563615b71a');\n",
       "var x = new MutationObserver(function (mutations, observer) {{\n",
       "        var display = window.getComputedStyle(gd).display;\n",
       "        if (!display || display === 'none') {{\n",
       "            console.log([gd, 'removed!']);\n",
       "            Plotly.purge(gd);\n",
       "            observer.disconnect();\n",
       "        }}\n",
       "}});\n",
       "\n",
       "// Listen for the removal of the full notebook cells\n",
       "var notebookContainer = gd.closest('#notebook-container');\n",
       "if (notebookContainer) {{\n",
       "    x.observe(notebookContainer, {childList: true});\n",
       "}}\n",
       "\n",
       "// Listen for the clearing of the current output cell\n",
       "var outputEl = gd.closest('.output');\n",
       "if (outputEl) {{\n",
       "    x.observe(outputEl, {childList: true});\n",
       "}}\n",
       "\n",
       "                        })\n",
       "                };\n",
       "                });\n",
       "            </script>\n",
       "        </div>"
      ]
     },
     "metadata": {},
     "output_type": "display_data"
    },
    {
     "data": {
      "application/vnd.plotly.v1+json": {
       "config": {
        "linkText": "Export to plot.ly",
        "plotlyServerURL": "https://plot.ly",
        "showLink": false
       },
       "data": [
        {
         "mode": "lines+markers",
         "type": "scatter",
         "uid": "3148defd-828c-49a4-8922-5168c142337e",
         "x": [
          0,
          1,
          2,
          3,
          4,
          5
         ],
         "y": [
          26,
          23,
          17,
          18,
          15,
          32
         ]
        },
        {
         "mode": "lines+markers",
         "type": "scatter",
         "uid": "7c3a460e-b72c-4043-8341-587132820613",
         "x": [
          0,
          1,
          2,
          3,
          4,
          5
         ],
         "y": [
          16,
          14,
          12,
          16,
          20,
          14
         ]
        },
        {
         "mode": "lines+markers",
         "type": "scatter",
         "uid": "74812666-94c1-46ca-8e11-813ebf7c86d5",
         "x": [
          0,
          1,
          2,
          3,
          4,
          5
         ],
         "y": [
          17,
          21,
          16,
          21,
          20,
          20
         ]
        },
        {
         "mode": "lines+markers",
         "type": "scatter",
         "uid": "590f3ba7-4480-4ec7-8709-25ae86a526a6",
         "x": [
          0,
          1,
          2,
          3,
          4,
          5
         ],
         "y": [
          21,
          16,
          36,
          27,
          16,
          16
         ]
        }
       ],
       "layout": {
        "title": {
         "text": "Images detected Plot(fx = 0.2)"
        },
        "xaxis": {
         "title": {
          "text": "bins"
         }
        },
        "yaxis": {
         "title": {
          "text": "num_image"
         }
        }
       }
      },
      "text/html": [
       "<div>\n",
       "        \n",
       "        \n",
       "            <div id=\"cd679f82-55f4-4d76-a340-508557a5b15c\" class=\"plotly-graph-div\" style=\"height:525px; width:100%;\"></div>\n",
       "            <script type=\"text/javascript\">\n",
       "                require([\"plotly\"], function(Plotly) {\n",
       "                    window.PLOTLYENV=window.PLOTLYENV || {};\n",
       "                    window.PLOTLYENV.BASE_URL='https://plot.ly';\n",
       "                    \n",
       "                if (document.getElementById(\"cd679f82-55f4-4d76-a340-508557a5b15c\")) {\n",
       "                    Plotly.newPlot(\n",
       "                        'cd679f82-55f4-4d76-a340-508557a5b15c',\n",
       "                        [{\"mode\": \"lines+markers\", \"type\": \"scatter\", \"uid\": \"3148defd-828c-49a4-8922-5168c142337e\", \"x\": [0, 1, 2, 3, 4, 5], \"y\": [26.0, 23.0, 17.0, 18.0, 15.0, 32.0]}, {\"mode\": \"lines+markers\", \"type\": \"scatter\", \"uid\": \"7c3a460e-b72c-4043-8341-587132820613\", \"x\": [0, 1, 2, 3, 4, 5], \"y\": [16.0, 14.0, 12.0, 16.0, 20.0, 14.0]}, {\"mode\": \"lines+markers\", \"type\": \"scatter\", \"uid\": \"74812666-94c1-46ca-8e11-813ebf7c86d5\", \"x\": [0, 1, 2, 3, 4, 5], \"y\": [17.0, 21.0, 16.0, 21.0, 20.0, 20.0]}, {\"mode\": \"lines+markers\", \"type\": \"scatter\", \"uid\": \"590f3ba7-4480-4ec7-8709-25ae86a526a6\", \"x\": [0, 1, 2, 3, 4, 5], \"y\": [21.0, 16.0, 36.0, 27.0, 16.0, 16.0]}],\n",
       "                        {\"title\": {\"text\": \"Images detected Plot(fx = 0.2)\"}, \"xaxis\": {\"title\": {\"text\": \"bins\"}}, \"yaxis\": {\"title\": {\"text\": \"num_image\"}}},\n",
       "                        {\"showLink\": false, \"linkText\": \"Export to plot.ly\", \"plotlyServerURL\": \"https://plot.ly\", \"responsive\": true}\n",
       "                    ).then(function(){\n",
       "                            \n",
       "var gd = document.getElementById('cd679f82-55f4-4d76-a340-508557a5b15c');\n",
       "var x = new MutationObserver(function (mutations, observer) {{\n",
       "        var display = window.getComputedStyle(gd).display;\n",
       "        if (!display || display === 'none') {{\n",
       "            console.log([gd, 'removed!']);\n",
       "            Plotly.purge(gd);\n",
       "            observer.disconnect();\n",
       "        }}\n",
       "}});\n",
       "\n",
       "// Listen for the removal of the full notebook cells\n",
       "var notebookContainer = gd.closest('#notebook-container');\n",
       "if (notebookContainer) {{\n",
       "    x.observe(notebookContainer, {childList: true});\n",
       "}}\n",
       "\n",
       "// Listen for the clearing of the current output cell\n",
       "var outputEl = gd.closest('.output');\n",
       "if (outputEl) {{\n",
       "    x.observe(outputEl, {childList: true});\n",
       "}}\n",
       "\n",
       "                        })\n",
       "                };\n",
       "                });\n",
       "            </script>\n",
       "        </div>"
      ]
     },
     "metadata": {},
     "output_type": "display_data"
    },
    {
     "data": {
      "application/vnd.plotly.v1+json": {
       "config": {
        "linkText": "Export to plot.ly",
        "plotlyServerURL": "https://plot.ly",
        "showLink": false
       },
       "data": [
        {
         "mode": "lines+markers",
         "type": "scatter",
         "uid": "b1553f39-2ef8-401c-803c-3c64b53f09f4",
         "x": [
          0,
          1,
          2,
          3,
          4,
          5
         ],
         "y": [
          31,
          32,
          29,
          22,
          20,
          35
         ]
        },
        {
         "mode": "lines+markers",
         "type": "scatter",
         "uid": "a2cb5df6-cad3-49eb-a125-695063b63e60",
         "x": [
          0,
          1,
          2,
          3,
          4,
          5
         ],
         "y": [
          22,
          13,
          16,
          10,
          18,
          16
         ]
        },
        {
         "mode": "lines+markers",
         "type": "scatter",
         "uid": "78586a2a-88a6-43e0-88bc-b1ee994c5a28",
         "x": [
          0,
          1,
          2,
          3,
          4,
          5
         ],
         "y": [
          23,
          23,
          17,
          21,
          19,
          20
         ]
        },
        {
         "mode": "lines+markers",
         "type": "scatter",
         "uid": "a8ae2da8-a05e-403c-b243-91b2069e7320",
         "x": [
          0,
          1,
          2,
          3,
          4,
          5
         ],
         "y": [
          14,
          16,
          22,
          26,
          22,
          18
         ]
        }
       ],
       "layout": {
        "title": {
         "text": "Images detected Plot(fx = 0.3)"
        },
        "xaxis": {
         "title": {
          "text": "bins"
         }
        },
        "yaxis": {
         "title": {
          "text": "num_image"
         }
        }
       }
      },
      "text/html": [
       "<div>\n",
       "        \n",
       "        \n",
       "            <div id=\"9fc49204-9808-4632-93c8-d88917c48bd6\" class=\"plotly-graph-div\" style=\"height:525px; width:100%;\"></div>\n",
       "            <script type=\"text/javascript\">\n",
       "                require([\"plotly\"], function(Plotly) {\n",
       "                    window.PLOTLYENV=window.PLOTLYENV || {};\n",
       "                    window.PLOTLYENV.BASE_URL='https://plot.ly';\n",
       "                    \n",
       "                if (document.getElementById(\"9fc49204-9808-4632-93c8-d88917c48bd6\")) {\n",
       "                    Plotly.newPlot(\n",
       "                        '9fc49204-9808-4632-93c8-d88917c48bd6',\n",
       "                        [{\"mode\": \"lines+markers\", \"type\": \"scatter\", \"uid\": \"b1553f39-2ef8-401c-803c-3c64b53f09f4\", \"x\": [0, 1, 2, 3, 4, 5], \"y\": [31.0, 32.0, 29.0, 22.0, 20.0, 35.0]}, {\"mode\": \"lines+markers\", \"type\": \"scatter\", \"uid\": \"a2cb5df6-cad3-49eb-a125-695063b63e60\", \"x\": [0, 1, 2, 3, 4, 5], \"y\": [22.0, 13.0, 16.0, 10.0, 18.0, 16.0]}, {\"mode\": \"lines+markers\", \"type\": \"scatter\", \"uid\": \"78586a2a-88a6-43e0-88bc-b1ee994c5a28\", \"x\": [0, 1, 2, 3, 4, 5], \"y\": [23.0, 23.0, 17.0, 21.0, 19.0, 20.0]}, {\"mode\": \"lines+markers\", \"type\": \"scatter\", \"uid\": \"a8ae2da8-a05e-403c-b243-91b2069e7320\", \"x\": [0, 1, 2, 3, 4, 5], \"y\": [14.0, 16.0, 22.0, 26.0, 22.0, 18.0]}],\n",
       "                        {\"title\": {\"text\": \"Images detected Plot(fx = 0.3)\"}, \"xaxis\": {\"title\": {\"text\": \"bins\"}}, \"yaxis\": {\"title\": {\"text\": \"num_image\"}}},\n",
       "                        {\"showLink\": false, \"linkText\": \"Export to plot.ly\", \"plotlyServerURL\": \"https://plot.ly\", \"responsive\": true}\n",
       "                    ).then(function(){\n",
       "                            \n",
       "var gd = document.getElementById('9fc49204-9808-4632-93c8-d88917c48bd6');\n",
       "var x = new MutationObserver(function (mutations, observer) {{\n",
       "        var display = window.getComputedStyle(gd).display;\n",
       "        if (!display || display === 'none') {{\n",
       "            console.log([gd, 'removed!']);\n",
       "            Plotly.purge(gd);\n",
       "            observer.disconnect();\n",
       "        }}\n",
       "}});\n",
       "\n",
       "// Listen for the removal of the full notebook cells\n",
       "var notebookContainer = gd.closest('#notebook-container');\n",
       "if (notebookContainer) {{\n",
       "    x.observe(notebookContainer, {childList: true});\n",
       "}}\n",
       "\n",
       "// Listen for the clearing of the current output cell\n",
       "var outputEl = gd.closest('.output');\n",
       "if (outputEl) {{\n",
       "    x.observe(outputEl, {childList: true});\n",
       "}}\n",
       "\n",
       "                        })\n",
       "                };\n",
       "                });\n",
       "            </script>\n",
       "        </div>"
      ]
     },
     "metadata": {},
     "output_type": "display_data"
    }
   ],
   "source": [
    "layout1 = go.Layout(\n",
    "    title='Images detected Plot(fx = 0.1)',\n",
    "    yaxis = dict(title='num_image'),\n",
    "    xaxis = dict(title='bins')\n",
    ")\n",
    "\n",
    "trace11 = go.Scatter(\n",
    "    x = np.arange(6),\n",
    "    y = bin_dict1['./180/c1_180.mp4'],\n",
    "    mode='lines+markers'\n",
    ")\n",
    "\n",
    "trace12 = go.Scatter(\n",
    "    x = np.arange(6),\n",
    "    y = bin_dict1['./180/c2_180.mp4'],\n",
    "    mode='lines+markers'\n",
    ")\n",
    "\n",
    "trace13 = go.Scatter(\n",
    "    x = np.arange(6),\n",
    "    y = bin_dict1['./180/c3_180.mp4'],\n",
    "    mode='lines+markers'\n",
    ")\n",
    "\n",
    "trace14 = go.Scatter(\n",
    "    x = np.arange(6),\n",
    "    y = bin_dict1['./180/c4_180.mp4'],\n",
    "    mode='lines+markers'\n",
    ")\n",
    "\n",
    "\n",
    "layout2 = go.Layout(\n",
    "    title='Images detected Plot(fx = 0.2)',\n",
    "    yaxis = dict(title='num_image'),\n",
    "    xaxis = dict(title='bins')\n",
    ")\n",
    "\n",
    "trace21 = go.Scatter(\n",
    "    x = np.arange(6),\n",
    "    y = bin_dict2['./180/c1_180.mp4'],\n",
    "    mode='lines+markers'\n",
    ")\n",
    "\n",
    "trace22 = go.Scatter(\n",
    "    x = np.arange(6),\n",
    "    y = bin_dict2['./180/c2_180.mp4'],\n",
    "    mode='lines+markers'\n",
    ")\n",
    "\n",
    "trace23 = go.Scatter(\n",
    "    x = np.arange(6),\n",
    "    y = bin_dict2['./180/c3_180.mp4'],\n",
    "    mode='lines+markers'\n",
    ")\n",
    "\n",
    "trace24 = go.Scatter(\n",
    "    x = np.arange(6),\n",
    "    y = bin_dict2['./180/c4_180.mp4'],\n",
    "    mode='lines+markers'\n",
    ")\n",
    "\n",
    "\n",
    "layout3 = go.Layout(\n",
    "    title='Images detected Plot(fx = 0.3)',\n",
    "    yaxis = dict(title='num_image'),\n",
    "    xaxis = dict(title='bins')\n",
    ")\n",
    "\n",
    "trace31 = go.Scatter(\n",
    "    x = np.arange(6),\n",
    "    y = bin_dict3['./180/c1_180.mp4'],\n",
    "    mode='lines+markers'\n",
    ")\n",
    "\n",
    "trace32 = go.Scatter(\n",
    "    x = np.arange(6),\n",
    "    y = bin_dict3['./180/c2_180.mp4'],\n",
    "    mode='lines+markers'\n",
    ")\n",
    "\n",
    "trace33 = go.Scatter(\n",
    "    x = np.arange(6),\n",
    "    y = bin_dict3['./180/c3_180.mp4'],\n",
    "    mode='lines+markers'\n",
    ")\n",
    "\n",
    "trace34 = go.Scatter(\n",
    "    x = np.arange(6),\n",
    "    y = bin_dict3['./180/c4_180.mp4'],\n",
    "    mode='lines+markers'\n",
    ")\n",
    "\n",
    "fig1 = go.Figure(data=[trace11,trace12,trace13,trace14], layout=layout1)\n",
    "fig2 = go.Figure(data=[trace21,trace22,trace23,trace24], layout=layout2)\n",
    "fig3 = go.Figure(data=[trace31,trace32,trace33,trace34], layout=layout3)\n",
    "\n",
    "py.offline.iplot(fig1)\n",
    "py.offline.iplot(fig2)\n",
    "py.offline.iplot(fig3)"
   ]
  },
  {
   "cell_type": "markdown",
   "metadata": {},
   "source": [
    "## Tester for checkerboard detection"
   ]
  },
  {
   "cell_type": "code",
   "execution_count": null,
   "metadata": {},
   "outputs": [],
   "source": [
    "for j in range(1,11):\n",
    "    im = cv2.imread(\"./with_lower_reflectivity.png\")\n",
    "    im = cv2.cvtColor(im, cv2.COLOR_BGR2GRAY)\n",
    "    im[im[:,:] >= 128] = 255\n",
    "    im[im[:,:] < 128] = 0\n",
    "    im = 255 - im\n",
    "    plt.figure()\n",
    "    plt.imshow(im, cmap='gray')\n",
    "    fx = j*0.1\n",
    "    fy = j*0.1\n",
    "    im = cv2.GaussianBlur(im, ksize = (5,5), sigmaX = 1, sigmaY = 1)\n",
    "    im = cv2.resize(im, (0, 0), fx=fx, fy=fy, interpolation=cv2.INTER_AREA)\n",
    "    retval, corners = cv2.findChessboardCorners(im,(nx,ny), None)\n",
    "    print (retval, fx)\n",
    "    if retval == True:\n",
    "        plt.figure()\n",
    "        cv2.drawChessboardCorners(im, (nx, ny), corners, retval)\n",
    "        plt.imshow(im, cmap = 'gray')"
   ]
  }
 ],
 "metadata": {
  "kernelspec": {
   "display_name": "Python 3",
   "language": "python",
   "name": "python3"
  },
  "language_info": {
   "codemirror_mode": {
    "name": "ipython",
    "version": 3
   },
   "file_extension": ".py",
   "mimetype": "text/x-python",
   "name": "python",
   "nbconvert_exporter": "python",
   "pygments_lexer": "ipython3",
   "version": "3.7.3"
  }
 },
 "nbformat": 4,
 "nbformat_minor": 2
}
